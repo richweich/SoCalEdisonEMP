{
 "cells": [
  {
   "cell_type": "code",
   "execution_count": 1,
   "id": "cb424def",
   "metadata": {},
   "outputs": [],
   "source": [
    "import pandas as pd \n",
    "import numpy as np \n",
    "import seaborn as sns \n",
    "import matplotlib.pyplot as plt \n",
    "from scipy import stats"
   ]
  },
  {
   "cell_type": "code",
   "execution_count": 2,
   "id": "8bb01626",
   "metadata": {},
   "outputs": [],
   "source": [
    "df = pd.read_csv(\"whatif_aerosols - Sheet1.csv\")"
   ]
  },
  {
   "cell_type": "code",
   "execution_count": 3,
   "id": "f4f5e7e3",
   "metadata": {},
   "outputs": [
    {
     "data": {
      "text/html": [
       "<div>\n",
       "<style scoped>\n",
       "    .dataframe tbody tr th:only-of-type {\n",
       "        vertical-align: middle;\n",
       "    }\n",
       "\n",
       "    .dataframe tbody tr th {\n",
       "        vertical-align: top;\n",
       "    }\n",
       "\n",
       "    .dataframe thead th {\n",
       "        text-align: right;\n",
       "    }\n",
       "</style>\n",
       "<table border=\"1\" class=\"dataframe\">\n",
       "  <thead>\n",
       "    <tr style=\"text-align: right;\">\n",
       "      <th></th>\n",
       "      <th>index</th>\n",
       "      <th>Year</th>\n",
       "      <th>Month</th>\n",
       "      <th>Total Daily Sunspots</th>\n",
       "      <th>Northern Total Daily Sunspots</th>\n",
       "      <th>Southern Total Daily Sunspots</th>\n",
       "      <th>Earthquake</th>\n",
       "      <th>Magnitude</th>\n",
       "      <th>OutagesCount</th>\n",
       "      <th>MEI</th>\n",
       "      <th>CO2</th>\n",
       "      <th>CH4</th>\n",
       "      <th>N2O</th>\n",
       "      <th>CFC-11</th>\n",
       "      <th>CFC-12</th>\n",
       "      <th>TSI</th>\n",
       "      <th>Aerosols</th>\n",
       "      <th>Temp</th>\n",
       "      <th>if_Aerosols</th>\n",
       "    </tr>\n",
       "  </thead>\n",
       "  <tbody>\n",
       "    <tr>\n",
       "      <th>0</th>\n",
       "      <td>0</td>\n",
       "      <td>1992</td>\n",
       "      <td>1</td>\n",
       "      <td>2.212132</td>\n",
       "      <td>1.076356</td>\n",
       "      <td>2.991963</td>\n",
       "      <td>-1.760718</td>\n",
       "      <td>0.763482</td>\n",
       "      <td>0.0</td>\n",
       "      <td>1.534375</td>\n",
       "      <td>-1.487520</td>\n",
       "      <td>-1.128492</td>\n",
       "      <td>-1.277594</td>\n",
       "      <td>0.831324</td>\n",
       "      <td>-2.946962</td>\n",
       "      <td>1.205094</td>\n",
       "      <td>4.518989</td>\n",
       "      <td>-0.400627</td>\n",
       "      <td>6.518989</td>\n",
       "    </tr>\n",
       "    <tr>\n",
       "      <th>1</th>\n",
       "      <td>1</td>\n",
       "      <td>1992</td>\n",
       "      <td>2</td>\n",
       "      <td>2.517832</td>\n",
       "      <td>1.904234</td>\n",
       "      <td>2.741266</td>\n",
       "      <td>-1.480846</td>\n",
       "      <td>0.213346</td>\n",
       "      <td>0.0</td>\n",
       "      <td>1.660791</td>\n",
       "      <td>-1.406646</td>\n",
       "      <td>-1.413140</td>\n",
       "      <td>-1.370631</td>\n",
       "      <td>0.857259</td>\n",
       "      <td>-2.757169</td>\n",
       "      <td>0.956994</td>\n",
       "      <td>4.556087</td>\n",
       "      <td>-0.500930</td>\n",
       "      <td>6.556087</td>\n",
       "    </tr>\n",
       "    <tr>\n",
       "      <th>2</th>\n",
       "      <td>2</td>\n",
       "      <td>1992</td>\n",
       "      <td>3</td>\n",
       "      <td>1.388318</td>\n",
       "      <td>0.821059</td>\n",
       "      <td>1.735396</td>\n",
       "      <td>-1.396224</td>\n",
       "      <td>0.490418</td>\n",
       "      <td>0.0</td>\n",
       "      <td>1.787207</td>\n",
       "      <td>-1.311938</td>\n",
       "      <td>-1.291588</td>\n",
       "      <td>-1.486399</td>\n",
       "      <td>0.880763</td>\n",
       "      <td>-2.688122</td>\n",
       "      <td>1.785988</td>\n",
       "      <td>4.333498</td>\n",
       "      <td>-0.820644</td>\n",
       "      <td>6.333498</td>\n",
       "    </tr>\n",
       "    <tr>\n",
       "      <th>3</th>\n",
       "      <td>3</td>\n",
       "      <td>1992</td>\n",
       "      <td>4</td>\n",
       "      <td>1.156233</td>\n",
       "      <td>0.054116</td>\n",
       "      <td>2.061096</td>\n",
       "      <td>0.052823</td>\n",
       "      <td>0.965017</td>\n",
       "      <td>0.0</td>\n",
       "      <td>2.078695</td>\n",
       "      <td>-1.186371</td>\n",
       "      <td>-1.247993</td>\n",
       "      <td>-1.534503</td>\n",
       "      <td>0.870342</td>\n",
       "      <td>-2.655429</td>\n",
       "      <td>1.393443</td>\n",
       "      <td>4.191851</td>\n",
       "      <td>-1.240662</td>\n",
       "      <td>6.191851</td>\n",
       "    </tr>\n",
       "    <tr>\n",
       "      <th>4</th>\n",
       "      <td>4</td>\n",
       "      <td>1992</td>\n",
       "      <td>5</td>\n",
       "      <td>0.400976</td>\n",
       "      <td>-0.133942</td>\n",
       "      <td>0.864121</td>\n",
       "      <td>-0.109821</td>\n",
       "      <td>0.584660</td>\n",
       "      <td>0.0</td>\n",
       "      <td>1.931384</td>\n",
       "      <td>-1.127843</td>\n",
       "      <td>-1.697274</td>\n",
       "      <td>-1.567542</td>\n",
       "      <td>0.900793</td>\n",
       "      <td>-2.532068</td>\n",
       "      <td>0.931534</td>\n",
       "      <td>4.168243</td>\n",
       "      <td>-1.284544</td>\n",
       "      <td>6.168243</td>\n",
       "    </tr>\n",
       "  </tbody>\n",
       "</table>\n",
       "</div>"
      ],
      "text/plain": [
       "   index  Year  Month  Total Daily Sunspots  Northern Total Daily Sunspots  \\\n",
       "0      0  1992      1              2.212132                       1.076356   \n",
       "1      1  1992      2              2.517832                       1.904234   \n",
       "2      2  1992      3              1.388318                       0.821059   \n",
       "3      3  1992      4              1.156233                       0.054116   \n",
       "4      4  1992      5              0.400976                      -0.133942   \n",
       "\n",
       "   Southern Total Daily Sunspots  Earthquake  Magnitude  OutagesCount  \\\n",
       "0                       2.991963   -1.760718   0.763482           0.0   \n",
       "1                       2.741266   -1.480846   0.213346           0.0   \n",
       "2                       1.735396   -1.396224   0.490418           0.0   \n",
       "3                       2.061096    0.052823   0.965017           0.0   \n",
       "4                       0.864121   -0.109821   0.584660           0.0   \n",
       "\n",
       "        MEI       CO2       CH4       N2O    CFC-11    CFC-12       TSI  \\\n",
       "0  1.534375 -1.487520 -1.128492 -1.277594  0.831324 -2.946962  1.205094   \n",
       "1  1.660791 -1.406646 -1.413140 -1.370631  0.857259 -2.757169  0.956994   \n",
       "2  1.787207 -1.311938 -1.291588 -1.486399  0.880763 -2.688122  1.785988   \n",
       "3  2.078695 -1.186371 -1.247993 -1.534503  0.870342 -2.655429  1.393443   \n",
       "4  1.931384 -1.127843 -1.697274 -1.567542  0.900793 -2.532068  0.931534   \n",
       "\n",
       "   Aerosols      Temp  if_Aerosols  \n",
       "0  4.518989 -0.400627     6.518989  \n",
       "1  4.556087 -0.500930     6.556087  \n",
       "2  4.333498 -0.820644     6.333498  \n",
       "3  4.191851 -1.240662     6.191851  \n",
       "4  4.168243 -1.284544     6.168243  "
      ]
     },
     "execution_count": 3,
     "metadata": {},
     "output_type": "execute_result"
    }
   ],
   "source": [
    "df.head()"
   ]
  },
  {
   "cell_type": "code",
   "execution_count": 4,
   "id": "6099f985",
   "metadata": {},
   "outputs": [
    {
     "name": "stdout",
     "output_type": "stream",
     "text": [
      "<class 'pandas.core.frame.DataFrame'>\n",
      "RangeIndex: 265 entries, 0 to 264\n",
      "Data columns (total 19 columns):\n",
      " #   Column                         Non-Null Count  Dtype  \n",
      "---  ------                         --------------  -----  \n",
      " 0   index                          265 non-null    int64  \n",
      " 1   Year                           265 non-null    int64  \n",
      " 2   Month                          265 non-null    int64  \n",
      " 3   Total Daily Sunspots           265 non-null    float64\n",
      " 4   Northern Total Daily Sunspots  265 non-null    float64\n",
      " 5   Southern Total Daily Sunspots  265 non-null    float64\n",
      " 6   Earthquake                     264 non-null    float64\n",
      " 7   Magnitude                      264 non-null    float64\n",
      " 8   OutagesCount                   265 non-null    float64\n",
      " 9   MEI                            204 non-null    float64\n",
      " 10  CO2                            204 non-null    float64\n",
      " 11  CH4                            204 non-null    float64\n",
      " 12  N2O                            204 non-null    float64\n",
      " 13  CFC-11                         204 non-null    float64\n",
      " 14  CFC-12                         204 non-null    float64\n",
      " 15  TSI                            204 non-null    float64\n",
      " 16  Aerosols                       204 non-null    float64\n",
      " 17  Temp                           204 non-null    float64\n",
      " 18  if_Aerosols                    204 non-null    float64\n",
      "dtypes: float64(16), int64(3)\n",
      "memory usage: 39.5 KB\n"
     ]
    }
   ],
   "source": [
    "df.info()"
   ]
  },
  {
   "cell_type": "code",
   "execution_count": 5,
   "id": "5e699b6d",
   "metadata": {},
   "outputs": [
    {
     "data": {
      "text/plain": [
       "Index(['index', 'Year', 'Month', 'Total Daily Sunspots',\n",
       "       'Northern Total Daily Sunspots', 'Southern Total Daily Sunspots',\n",
       "       'Earthquake', 'Magnitude', 'OutagesCount', 'MEI', 'CO2', 'CH4', 'N2O',\n",
       "       'CFC-11', 'CFC-12', 'TSI', 'Aerosols', 'Temp', 'if_Aerosols'],\n",
       "      dtype='object')"
      ]
     },
     "execution_count": 5,
     "metadata": {},
     "output_type": "execute_result"
    }
   ],
   "source": [
    "df.columns"
   ]
  },
  {
   "cell_type": "code",
   "execution_count": 6,
   "id": "1f25528e",
   "metadata": {},
   "outputs": [
    {
     "data": {
      "text/html": [
       "<div>\n",
       "<style scoped>\n",
       "    .dataframe tbody tr th:only-of-type {\n",
       "        vertical-align: middle;\n",
       "    }\n",
       "\n",
       "    .dataframe tbody tr th {\n",
       "        vertical-align: top;\n",
       "    }\n",
       "\n",
       "    .dataframe thead th {\n",
       "        text-align: right;\n",
       "    }\n",
       "</style>\n",
       "<table border=\"1\" class=\"dataframe\">\n",
       "  <thead>\n",
       "    <tr style=\"text-align: right;\">\n",
       "      <th></th>\n",
       "      <th>index</th>\n",
       "      <th>Year</th>\n",
       "      <th>Month</th>\n",
       "      <th>Total Daily Sunspots</th>\n",
       "      <th>Northern Total Daily Sunspots</th>\n",
       "      <th>Southern Total Daily Sunspots</th>\n",
       "      <th>Earthquake</th>\n",
       "      <th>Magnitude</th>\n",
       "      <th>OutagesCount</th>\n",
       "      <th>MEI</th>\n",
       "      <th>CO2</th>\n",
       "      <th>CH4</th>\n",
       "      <th>N2O</th>\n",
       "      <th>CFC-11</th>\n",
       "      <th>CFC-12</th>\n",
       "      <th>TSI</th>\n",
       "      <th>Aerosols</th>\n",
       "      <th>Temp</th>\n",
       "      <th>if_Aerosols</th>\n",
       "    </tr>\n",
       "  </thead>\n",
       "  <tbody>\n",
       "    <tr>\n",
       "      <th>count</th>\n",
       "      <td>265.000000</td>\n",
       "      <td>265.000000</td>\n",
       "      <td>265.000000</td>\n",
       "      <td>2.650000e+02</td>\n",
       "      <td>2.650000e+02</td>\n",
       "      <td>2.650000e+02</td>\n",
       "      <td>264.000000</td>\n",
       "      <td>264.000000</td>\n",
       "      <td>2.650000e+02</td>\n",
       "      <td>2.040000e+02</td>\n",
       "      <td>2.040000e+02</td>\n",
       "      <td>2.040000e+02</td>\n",
       "      <td>2.040000e+02</td>\n",
       "      <td>2.040000e+02</td>\n",
       "      <td>2.040000e+02</td>\n",
       "      <td>2.040000e+02</td>\n",
       "      <td>2.040000e+02</td>\n",
       "      <td>2.040000e+02</td>\n",
       "      <td>204.000000</td>\n",
       "    </tr>\n",
       "    <tr>\n",
       "      <th>mean</th>\n",
       "      <td>132.000000</td>\n",
       "      <td>2002.543396</td>\n",
       "      <td>6.479245</td>\n",
       "      <td>-9.860376e-12</td>\n",
       "      <td>1.558869e-11</td>\n",
       "      <td>-6.675455e-12</td>\n",
       "      <td>-0.330356</td>\n",
       "      <td>0.214755</td>\n",
       "      <td>-1.815095e-11</td>\n",
       "      <td>-1.260294e-11</td>\n",
       "      <td>8.137177e-12</td>\n",
       "      <td>-4.313761e-12</td>\n",
       "      <td>4.509857e-12</td>\n",
       "      <td>1.477448e-11</td>\n",
       "      <td>-4.225500e-12</td>\n",
       "      <td>1.504888e-12</td>\n",
       "      <td>-9.705909e-12</td>\n",
       "      <td>9.133818e-12</td>\n",
       "      <td>2.000000</td>\n",
       "    </tr>\n",
       "    <tr>\n",
       "      <th>std</th>\n",
       "      <td>76.643112</td>\n",
       "      <td>6.383499</td>\n",
       "      <td>3.468547</td>\n",
       "      <td>1.001892e+00</td>\n",
       "      <td>1.001892e+00</td>\n",
       "      <td>1.001892e+00</td>\n",
       "      <td>0.865230</td>\n",
       "      <td>0.972481</td>\n",
       "      <td>7.612788e-01</td>\n",
       "      <td>1.002460e+00</td>\n",
       "      <td>1.002460e+00</td>\n",
       "      <td>1.002460e+00</td>\n",
       "      <td>1.002460e+00</td>\n",
       "      <td>1.002460e+00</td>\n",
       "      <td>1.002460e+00</td>\n",
       "      <td>1.002460e+00</td>\n",
       "      <td>1.002460e+00</td>\n",
       "      <td>1.002460e+00</td>\n",
       "      <td>1.002460</td>\n",
       "    </tr>\n",
       "    <tr>\n",
       "      <th>min</th>\n",
       "      <td>0.000000</td>\n",
       "      <td>1992.000000</td>\n",
       "      <td>1.000000</td>\n",
       "      <td>-1.241596e+00</td>\n",
       "      <td>-1.104703e+00</td>\n",
       "      <td>-1.189744e+00</td>\n",
       "      <td>-1.760718</td>\n",
       "      <td>-2.351292</td>\n",
       "      <td>-1.029701e+00</td>\n",
       "      <td>-2.002141e+00</td>\n",
       "      <td>-1.832298e+00</td>\n",
       "      <td>-2.663023e+00</td>\n",
       "      <td>-1.567542e+00</td>\n",
       "      <td>-1.943928e+00</td>\n",
       "      <td>-2.946962e+00</td>\n",
       "      <td>-1.527391e+00</td>\n",
       "      <td>-4.285456e-01</td>\n",
       "      <td>-2.676244e+00</td>\n",
       "      <td>1.571454</td>\n",
       "    </tr>\n",
       "    <tr>\n",
       "      <th>25%</th>\n",
       "      <td>66.000000</td>\n",
       "      <td>1997.000000</td>\n",
       "      <td>3.000000</td>\n",
       "      <td>-8.774543e-01</td>\n",
       "      <td>-8.410007e-01</td>\n",
       "      <td>-8.496594e-01</td>\n",
       "      <td>-1.022900</td>\n",
       "      <td>-0.422739</td>\n",
       "      <td>-3.607232e-01</td>\n",
       "      <td>-7.575694e-01</td>\n",
       "      <td>-8.700577e-01</td>\n",
       "      <td>-6.669022e-01</td>\n",
       "      <td>-9.820298e-01</td>\n",
       "      <td>-8.957697e-01</td>\n",
       "      <td>-4.111306e-01</td>\n",
       "      <td>-8.734311e-01</td>\n",
       "      <td>-4.057809e-01</td>\n",
       "      <td>-7.344468e-01</td>\n",
       "      <td>1.594219</td>\n",
       "    </tr>\n",
       "    <tr>\n",
       "      <th>50%</th>\n",
       "      <td>132.000000</td>\n",
       "      <td>2003.000000</td>\n",
       "      <td>6.000000</td>\n",
       "      <td>-1.626573e-01</td>\n",
       "      <td>-2.516104e-01</td>\n",
       "      <td>-2.383288e-01</td>\n",
       "      <td>-0.273630</td>\n",
       "      <td>0.371668</td>\n",
       "      <td>0.000000e+00</td>\n",
       "      <td>-3.590085e-02</td>\n",
       "      <td>-5.307094e-02</td>\n",
       "      <td>1.267764e-01</td>\n",
       "      <td>1.061994e-01</td>\n",
       "      <td>1.824918e-01</td>\n",
       "      <td>4.584118e-01</td>\n",
       "      <td>-3.467692e-01</td>\n",
       "      <td>-3.610945e-01</td>\n",
       "      <td>1.886514e-01</td>\n",
       "      <td>1.638905</td>\n",
       "    </tr>\n",
       "    <tr>\n",
       "      <th>75%</th>\n",
       "      <td>198.000000</td>\n",
       "      <td>2008.000000</td>\n",
       "      <td>9.000000</td>\n",
       "      <td>6.695868e-01</td>\n",
       "      <td>6.708222e-01</td>\n",
       "      <td>6.463025e-01</td>\n",
       "      <td>0.174418</td>\n",
       "      <td>0.863325</td>\n",
       "      <td>0.000000e+00</td>\n",
       "      <td>5.624860e-01</td>\n",
       "      <td>8.575594e-01</td>\n",
       "      <td>8.213413e-01</td>\n",
       "      <td>8.037127e-01</td>\n",
       "      <td>9.291587e-01</td>\n",
       "      <td>7.544127e-01</td>\n",
       "      <td>7.378595e-01</td>\n",
       "      <td>-2.557023e-01</td>\n",
       "      <td>7.465852e-01</td>\n",
       "      <td>1.744298</td>\n",
       "    </tr>\n",
       "    <tr>\n",
       "      <th>max</th>\n",
       "      <td>264.000000</td>\n",
       "      <td>2014.000000</td>\n",
       "      <td>12.000000</td>\n",
       "      <td>3.014593e+00</td>\n",
       "      <td>3.237454e+00</td>\n",
       "      <td>3.051555e+00</td>\n",
       "      <td>4.134842</td>\n",
       "      <td>2.141963</td>\n",
       "      <td>4.545112e+00</td>\n",
       "      <td>2.841371e+00</td>\n",
       "      <td>1.952816e+00</td>\n",
       "      <td>1.877485e+00</td>\n",
       "      <td>1.815358e+00</td>\n",
       "      <td>1.230072e+00</td>\n",
       "      <td>9.191629e-01</td>\n",
       "      <td>3.266798e+00</td>\n",
       "      <td>4.556087e+00</td>\n",
       "      <td>2.564571e+00</td>\n",
       "      <td>6.556087</td>\n",
       "    </tr>\n",
       "  </tbody>\n",
       "</table>\n",
       "</div>"
      ],
      "text/plain": [
       "            index         Year       Month  Total Daily Sunspots  \\\n",
       "count  265.000000   265.000000  265.000000          2.650000e+02   \n",
       "mean   132.000000  2002.543396    6.479245         -9.860376e-12   \n",
       "std     76.643112     6.383499    3.468547          1.001892e+00   \n",
       "min      0.000000  1992.000000    1.000000         -1.241596e+00   \n",
       "25%     66.000000  1997.000000    3.000000         -8.774543e-01   \n",
       "50%    132.000000  2003.000000    6.000000         -1.626573e-01   \n",
       "75%    198.000000  2008.000000    9.000000          6.695868e-01   \n",
       "max    264.000000  2014.000000   12.000000          3.014593e+00   \n",
       "\n",
       "       Northern Total Daily Sunspots  Southern Total Daily Sunspots  \\\n",
       "count                   2.650000e+02                   2.650000e+02   \n",
       "mean                    1.558869e-11                  -6.675455e-12   \n",
       "std                     1.001892e+00                   1.001892e+00   \n",
       "min                    -1.104703e+00                  -1.189744e+00   \n",
       "25%                    -8.410007e-01                  -8.496594e-01   \n",
       "50%                    -2.516104e-01                  -2.383288e-01   \n",
       "75%                     6.708222e-01                   6.463025e-01   \n",
       "max                     3.237454e+00                   3.051555e+00   \n",
       "\n",
       "       Earthquake   Magnitude  OutagesCount           MEI           CO2  \\\n",
       "count  264.000000  264.000000  2.650000e+02  2.040000e+02  2.040000e+02   \n",
       "mean    -0.330356    0.214755 -1.815095e-11 -1.260294e-11  8.137177e-12   \n",
       "std      0.865230    0.972481  7.612788e-01  1.002460e+00  1.002460e+00   \n",
       "min     -1.760718   -2.351292 -1.029701e+00 -2.002141e+00 -1.832298e+00   \n",
       "25%     -1.022900   -0.422739 -3.607232e-01 -7.575694e-01 -8.700577e-01   \n",
       "50%     -0.273630    0.371668  0.000000e+00 -3.590085e-02 -5.307094e-02   \n",
       "75%      0.174418    0.863325  0.000000e+00  5.624860e-01  8.575594e-01   \n",
       "max      4.134842    2.141963  4.545112e+00  2.841371e+00  1.952816e+00   \n",
       "\n",
       "                CH4           N2O        CFC-11        CFC-12           TSI  \\\n",
       "count  2.040000e+02  2.040000e+02  2.040000e+02  2.040000e+02  2.040000e+02   \n",
       "mean  -4.313761e-12  4.509857e-12  1.477448e-11 -4.225500e-12  1.504888e-12   \n",
       "std    1.002460e+00  1.002460e+00  1.002460e+00  1.002460e+00  1.002460e+00   \n",
       "min   -2.663023e+00 -1.567542e+00 -1.943928e+00 -2.946962e+00 -1.527391e+00   \n",
       "25%   -6.669022e-01 -9.820298e-01 -8.957697e-01 -4.111306e-01 -8.734311e-01   \n",
       "50%    1.267764e-01  1.061994e-01  1.824918e-01  4.584118e-01 -3.467692e-01   \n",
       "75%    8.213413e-01  8.037127e-01  9.291587e-01  7.544127e-01  7.378595e-01   \n",
       "max    1.877485e+00  1.815358e+00  1.230072e+00  9.191629e-01  3.266798e+00   \n",
       "\n",
       "           Aerosols          Temp  if_Aerosols  \n",
       "count  2.040000e+02  2.040000e+02   204.000000  \n",
       "mean  -9.705909e-12  9.133818e-12     2.000000  \n",
       "std    1.002460e+00  1.002460e+00     1.002460  \n",
       "min   -4.285456e-01 -2.676244e+00     1.571454  \n",
       "25%   -4.057809e-01 -7.344468e-01     1.594219  \n",
       "50%   -3.610945e-01  1.886514e-01     1.638905  \n",
       "75%   -2.557023e-01  7.465852e-01     1.744298  \n",
       "max    4.556087e+00  2.564571e+00     6.556087  "
      ]
     },
     "execution_count": 6,
     "metadata": {},
     "output_type": "execute_result"
    }
   ],
   "source": [
    "df.describe()"
   ]
  },
  {
   "cell_type": "code",
   "execution_count": 7,
   "id": "a467d651",
   "metadata": {},
   "outputs": [
    {
     "data": {
      "text/plain": [
       "index                             0\n",
       "Year                              0\n",
       "Month                             0\n",
       "Total Daily Sunspots              0\n",
       "Northern Total Daily Sunspots     0\n",
       "Southern Total Daily Sunspots     0\n",
       "Earthquake                        1\n",
       "Magnitude                         1\n",
       "OutagesCount                      0\n",
       "MEI                              61\n",
       "CO2                              61\n",
       "CH4                              61\n",
       "N2O                              61\n",
       "CFC-11                           61\n",
       "CFC-12                           61\n",
       "TSI                              61\n",
       "Aerosols                         61\n",
       "Temp                             61\n",
       "if_Aerosols                      61\n",
       "dtype: int64"
      ]
     },
     "execution_count": 7,
     "metadata": {},
     "output_type": "execute_result"
    }
   ],
   "source": [
    "df.isna().sum()"
   ]
  },
  {
   "cell_type": "code",
   "execution_count": 8,
   "id": "5f136ba4",
   "metadata": {},
   "outputs": [
    {
     "name": "stdout",
     "output_type": "stream",
     "text": [
      "<class 'pandas.core.frame.DataFrame'>\n",
      "Index: 204 entries, 0 to 203\n",
      "Data columns (total 19 columns):\n",
      " #   Column                         Non-Null Count  Dtype  \n",
      "---  ------                         --------------  -----  \n",
      " 0   index                          204 non-null    int64  \n",
      " 1   Year                           204 non-null    int64  \n",
      " 2   Month                          204 non-null    int64  \n",
      " 3   Total Daily Sunspots           204 non-null    float64\n",
      " 4   Northern Total Daily Sunspots  204 non-null    float64\n",
      " 5   Southern Total Daily Sunspots  204 non-null    float64\n",
      " 6   Earthquake                     204 non-null    float64\n",
      " 7   Magnitude                      204 non-null    float64\n",
      " 8   OutagesCount                   204 non-null    float64\n",
      " 9   MEI                            204 non-null    float64\n",
      " 10  CO2                            204 non-null    float64\n",
      " 11  CH4                            204 non-null    float64\n",
      " 12  N2O                            204 non-null    float64\n",
      " 13  CFC-11                         204 non-null    float64\n",
      " 14  CFC-12                         204 non-null    float64\n",
      " 15  TSI                            204 non-null    float64\n",
      " 16  Aerosols                       204 non-null    float64\n",
      " 17  Temp                           204 non-null    float64\n",
      " 18  if_Aerosols                    204 non-null    float64\n",
      "dtypes: float64(16), int64(3)\n",
      "memory usage: 31.9 KB\n"
     ]
    }
   ],
   "source": [
    "df2 = df.dropna()\n",
    "df2.info()"
   ]
  },
  {
   "cell_type": "code",
   "execution_count": 9,
   "id": "439ba1a1",
   "metadata": {},
   "outputs": [
    {
     "data": {
      "text/plain": [
       "index                            0\n",
       "Year                             0\n",
       "Month                            0\n",
       "Total Daily Sunspots             0\n",
       "Northern Total Daily Sunspots    0\n",
       "Southern Total Daily Sunspots    0\n",
       "Earthquake                       0\n",
       "Magnitude                        0\n",
       "OutagesCount                     0\n",
       "MEI                              0\n",
       "CO2                              0\n",
       "CH4                              0\n",
       "N2O                              0\n",
       "CFC-11                           0\n",
       "CFC-12                           0\n",
       "TSI                              0\n",
       "Aerosols                         0\n",
       "Temp                             0\n",
       "if_Aerosols                      0\n",
       "dtype: int64"
      ]
     },
     "execution_count": 9,
     "metadata": {},
     "output_type": "execute_result"
    }
   ],
   "source": [
    "df2.isna().sum()"
   ]
  },
  {
   "cell_type": "code",
   "execution_count": 10,
   "id": "4a6f2dca",
   "metadata": {},
   "outputs": [
    {
     "name": "stdout",
     "output_type": "stream",
     "text": [
      "Requirement already satisfied: dmba in c:\\users\\richw\\anaconda3\\lib\\site-packages (0.2.4)\n",
      "Requirement already satisfied: graphviz in c:\\users\\richw\\anaconda3\\lib\\site-packages (from dmba) (0.20.3)\n",
      "Requirement already satisfied: matplotlib in c:\\users\\richw\\anaconda3\\lib\\site-packages (from dmba) (3.7.2)\n",
      "Requirement already satisfied: numpy in c:\\users\\richw\\anaconda3\\lib\\site-packages (from dmba) (1.24.3)\n",
      "Requirement already satisfied: pandas in c:\\users\\richw\\anaconda3\\lib\\site-packages (from dmba) (2.0.3)\n",
      "Requirement already satisfied: scikit-learn in c:\\users\\richw\\anaconda3\\lib\\site-packages (from dmba) (1.3.0)\n",
      "Requirement already satisfied: scipy in c:\\users\\richw\\anaconda3\\lib\\site-packages (from dmba) (1.11.1)\n",
      "Requirement already satisfied: contourpy>=1.0.1 in c:\\users\\richw\\anaconda3\\lib\\site-packages (from matplotlib->dmba) (1.0.5)\n",
      "Requirement already satisfied: cycler>=0.10 in c:\\users\\richw\\anaconda3\\lib\\site-packages (from matplotlib->dmba) (0.11.0)\n",
      "Requirement already satisfied: fonttools>=4.22.0 in c:\\users\\richw\\anaconda3\\lib\\site-packages (from matplotlib->dmba) (4.25.0)\n",
      "Requirement already satisfied: kiwisolver>=1.0.1 in c:\\users\\richw\\anaconda3\\lib\\site-packages (from matplotlib->dmba) (1.4.4)\n",
      "Requirement already satisfied: packaging>=20.0 in c:\\users\\richw\\anaconda3\\lib\\site-packages (from matplotlib->dmba) (23.1)\n",
      "Requirement already satisfied: pillow>=6.2.0 in c:\\users\\richw\\anaconda3\\lib\\site-packages (from matplotlib->dmba) (10.0.1)\n",
      "Requirement already satisfied: pyparsing<3.1,>=2.3.1 in c:\\users\\richw\\anaconda3\\lib\\site-packages (from matplotlib->dmba) (3.0.9)\n",
      "Requirement already satisfied: python-dateutil>=2.7 in c:\\users\\richw\\anaconda3\\lib\\site-packages (from matplotlib->dmba) (2.8.2)\n",
      "Requirement already satisfied: pytz>=2020.1 in c:\\users\\richw\\anaconda3\\lib\\site-packages (from pandas->dmba) (2023.3.post1)\n",
      "Requirement already satisfied: tzdata>=2022.1 in c:\\users\\richw\\anaconda3\\lib\\site-packages (from pandas->dmba) (2023.3)\n",
      "Requirement already satisfied: joblib>=1.1.1 in c:\\users\\richw\\anaconda3\\lib\\site-packages (from scikit-learn->dmba) (1.2.0)\n",
      "Requirement already satisfied: threadpoolctl>=2.0.0 in c:\\users\\richw\\anaconda3\\lib\\site-packages (from scikit-learn->dmba) (2.2.0)\n",
      "Requirement already satisfied: six>=1.5 in c:\\users\\richw\\anaconda3\\lib\\site-packages (from python-dateutil>=2.7->matplotlib->dmba) (1.16.0)\n"
     ]
    }
   ],
   "source": [
    "%matplotlib inline\n",
    "from pathlib import Path\n",
    "\n",
    "from sklearn.model_selection import train_test_split\n",
    "from sklearn.linear_model import LinearRegression, Lasso, Ridge, LassoCV, BayesianRidge\n",
    "import statsmodels.formula.api as sm\n",
    "\n",
    "!pip install dmba\n",
    "from dmba import regressionSummary, exhaustive_search\n",
    "from dmba import backward_elimination, forward_selection, stepwise_selection\n",
    "from dmba import adjusted_r2_score, AIC_score, BIC_score"
   ]
  },
  {
   "cell_type": "markdown",
   "id": "9d42ac9a",
   "metadata": {},
   "source": [
    "# What if Aerosols MLR "
   ]
  },
  {
   "cell_type": "code",
   "execution_count": 11,
   "id": "d8a5a7a1",
   "metadata": {},
   "outputs": [
    {
     "name": "stdout",
     "output_type": "stream",
     "text": [
      "(204, 5)\n"
     ]
    },
    {
     "data": {
      "text/html": [
       "<div>\n",
       "<style scoped>\n",
       "    .dataframe tbody tr th:only-of-type {\n",
       "        vertical-align: middle;\n",
       "    }\n",
       "\n",
       "    .dataframe tbody tr th {\n",
       "        vertical-align: top;\n",
       "    }\n",
       "\n",
       "    .dataframe thead th {\n",
       "        text-align: right;\n",
       "    }\n",
       "</style>\n",
       "<table border=\"1\" class=\"dataframe\">\n",
       "  <thead>\n",
       "    <tr style=\"text-align: right;\">\n",
       "      <th></th>\n",
       "      <th>if_Aerosols</th>\n",
       "      <th>CO2</th>\n",
       "      <th>N2O</th>\n",
       "      <th>Year</th>\n",
       "      <th>Month</th>\n",
       "    </tr>\n",
       "  </thead>\n",
       "  <tbody>\n",
       "    <tr>\n",
       "      <th>0</th>\n",
       "      <td>6.518989</td>\n",
       "      <td>-1.48752</td>\n",
       "      <td>-1.277594</td>\n",
       "      <td>1992</td>\n",
       "      <td>1</td>\n",
       "    </tr>\n",
       "  </tbody>\n",
       "</table>\n",
       "</div>"
      ],
      "text/plain": [
       "   if_Aerosols      CO2       N2O  Year  Month\n",
       "0     6.518989 -1.48752 -1.277594  1992      1"
      ]
     },
     "execution_count": 11,
     "metadata": {},
     "output_type": "execute_result"
    }
   ],
   "source": [
    "predictors = ['if_Aerosols', 'CO2', 'N2O', 'Year', 'Month']\n",
    "\n",
    "outcome = 'Earthquake'\n",
    "\n",
    "X = df2[predictors]\n",
    "y = df2[outcome]\n",
    "\n",
    "print(X.shape)\n",
    "X.head(1)"
   ]
  },
  {
   "cell_type": "code",
   "execution_count": 12,
   "id": "410b1833",
   "metadata": {},
   "outputs": [],
   "source": [
    "train_X, valid_X, train_y, valid_y = train_test_split(X, y, test_size=0.4, random_state=1)"
   ]
  },
  {
   "cell_type": "code",
   "execution_count": 13,
   "id": "7a087464",
   "metadata": {},
   "outputs": [
    {
     "data": {
      "text/html": [
       "<style>#sk-container-id-1 {color: black;}#sk-container-id-1 pre{padding: 0;}#sk-container-id-1 div.sk-toggleable {background-color: white;}#sk-container-id-1 label.sk-toggleable__label {cursor: pointer;display: block;width: 100%;margin-bottom: 0;padding: 0.3em;box-sizing: border-box;text-align: center;}#sk-container-id-1 label.sk-toggleable__label-arrow:before {content: \"▸\";float: left;margin-right: 0.25em;color: #696969;}#sk-container-id-1 label.sk-toggleable__label-arrow:hover:before {color: black;}#sk-container-id-1 div.sk-estimator:hover label.sk-toggleable__label-arrow:before {color: black;}#sk-container-id-1 div.sk-toggleable__content {max-height: 0;max-width: 0;overflow: hidden;text-align: left;background-color: #f0f8ff;}#sk-container-id-1 div.sk-toggleable__content pre {margin: 0.2em;color: black;border-radius: 0.25em;background-color: #f0f8ff;}#sk-container-id-1 input.sk-toggleable__control:checked~div.sk-toggleable__content {max-height: 200px;max-width: 100%;overflow: auto;}#sk-container-id-1 input.sk-toggleable__control:checked~label.sk-toggleable__label-arrow:before {content: \"▾\";}#sk-container-id-1 div.sk-estimator input.sk-toggleable__control:checked~label.sk-toggleable__label {background-color: #d4ebff;}#sk-container-id-1 div.sk-label input.sk-toggleable__control:checked~label.sk-toggleable__label {background-color: #d4ebff;}#sk-container-id-1 input.sk-hidden--visually {border: 0;clip: rect(1px 1px 1px 1px);clip: rect(1px, 1px, 1px, 1px);height: 1px;margin: -1px;overflow: hidden;padding: 0;position: absolute;width: 1px;}#sk-container-id-1 div.sk-estimator {font-family: monospace;background-color: #f0f8ff;border: 1px dotted black;border-radius: 0.25em;box-sizing: border-box;margin-bottom: 0.5em;}#sk-container-id-1 div.sk-estimator:hover {background-color: #d4ebff;}#sk-container-id-1 div.sk-parallel-item::after {content: \"\";width: 100%;border-bottom: 1px solid gray;flex-grow: 1;}#sk-container-id-1 div.sk-label:hover label.sk-toggleable__label {background-color: #d4ebff;}#sk-container-id-1 div.sk-serial::before {content: \"\";position: absolute;border-left: 1px solid gray;box-sizing: border-box;top: 0;bottom: 0;left: 50%;z-index: 0;}#sk-container-id-1 div.sk-serial {display: flex;flex-direction: column;align-items: center;background-color: white;padding-right: 0.2em;padding-left: 0.2em;position: relative;}#sk-container-id-1 div.sk-item {position: relative;z-index: 1;}#sk-container-id-1 div.sk-parallel {display: flex;align-items: stretch;justify-content: center;background-color: white;position: relative;}#sk-container-id-1 div.sk-item::before, #sk-container-id-1 div.sk-parallel-item::before {content: \"\";position: absolute;border-left: 1px solid gray;box-sizing: border-box;top: 0;bottom: 0;left: 50%;z-index: -1;}#sk-container-id-1 div.sk-parallel-item {display: flex;flex-direction: column;z-index: 1;position: relative;background-color: white;}#sk-container-id-1 div.sk-parallel-item:first-child::after {align-self: flex-end;width: 50%;}#sk-container-id-1 div.sk-parallel-item:last-child::after {align-self: flex-start;width: 50%;}#sk-container-id-1 div.sk-parallel-item:only-child::after {width: 0;}#sk-container-id-1 div.sk-dashed-wrapped {border: 1px dashed gray;margin: 0 0.4em 0.5em 0.4em;box-sizing: border-box;padding-bottom: 0.4em;background-color: white;}#sk-container-id-1 div.sk-label label {font-family: monospace;font-weight: bold;display: inline-block;line-height: 1.2em;}#sk-container-id-1 div.sk-label-container {text-align: center;}#sk-container-id-1 div.sk-container {/* jupyter's `normalize.less` sets `[hidden] { display: none; }` but bootstrap.min.css set `[hidden] { display: none !important; }` so we also need the `!important` here to be able to override the default hidden behavior on the sphinx rendered scikit-learn.org. See: https://github.com/scikit-learn/scikit-learn/issues/21755 */display: inline-block !important;position: relative;}#sk-container-id-1 div.sk-text-repr-fallback {display: none;}</style><div id=\"sk-container-id-1\" class=\"sk-top-container\"><div class=\"sk-text-repr-fallback\"><pre>LinearRegression()</pre><b>In a Jupyter environment, please rerun this cell to show the HTML representation or trust the notebook. <br />On GitHub, the HTML representation is unable to render, please try loading this page with nbviewer.org.</b></div><div class=\"sk-container\" hidden><div class=\"sk-item\"><div class=\"sk-estimator sk-toggleable\"><input class=\"sk-toggleable__control sk-hidden--visually\" id=\"sk-estimator-id-1\" type=\"checkbox\" checked><label for=\"sk-estimator-id-1\" class=\"sk-toggleable__label sk-toggleable__label-arrow\">LinearRegression</label><div class=\"sk-toggleable__content\"><pre>LinearRegression()</pre></div></div></div></div></div>"
      ],
      "text/plain": [
       "LinearRegression()"
      ]
     },
     "execution_count": 13,
     "metadata": {},
     "output_type": "execute_result"
    }
   ],
   "source": [
    "lm = LinearRegression()\n",
    "lm.fit(train_X, train_y)"
   ]
  },
  {
   "cell_type": "code",
   "execution_count": 14,
   "id": "4a4d4d77",
   "metadata": {},
   "outputs": [
    {
     "name": "stdout",
     "output_type": "stream",
     "text": [
      "intercept  -1526.1703143146558\n",
      "     Predictor  coefficient\n",
      "0  if_Aerosols     0.542790\n",
      "1          CO2    -0.147517\n",
      "2          N2O    -2.930460\n",
      "3         Year     0.762067\n",
      "4        Month     0.069541\n",
      "\n",
      "Regression statistics\n",
      "\n",
      "                      Mean Error (ME) : -0.0000\n",
      "       Root Mean Squared Error (RMSE) : 0.6255\n",
      "            Mean Absolute Error (MAE) : 0.4438\n",
      "          Mean Percentage Error (MPE) : 175.2441\n",
      "Mean Absolute Percentage Error (MAPE) : 235.7380\n"
     ]
    }
   ],
   "source": [
    "print('intercept ', lm.intercept_)\n",
    "print(pd.DataFrame({'Predictor': X.columns, 'coefficient': lm.coef_}))\n",
    "\n",
    "# print performance measures\n",
    "regressionSummary(train_y, lm.predict(train_X))"
   ]
  },
  {
   "cell_type": "code",
   "execution_count": 15,
   "id": "fc930615",
   "metadata": {},
   "outputs": [
    {
     "name": "stdout",
     "output_type": "stream",
     "text": [
      "                            OLS Regression Results                            \n",
      "==============================================================================\n",
      "Dep. Variable:             Earthquake   R-squared:                       0.379\n",
      "Model:                            OLS   Adj. R-squared:                  0.352\n",
      "Method:                 Least Squares   F-statistic:                     14.14\n",
      "Date:                Wed, 08 May 2024   Prob (F-statistic):           8.59e-11\n",
      "Time:                        12:46:51   Log-Likelihood:                -115.86\n",
      "No. Observations:                 122   AIC:                             243.7\n",
      "Df Residuals:                     116   BIC:                             260.5\n",
      "Df Model:                           5                                         \n",
      "Covariance Type:            nonrobust                                         \n",
      "===============================================================================\n",
      "                  coef    std err          t      P>|t|      [0.025      0.975]\n",
      "-------------------------------------------------------------------------------\n",
      "const       -1526.1703    408.399     -3.737      0.000   -2335.055    -717.286\n",
      "if_Aerosols     0.5428      0.095      5.694      0.000       0.354       0.732\n",
      "CO2            -0.1475      0.346     -0.426      0.671      -0.833       0.538\n",
      "N2O            -2.9305      0.841     -3.486      0.001      -4.595      -1.265\n",
      "Year            0.7621      0.204      3.734      0.000       0.358       1.166\n",
      "Month           0.0695      0.022      3.136      0.002       0.026       0.113\n",
      "==============================================================================\n",
      "Omnibus:                       46.202   Durbin-Watson:                   1.940\n",
      "Prob(Omnibus):                  0.000   Jarque-Bera (JB):              142.246\n",
      "Skew:                           1.375   Prob(JB):                     1.29e-31\n",
      "Kurtosis:                       7.518   Cond. No.                     1.41e+07\n",
      "==============================================================================\n",
      "\n",
      "Notes:\n",
      "[1] Standard Errors assume that the covariance matrix of the errors is correctly specified.\n",
      "[2] The condition number is large, 1.41e+07. This might indicate that there are\n",
      "strong multicollinearity or other numerical problems.\n"
     ]
    }
   ],
   "source": [
    "import statsmodels.api as sm\n",
    "# Add a constant to the independent values to represent the intercept\n",
    "X_train_with_constant = sm.add_constant(train_X)\n",
    "\n",
    "# Fit the model\n",
    "model = sm.OLS(train_y, X_train_with_constant).fit()\n",
    "\n",
    "#Print the summary of the model\n",
    "print(model.summary())"
   ]
  },
  {
   "cell_type": "code",
   "execution_count": 16,
   "id": "4f01f214",
   "metadata": {},
   "outputs": [
    {
     "name": "stdout",
     "output_type": "stream",
     "text": [
      "Intercept: -1526.1703143146558\n",
      "     Predictor  Coefficient\n",
      "0  if_Aerosols     0.542790\n",
      "1          CO2    -0.147517\n",
      "2          N2O    -2.930460\n",
      "3         Year     0.762067\n",
      "4        Month     0.069541\n",
      "Mean Squared Error: 0.39120956713534666\n",
      "R^2: 0.37866117128933663\n"
     ]
    }
   ],
   "source": [
    "import pandas as pd\n",
    "from sklearn.linear_model import LinearRegression\n",
    "from sklearn.metrics import mean_squared_error, r2_score\n",
    "\n",
    "# Assuming train_X and train_y are your training features and target variable\n",
    "lm = LinearRegression()\n",
    "lm.fit(train_X, train_y)\n",
    "\n",
    "# Print intercept and coefficients\n",
    "print('Intercept:', lm.intercept_)\n",
    "coefficients_df = pd.DataFrame({'Predictor': X.columns, 'Coefficient': lm.coef_})\n",
    "print(coefficients_df)\n",
    "\n",
    "# Print performance measures\n",
    "predictions = lm.predict(train_X)\n",
    "mse = mean_squared_error(train_y, predictions)\n",
    "r2 = r2_score(train_y, predictions)\n",
    "print('Mean Squared Error:', mse)\n",
    "print('R^2:', r2)"
   ]
  },
  {
   "cell_type": "code",
   "execution_count": 17,
   "id": "e2d91dd0",
   "metadata": {},
   "outputs": [
    {
     "name": "stdout",
     "output_type": "stream",
     "text": [
      "     Predicted    Actual  Residual\n",
      "127  -0.349010 -0.886166 -0.537156\n",
      "203   0.240620  0.591218  0.350598\n",
      "18   -1.206904 -0.895482  0.311422\n",
      "175   0.253671 -0.020542 -0.274213\n",
      "196   0.270432  2.607384  2.336952\n",
      "31   -0.764006 -1.213395 -0.449390\n",
      "28   -0.935222 -1.093838 -0.158616\n",
      "40   -0.914800 -1.292194 -0.377394\n",
      "95   -0.888650 -1.091121 -0.202471\n",
      "38   -1.238375 -1.353137 -0.114762\n",
      "145  -0.329062  0.240310  0.569372\n",
      "44   -0.578345 -0.110210  0.468136\n",
      "51   -0.988647 -1.156722 -0.168075\n",
      "69   -0.789409 -0.883837 -0.094427\n",
      "4     0.322692 -0.109821 -0.432514\n",
      "93   -0.812779 -0.018601  0.794178\n",
      "172   0.017315  0.369959  0.352645\n",
      "150   0.065041  0.054764 -0.010278\n",
      "11   -0.904983 -0.967682 -0.062699\n",
      "117  -0.616393 -1.145853 -0.529461\n"
     ]
    }
   ],
   "source": [
    "# Use predict() to make predictions on a new set\n",
    "lm_pred = lm.predict(valid_X)\n",
    "\n",
    "result = pd.DataFrame({'Predicted': lm_pred, 'Actual': valid_y,\n",
    "                       'Residual': valid_y - lm_pred})\n",
    "#Print the first 20 predictions\n",
    "print(result.head(20))"
   ]
  },
  {
   "cell_type": "code",
   "execution_count": 18,
   "id": "335d75ac",
   "metadata": {},
   "outputs": [
    {
     "name": "stderr",
     "output_type": "stream",
     "text": [
      "C:\\Users\\richw\\AppData\\Local\\Temp\\ipykernel_29904\\1324754206.py:1: UserWarning: \n",
      "\n",
      "`distplot` is a deprecated function and will be removed in seaborn v0.14.0.\n",
      "\n",
      "Please adapt your code to use either `displot` (a figure-level function with\n",
      "similar flexibility) or `histplot` (an axes-level function for histograms).\n",
      "\n",
      "For a guide to updating your code to use the new functions, please see\n",
      "https://gist.github.com/mwaskom/de44147ed2974457ad6372750bbe5751\n",
      "\n",
      "  sns.distplot((valid_y-lm_pred),bins=50);\n"
     ]
    },
    {
     "data": {
      "image/png": "[encoded data removed]",
      "text/plain": [
       "<Figure size 640x480 with 1 Axes>"
      ]
     },
     "metadata": {},
     "output_type": "display_data"
    }
   ],
   "source": [
    "sns.distplot((valid_y-lm_pred),bins=50);"
   ]
  },
  {
   "cell_type": "code",
   "execution_count": 19,
   "id": "8bcdbff3",
   "metadata": {},
   "outputs": [
    {
     "data": {
      "image/png": "[encoded data removed]",
      "text/plain": [
       "<Figure size 1000x600 with 1 Axes>"
      ]
     },
     "metadata": {},
     "output_type": "display_data"
    }
   ],
   "source": [
    "plt.figure(figsize=(10, 6))\n",
    "\n",
    "# Plot actual vs predicted values as a dot plot\n",
    "plt.scatter(valid_y, lm_pred, color='blue', label='Actual vs Predicted', alpha=0.5)\n",
    "\n",
    "# Plot a line showing the perfect prediction (y=x)\n",
    "plt.plot([valid_y.min(), valid_y.max()], [valid_y.min(), valid_y.max()], 'k--', lw=2, label='Perfect Prediction')\n",
    "\n",
    "plt.xlabel('Actual Values')\n",
    "plt.ylabel('Predicted Values')\n",
    "plt.title('Predicted vs Actual Values on Earthquakes')\n",
    "plt.legend()\n",
    "plt.show()"
   ]
  },
  {
   "cell_type": "code",
   "execution_count": 20,
   "id": "2a010257",
   "metadata": {},
   "outputs": [
    {
     "name": "stdout",
     "output_type": "stream",
     "text": [
      "Variables: if_Aerosols, CO2, N2O, Year, Month\n",
      "Start: score=245.72\n",
      "Step: score=243.91, remove CO2\n",
      "Step: score=243.91, remove None\n",
      "['if_Aerosols', 'N2O', 'Year', 'Month']\n"
     ]
    }
   ],
   "source": [
    "def train_model(variables):\n",
    "    model = LinearRegression()\n",
    "    model.fit(train_X[variables], train_y)\n",
    "    return model\n",
    "\n",
    "def score_model(model, variables):\n",
    "    return AIC_score(train_y, model.predict(train_X[variables]), model)\n",
    "\n",
    "best_model, best_variables = backward_elimination(train_X.columns, train_model, score_model, verbose=True)\n",
    "\n",
    "print(best_variables)"
   ]
  },
  {
   "cell_type": "markdown",
   "id": "aa9dd5ff",
   "metadata": {},
   "source": [
    "# Predictors without CO2"
   ]
  },
  {
   "cell_type": "code",
   "execution_count": 21,
   "id": "e24af273",
   "metadata": {},
   "outputs": [
    {
     "name": "stdout",
     "output_type": "stream",
     "text": [
      "(204, 4)\n"
     ]
    },
    {
     "data": {
      "text/html": [
       "<div>\n",
       "<style scoped>\n",
       "    .dataframe tbody tr th:only-of-type {\n",
       "        vertical-align: middle;\n",
       "    }\n",
       "\n",
       "    .dataframe tbody tr th {\n",
       "        vertical-align: top;\n",
       "    }\n",
       "\n",
       "    .dataframe thead th {\n",
       "        text-align: right;\n",
       "    }\n",
       "</style>\n",
       "<table border=\"1\" class=\"dataframe\">\n",
       "  <thead>\n",
       "    <tr style=\"text-align: right;\">\n",
       "      <th></th>\n",
       "      <th>if_Aerosols</th>\n",
       "      <th>N2O</th>\n",
       "      <th>Year</th>\n",
       "      <th>Month</th>\n",
       "    </tr>\n",
       "  </thead>\n",
       "  <tbody>\n",
       "    <tr>\n",
       "      <th>0</th>\n",
       "      <td>6.518989</td>\n",
       "      <td>-1.277594</td>\n",
       "      <td>1992</td>\n",
       "      <td>1</td>\n",
       "    </tr>\n",
       "  </tbody>\n",
       "</table>\n",
       "</div>"
      ],
      "text/plain": [
       "   if_Aerosols       N2O  Year  Month\n",
       "0     6.518989 -1.277594  1992      1"
      ]
     },
     "execution_count": 21,
     "metadata": {},
     "output_type": "execute_result"
    }
   ],
   "source": [
    "predictors = ['if_Aerosols', 'N2O', 'Year', 'Month']\n",
    "\n",
    "outcome = 'Earthquake'\n",
    "\n",
    "X = df2[predictors]\n",
    "y = df2[outcome]\n",
    "\n",
    "print(X.shape)\n",
    "X.head(1)"
   ]
  },
  {
   "cell_type": "code",
   "execution_count": 22,
   "id": "00ef079a",
   "metadata": {},
   "outputs": [],
   "source": [
    "train_X, valid_X, train_y, valid_y = train_test_split(X, y, test_size=0.4, random_state=1)"
   ]
  },
  {
   "cell_type": "code",
   "execution_count": 23,
   "id": "ad153b22",
   "metadata": {},
   "outputs": [
    {
     "data": {
      "text/html": [
       "<style>#sk-container-id-2 {color: black;}#sk-container-id-2 pre{padding: 0;}#sk-container-id-2 div.sk-toggleable {background-color: white;}#sk-container-id-2 label.sk-toggleable__label {cursor: pointer;display: block;width: 100%;margin-bottom: 0;padding: 0.3em;box-sizing: border-box;text-align: center;}#sk-container-id-2 label.sk-toggleable__label-arrow:before {content: \"▸\";float: left;margin-right: 0.25em;color: #696969;}#sk-container-id-2 label.sk-toggleable__label-arrow:hover:before {color: black;}#sk-container-id-2 div.sk-estimator:hover label.sk-toggleable__label-arrow:before {color: black;}#sk-container-id-2 div.sk-toggleable__content {max-height: 0;max-width: 0;overflow: hidden;text-align: left;background-color: #f0f8ff;}#sk-container-id-2 div.sk-toggleable__content pre {margin: 0.2em;color: black;border-radius: 0.25em;background-color: #f0f8ff;}#sk-container-id-2 input.sk-toggleable__control:checked~div.sk-toggleable__content {max-height: 200px;max-width: 100%;overflow: auto;}#sk-container-id-2 input.sk-toggleable__control:checked~label.sk-toggleable__label-arrow:before {content: \"▾\";}#sk-container-id-2 div.sk-estimator input.sk-toggleable__control:checked~label.sk-toggleable__label {background-color: #d4ebff;}#sk-container-id-2 div.sk-label input.sk-toggleable__control:checked~label.sk-toggleable__label {background-color: #d4ebff;}#sk-container-id-2 input.sk-hidden--visually {border: 0;clip: rect(1px 1px 1px 1px);clip: rect(1px, 1px, 1px, 1px);height: 1px;margin: -1px;overflow: hidden;padding: 0;position: absolute;width: 1px;}#sk-container-id-2 div.sk-estimator {font-family: monospace;background-color: #f0f8ff;border: 1px dotted black;border-radius: 0.25em;box-sizing: border-box;margin-bottom: 0.5em;}#sk-container-id-2 div.sk-estimator:hover {background-color: #d4ebff;}#sk-container-id-2 div.sk-parallel-item::after {content: \"\";width: 100%;border-bottom: 1px solid gray;flex-grow: 1;}#sk-container-id-2 div.sk-label:hover label.sk-toggleable__label {background-color: #d4ebff;}#sk-container-id-2 div.sk-serial::before {content: \"\";position: absolute;border-left: 1px solid gray;box-sizing: border-box;top: 0;bottom: 0;left: 50%;z-index: 0;}#sk-container-id-2 div.sk-serial {display: flex;flex-direction: column;align-items: center;background-color: white;padding-right: 0.2em;padding-left: 0.2em;position: relative;}#sk-container-id-2 div.sk-item {position: relative;z-index: 1;}#sk-container-id-2 div.sk-parallel {display: flex;align-items: stretch;justify-content: center;background-color: white;position: relative;}#sk-container-id-2 div.sk-item::before, #sk-container-id-2 div.sk-parallel-item::before {content: \"\";position: absolute;border-left: 1px solid gray;box-sizing: border-box;top: 0;bottom: 0;left: 50%;z-index: -1;}#sk-container-id-2 div.sk-parallel-item {display: flex;flex-direction: column;z-index: 1;position: relative;background-color: white;}#sk-container-id-2 div.sk-parallel-item:first-child::after {align-self: flex-end;width: 50%;}#sk-container-id-2 div.sk-parallel-item:last-child::after {align-self: flex-start;width: 50%;}#sk-container-id-2 div.sk-parallel-item:only-child::after {width: 0;}#sk-container-id-2 div.sk-dashed-wrapped {border: 1px dashed gray;margin: 0 0.4em 0.5em 0.4em;box-sizing: border-box;padding-bottom: 0.4em;background-color: white;}#sk-container-id-2 div.sk-label label {font-family: monospace;font-weight: bold;display: inline-block;line-height: 1.2em;}#sk-container-id-2 div.sk-label-container {text-align: center;}#sk-container-id-2 div.sk-container {/* jupyter's `normalize.less` sets `[hidden] { display: none; }` but bootstrap.min.css set `[hidden] { display: none !important; }` so we also need the `!important` here to be able to override the default hidden behavior on the sphinx rendered scikit-learn.org. See: https://github.com/scikit-learn/scikit-learn/issues/21755 */display: inline-block !important;position: relative;}#sk-container-id-2 div.sk-text-repr-fallback {display: none;}</style><div id=\"sk-container-id-2\" class=\"sk-top-container\"><div class=\"sk-text-repr-fallback\"><pre>LinearRegression()</pre><b>In a Jupyter environment, please rerun this cell to show the HTML representation or trust the notebook. <br />On GitHub, the HTML representation is unable to render, please try loading this page with nbviewer.org.</b></div><div class=\"sk-container\" hidden><div class=\"sk-item\"><div class=\"sk-estimator sk-toggleable\"><input class=\"sk-toggleable__control sk-hidden--visually\" id=\"sk-estimator-id-2\" type=\"checkbox\" checked><label for=\"sk-estimator-id-2\" class=\"sk-toggleable__label sk-toggleable__label-arrow\">LinearRegression</label><div class=\"sk-toggleable__content\"><pre>LinearRegression()</pre></div></div></div></div></div>"
      ],
      "text/plain": [
       "LinearRegression()"
      ]
     },
     "execution_count": 23,
     "metadata": {},
     "output_type": "execute_result"
    }
   ],
   "source": [
    "lm = LinearRegression()\n",
    "lm.fit(train_X, train_y)"
   ]
  },
  {
   "cell_type": "code",
   "execution_count": 24,
   "id": "a3021ddd",
   "metadata": {},
   "outputs": [
    {
     "name": "stdout",
     "output_type": "stream",
     "text": [
      "intercept  -1436.8454595976496\n",
      "     Predictor  coefficient\n",
      "0  if_Aerosols     0.532074\n",
      "1          N2O    -2.865113\n",
      "2         Year     0.717407\n",
      "3        Month     0.072166\n",
      "\n",
      "Regression statistics\n",
      "\n",
      "                      Mean Error (ME) : -0.0000\n",
      "       Root Mean Squared Error (RMSE) : 0.6260\n",
      "            Mean Absolute Error (MAE) : 0.4416\n",
      "          Mean Percentage Error (MPE) : 151.5596\n",
      "Mean Absolute Percentage Error (MAPE) : 212.2267\n"
     ]
    }
   ],
   "source": [
    "print('intercept ', lm.intercept_)\n",
    "print(pd.DataFrame({'Predictor': X.columns, 'coefficient': lm.coef_}))\n",
    "\n",
    "# print performance measures\n",
    "regressionSummary(train_y, lm.predict(train_X))"
   ]
  },
  {
   "cell_type": "code",
   "execution_count": 25,
   "id": "738b908f",
   "metadata": {},
   "outputs": [
    {
     "name": "stdout",
     "output_type": "stream",
     "text": [
      "                            OLS Regression Results                            \n",
      "==============================================================================\n",
      "Dep. Variable:             Earthquake   R-squared:                       0.378\n",
      "Model:                            OLS   Adj. R-squared:                  0.356\n",
      "Method:                 Least Squares   F-statistic:                     17.75\n",
      "Date:                Wed, 08 May 2024   Prob (F-statistic):           2.06e-11\n",
      "Time:                        12:46:51   Log-Likelihood:                -115.96\n",
      "No. Observations:                 122   AIC:                             241.9\n",
      "Df Residuals:                     117   BIC:                             255.9\n",
      "Df Model:                           4                                         \n",
      "Covariance Type:            nonrobust                                         \n",
      "===============================================================================\n",
      "                  coef    std err          t      P>|t|      [0.025      0.975]\n",
      "-------------------------------------------------------------------------------\n",
      "const       -1436.8455    349.244     -4.114      0.000   -2128.506    -745.185\n",
      "if_Aerosols     0.5321      0.092      5.807      0.000       0.351       0.714\n",
      "N2O            -2.8651      0.824     -3.479      0.001      -4.496      -1.234\n",
      "Year            0.7174      0.175      4.111      0.000       0.372       1.063\n",
      "Month           0.0722      0.021      3.400      0.001       0.030       0.114\n",
      "==============================================================================\n",
      "Omnibus:                       45.451   Durbin-Watson:                   1.950\n",
      "Prob(Omnibus):                  0.000   Jarque-Bera (JB):              136.743\n",
      "Skew:                           1.361   Prob(JB):                     2.03e-30\n",
      "Kurtosis:                       7.415   Cond. No.                     1.21e+07\n",
      "==============================================================================\n",
      "\n",
      "Notes:\n",
      "[1] Standard Errors assume that the covariance matrix of the errors is correctly specified.\n",
      "[2] The condition number is large, 1.21e+07. This might indicate that there are\n",
      "strong multicollinearity or other numerical problems.\n"
     ]
    }
   ],
   "source": [
    "import statsmodels.api as sm\n",
    "# Add a constant to the independent values to represent the intercept\n",
    "X_train_with_constant = sm.add_constant(train_X)\n",
    "\n",
    "# Fit the model\n",
    "model = sm.OLS(train_y, X_train_with_constant).fit()\n",
    "\n",
    "#Print the summary of the model\n",
    "print(model.summary())"
   ]
  },
  {
   "cell_type": "code",
   "execution_count": 26,
   "id": "b455e372",
   "metadata": {},
   "outputs": [
    {
     "name": "stdout",
     "output_type": "stream",
     "text": [
      "Intercept: -1436.8454595976496\n",
      "     Predictor  Coefficient\n",
      "0  if_Aerosols     0.532074\n",
      "1          N2O    -2.865113\n",
      "2         Year     0.717407\n",
      "3        Month     0.072166\n",
      "Mean Squared Error: 0.3918217111391359\n",
      "R^2: 0.3776889332096245\n"
     ]
    }
   ],
   "source": [
    "import pandas as pd\n",
    "from sklearn.linear_model import LinearRegression\n",
    "from sklearn.metrics import mean_squared_error, r2_score\n",
    "\n",
    "# Assuming train_X and train_y are your training features and target variable\n",
    "lm = LinearRegression()\n",
    "lm.fit(train_X, train_y)\n",
    "\n",
    "# Print intercept and coefficients\n",
    "print('Intercept:', lm.intercept_)\n",
    "coefficients_df = pd.DataFrame({'Predictor': X.columns, 'Coefficient': lm.coef_})\n",
    "print(coefficients_df)\n",
    "\n",
    "# Print performance measures\n",
    "predictions = lm.predict(train_X)\n",
    "mse = mean_squared_error(train_y, predictions)\n",
    "r2 = r2_score(train_y, predictions)\n",
    "print('Mean Squared Error:', mse)\n",
    "print('R^2:', r2)"
   ]
  },
  {
   "cell_type": "code",
   "execution_count": 27,
   "id": "694c17e7",
   "metadata": {},
   "outputs": [
    {
     "name": "stdout",
     "output_type": "stream",
     "text": [
      "     Predicted    Actual  Residual\n",
      "127  -0.374880 -0.886166 -0.511286\n",
      "203   0.263153  0.591218  0.328065\n",
      "18   -1.188001 -0.895482  0.292519\n",
      "175   0.236089 -0.020542 -0.256630\n",
      "196   0.308116  2.607384  2.299268\n",
      "31   -0.779741 -1.213395 -0.433654\n",
      "28   -0.894139 -1.093838 -0.199700\n",
      "40   -0.870252 -1.292194 -0.421942\n",
      "95   -0.860949 -1.091121 -0.230172\n",
      "38   -1.225618 -1.353137 -0.127519\n",
      "145  -0.343053  0.240310  0.583363\n",
      "44   -0.611532 -0.110210  0.501323\n",
      "51   -0.963111 -1.156722 -0.193611\n",
      "69   -0.829301 -0.883837 -0.054536\n",
      "4     0.363862 -0.109821 -0.473684\n",
      "93   -0.836409 -0.018601  0.817808\n",
      "172   0.061947  0.369959  0.308012\n",
      "150   0.059149  0.054764 -0.004386\n",
      "11   -0.871642 -0.967682 -0.096040\n",
      "117  -0.652616 -1.145853 -0.493237\n"
     ]
    }
   ],
   "source": [
    "# Use predict() to make predictions on a new set\n",
    "lm_pred = lm.predict(valid_X)\n",
    "\n",
    "result = pd.DataFrame({'Predicted': lm_pred, 'Actual': valid_y,\n",
    "                       'Residual': valid_y - lm_pred})\n",
    "#Print the first 20 predictions\n",
    "print(result.head(20))"
   ]
  },
  {
   "cell_type": "code",
   "execution_count": 28,
   "id": "8a6a9f7b",
   "metadata": {},
   "outputs": [
    {
     "name": "stderr",
     "output_type": "stream",
     "text": [
      "C:\\Users\\richw\\AppData\\Local\\Temp\\ipykernel_29904\\1324754206.py:1: UserWarning: \n",
      "\n",
      "`distplot` is a deprecated function and will be removed in seaborn v0.14.0.\n",
      "\n",
      "Please adapt your code to use either `displot` (a figure-level function with\n",
      "similar flexibility) or `histplot` (an axes-level function for histograms).\n",
      "\n",
      "For a guide to updating your code to use the new functions, please see\n",
      "https://gist.github.com/mwaskom/de44147ed2974457ad6372750bbe5751\n",
      "\n",
      "  sns.distplot((valid_y-lm_pred),bins=50);\n"
     ]
    },
    {
     "data": {
      "image/png": "[encoded data removed]",
      "text/plain": [
       "<Figure size 640x480 with 1 Axes>"
      ]
     },
     "metadata": {},
     "output_type": "display_data"
    }
   ],
   "source": [
    "sns.distplot((valid_y-lm_pred),bins=50);"
   ]
  },
  {
   "cell_type": "code",
   "execution_count": 29,
   "id": "66457a9e",
   "metadata": {},
   "outputs": [
    {
     "data": {
      "image/png": "[encoded data removed]",
      "text/plain": [
       "<Figure size 1000x600 with 1 Axes>"
      ]
     },
     "metadata": {},
     "output_type": "display_data"
    }
   ],
   "source": [
    "plt.figure(figsize=(10, 6))\n",
    "\n",
    "# Plot actual vs predicted values as a dot plot\n",
    "plt.scatter(valid_y, lm_pred, color='blue', label='Actual vs Predicted', alpha=0.5)\n",
    "\n",
    "# Plot a line showing the perfect prediction (y=x)\n",
    "plt.plot([valid_y.min(), valid_y.max()], [valid_y.min(), valid_y.max()], 'k--', lw=2, label='Perfect Prediction')\n",
    "\n",
    "plt.xlabel('Actual Values')\n",
    "plt.ylabel('Predicted Values')\n",
    "plt.title('Predicted vs Actual Values on Earthquakes')\n",
    "plt.legend()\n",
    "plt.show()"
   ]
  },
  {
   "cell_type": "code",
   "execution_count": 30,
   "id": "1fd778ca",
   "metadata": {},
   "outputs": [
    {
     "name": "stdout",
     "output_type": "stream",
     "text": [
      "Variables: if_Aerosols, N2O, Year, Month\n",
      "Start: score=243.91\n",
      "Step: score=243.91, remove None\n",
      "['if_Aerosols', 'N2O', 'Year', 'Month']\n"
     ]
    }
   ],
   "source": [
    "def train_model(variables):\n",
    "    model = LinearRegression()\n",
    "    model.fit(train_X[variables], train_y)\n",
    "    return model\n",
    "\n",
    "def score_model(model, variables):\n",
    "    return AIC_score(train_y, model.predict(train_X[variables]), model)\n",
    "\n",
    "best_model, best_variables = backward_elimination(train_X.columns, train_model, score_model, verbose=True)\n",
    "\n",
    "print(best_variables)"
   ]
  },
  {
   "cell_type": "code",
   "execution_count": 31,
   "id": "b6fc3a88",
   "metadata": {},
   "outputs": [],
   "source": [
    "# Conclusions: if_Aerosols showed identical numbers with MLR of regular Aerosols levels "
   ]
  },
  {
   "cell_type": "markdown",
   "id": "2b02b486",
   "metadata": {},
   "source": [
    "# MLR with bins"
   ]
  },
  {
   "cell_type": "code",
   "execution_count": 32,
   "id": "30477348",
   "metadata": {},
   "outputs": [
    {
     "name": "stderr",
     "output_type": "stream",
     "text": [
      "C:\\Users\\richw\\AppData\\Local\\Temp\\ipykernel_29904\\1151603041.py:5: SettingWithCopyWarning: \n",
      "A value is trying to be set on a copy of a slice from a DataFrame.\n",
      "Try using .loc[row_indexer,col_indexer] = value instead\n",
      "\n",
      "See the caveats in the documentation: https://pandas.pydata.org/pandas-docs/stable/user_guide/indexing.html#returning-a-view-versus-a-copy\n",
      "  df2['Aerosols_bins'] = pd.cut(df2['Aerosols'], bins=num_bins, labels=bin_labels)\n"
     ]
    },
    {
     "ename": "KeyError",
     "evalue": "'Column not found: Old_Earthquake'",
     "output_type": "error",
     "traceback": [
      "\u001b[1;31m---------------------------------------------------------------------------\u001b[0m",
      "\u001b[1;31mKeyError\u001b[0m                                  Traceback (most recent call last)",
      "Cell \u001b[1;32mIn[32], line 8\u001b[0m\n\u001b[0;32m      5\u001b[0m df2[\u001b[38;5;124m'\u001b[39m\u001b[38;5;124mAerosols_bins\u001b[39m\u001b[38;5;124m'\u001b[39m] \u001b[38;5;241m=\u001b[39m pd\u001b[38;5;241m.\u001b[39mcut(df2[\u001b[38;5;124m'\u001b[39m\u001b[38;5;124mAerosols\u001b[39m\u001b[38;5;124m'\u001b[39m], bins\u001b[38;5;241m=\u001b[39mnum_bins, labels\u001b[38;5;241m=\u001b[39mbin_labels)\n\u001b[0;32m      7\u001b[0m \u001b[38;5;66;03m# Calculate summary statistics (e.g., mean earthquake values) for each bin\u001b[39;00m\n\u001b[1;32m----> 8\u001b[0m summary_stats \u001b[38;5;241m=\u001b[39m df2\u001b[38;5;241m.\u001b[39mgroupby(\u001b[38;5;124m'\u001b[39m\u001b[38;5;124mAerosols_bins\u001b[39m\u001b[38;5;124m'\u001b[39m)[\u001b[38;5;124m'\u001b[39m\u001b[38;5;124mOld_Earthquake\u001b[39m\u001b[38;5;124m'\u001b[39m]\u001b[38;5;241m.\u001b[39mmean()\n\u001b[0;32m     10\u001b[0m \u001b[38;5;66;03m# Print or visualize the summary statistics\u001b[39;00m\n\u001b[0;32m     11\u001b[0m \u001b[38;5;28mprint\u001b[39m(summary_stats)\n",
      "File \u001b[1;32m~\\anaconda3\\Lib\\site-packages\\pandas\\core\\groupby\\generic.py:1771\u001b[0m, in \u001b[0;36mDataFrameGroupBy.__getitem__\u001b[1;34m(self, key)\u001b[0m\n\u001b[0;32m   1764\u001b[0m \u001b[38;5;28;01mif\u001b[39;00m \u001b[38;5;28misinstance\u001b[39m(key, \u001b[38;5;28mtuple\u001b[39m) \u001b[38;5;129;01mand\u001b[39;00m \u001b[38;5;28mlen\u001b[39m(key) \u001b[38;5;241m>\u001b[39m \u001b[38;5;241m1\u001b[39m:\n\u001b[0;32m   1765\u001b[0m     \u001b[38;5;66;03m# if len == 1, then it becomes a SeriesGroupBy and this is actually\u001b[39;00m\n\u001b[0;32m   1766\u001b[0m     \u001b[38;5;66;03m# valid syntax, so don't raise\u001b[39;00m\n\u001b[0;32m   1767\u001b[0m     \u001b[38;5;28;01mraise\u001b[39;00m \u001b[38;5;167;01mValueError\u001b[39;00m(\n\u001b[0;32m   1768\u001b[0m         \u001b[38;5;124m\"\u001b[39m\u001b[38;5;124mCannot subset columns with a tuple with more than one element. \u001b[39m\u001b[38;5;124m\"\u001b[39m\n\u001b[0;32m   1769\u001b[0m         \u001b[38;5;124m\"\u001b[39m\u001b[38;5;124mUse a list instead.\u001b[39m\u001b[38;5;124m\"\u001b[39m\n\u001b[0;32m   1770\u001b[0m     )\n\u001b[1;32m-> 1771\u001b[0m \u001b[38;5;28;01mreturn\u001b[39;00m \u001b[38;5;28msuper\u001b[39m()\u001b[38;5;241m.\u001b[39m\u001b[38;5;21m__getitem__\u001b[39m(key)\n",
      "File \u001b[1;32m~\\anaconda3\\Lib\\site-packages\\pandas\\core\\base.py:244\u001b[0m, in \u001b[0;36mSelectionMixin.__getitem__\u001b[1;34m(self, key)\u001b[0m\n\u001b[0;32m    242\u001b[0m \u001b[38;5;28;01melse\u001b[39;00m:\n\u001b[0;32m    243\u001b[0m     \u001b[38;5;28;01mif\u001b[39;00m key \u001b[38;5;129;01mnot\u001b[39;00m \u001b[38;5;129;01min\u001b[39;00m \u001b[38;5;28mself\u001b[39m\u001b[38;5;241m.\u001b[39mobj:\n\u001b[1;32m--> 244\u001b[0m         \u001b[38;5;28;01mraise\u001b[39;00m \u001b[38;5;167;01mKeyError\u001b[39;00m(\u001b[38;5;124mf\u001b[39m\u001b[38;5;124m\"\u001b[39m\u001b[38;5;124mColumn not found: \u001b[39m\u001b[38;5;132;01m{\u001b[39;00mkey\u001b[38;5;132;01m}\u001b[39;00m\u001b[38;5;124m\"\u001b[39m)\n\u001b[0;32m    245\u001b[0m     ndim \u001b[38;5;241m=\u001b[39m \u001b[38;5;28mself\u001b[39m\u001b[38;5;241m.\u001b[39mobj[key]\u001b[38;5;241m.\u001b[39mndim\n\u001b[0;32m    246\u001b[0m     \u001b[38;5;28;01mreturn\u001b[39;00m \u001b[38;5;28mself\u001b[39m\u001b[38;5;241m.\u001b[39m_gotitem(key, ndim\u001b[38;5;241m=\u001b[39mndim)\n",
      "\u001b[1;31mKeyError\u001b[0m: 'Column not found: Old_Earthquake'"
     ]
    }
   ],
   "source": [
    "num_bins = 5\n",
    "bin_labels = ['Very Low','Low', 'Medium', 'High', 'Very High']\n",
    "\n",
    "# Split the Aerosols column into bins\n",
    "df2['Aerosols_bins'] = pd.cut(df2['Aerosols'], bins=num_bins, labels=bin_labels)\n",
    "\n",
    "# Calculate summary statistics (e.g., mean earthquake values) for each bin\n",
    "summary_stats = df2.groupby('Aerosols_bins')['Old_Earthquake'].mean()\n",
    "\n",
    "# Print or visualize the summary statistics\n",
    "print(summary_stats)\n",
    "\n",
    "# Optionally, you can visualize the relationship between Aerosols bins and Earthquake\n",
    "# For example, you can create a line plot\n",
    "summary_stats.plot(kind='line', marker='o', linestyle='-', color='blue')\n",
    "plt.xlabel('Aerosols Bins')\n",
    "plt.ylabel('Mean Earthquake')\n",
    "plt.title('Mean Earthquake by Aerosols Bins')\n",
    "plt.grid(True)\n",
    "plt.show()"
   ]
  },
  {
   "cell_type": "code",
   "execution_count": null,
   "id": "79718459",
   "metadata": {},
   "outputs": [],
   "source": [
    "df2[\"column_bins\"].value_counts() "
   ]
  },
  {
   "cell_type": "code",
   "execution_count": null,
   "id": "2b2a4a7b",
   "metadata": {},
   "outputs": [],
   "source": [
    "Aerosols_bins = df2['column_bins']"
   ]
  },
  {
   "cell_type": "code",
   "execution_count": null,
   "id": "27f21689",
   "metadata": {},
   "outputs": [],
   "source": [
    "Aerosols_bins.value_counts()"
   ]
  },
  {
   "cell_type": "code",
   "execution_count": null,
   "id": "cd44b4ff",
   "metadata": {},
   "outputs": [],
   "source": [
    "summary_stats = df2.groupby('Aerosols_bins')['Earthquake'].mean()\n",
    "print(summary_stats)\n",
    "summary_stats.plot(kind='bar', xlabel='Aerosols Bins', ylabel='Mean Old_Earthquake', title='Mean Old_Earthquake by Aerosols Bins')\n",
    "plt.show()"
   ]
  },
  {
   "cell_type": "markdown",
   "id": "d2120b17",
   "metadata": {},
   "source": [
    "# Import Earthquakes 1990-2023 Dataset "
   ]
  },
  {
   "cell_type": "code",
   "execution_count": null,
   "id": "d0b95384",
   "metadata": {},
   "outputs": [],
   "source": [
    "df_1990_2023 = pd.read_csv(\"Eartquakes-1990-2023.csv\")"
   ]
  },
  {
   "cell_type": "code",
   "execution_count": null,
   "id": "c618af40",
   "metadata": {},
   "outputs": [],
   "source": [
    "df_1990_2023.head()"
   ]
  },
  {
   "cell_type": "code",
   "execution_count": null,
   "id": "584285e6",
   "metadata": {},
   "outputs": [],
   "source": [
    "df_1990_2023.info()"
   ]
  },
  {
   "cell_type": "code",
   "execution_count": null,
   "id": "4ba1398b",
   "metadata": {},
   "outputs": [],
   "source": [
    "df_1990_2023['date'] = pd.to_datetime(df_1990_2023['date'].str.slice(0, 19))"
   ]
  },
  {
   "cell_type": "code",
   "execution_count": null,
   "id": "382b6ee6",
   "metadata": {},
   "outputs": [],
   "source": [
    "df_1990_2023['date'].value_counts()"
   ]
  },
  {
   "cell_type": "code",
   "execution_count": null,
   "id": "7552681f",
   "metadata": {},
   "outputs": [],
   "source": [
    "# Filter the DataFrame to include only rows with dates between 1992 and 2008\n",
    "years_df = df_1990_2023[(df_1990_2023['date'].dt.year >= 1992) & (df_1990_2023['date'].dt.year <= 2008)]"
   ]
  },
  {
   "cell_type": "code",
   "execution_count": null,
   "id": "4723ab87",
   "metadata": {},
   "outputs": [],
   "source": [
    "years_df.head()"
   ]
  },
  {
   "cell_type": "code",
   "execution_count": null,
   "id": "1ea1849d",
   "metadata": {},
   "outputs": [],
   "source": [
    "years_df.tail()"
   ]
  },
  {
   "cell_type": "code",
   "execution_count": null,
   "id": "e95df456",
   "metadata": {},
   "outputs": [],
   "source": [
    "years_df['magnitudo'].value_counts().head(204)"
   ]
  },
  {
   "cell_type": "code",
   "execution_count": null,
   "id": "cd91551b",
   "metadata": {},
   "outputs": [],
   "source": [
    "df2.info()"
   ]
  },
  {
   "cell_type": "code",
   "execution_count": null,
   "id": "ef6f3003",
   "metadata": {
    "scrolled": false
   },
   "outputs": [],
   "source": [
    "years_df['magnitudo'].unique()"
   ]
  },
  {
   "cell_type": "code",
   "execution_count": null,
   "id": "9586f69a",
   "metadata": {},
   "outputs": [],
   "source": [
    "# Extract unique earthquake magnitudes from years_df\n",
    "unique_magnitudes = years_df['magnitudo'].unique()\n",
    "\n",
    "# Calculate the number of times the unique magnitudes need to be repeated\n",
    "num_repeats = np.ceil(204 / len(unique_magnitudes)).astype(int)\n",
    "\n",
    "# Repeat the unique magnitudes to fill 204 rows\n",
    "repeated_magnitudes = np.tile(unique_magnitudes, num_repeats)[:204]\n",
    "\n",
    "# Create a new column in df2 with the magnitudes repeated across 204 rows\n",
    "df2['earthquake_magnitude'] = repeated_magnitudes\n",
    "\n",
    "# Check the number of rows in df2\n",
    "print(len(df2))\n"
   ]
  },
  {
   "cell_type": "code",
   "execution_count": null,
   "id": "3dbf1b73",
   "metadata": {},
   "outputs": [],
   "source": [
    "df2.head()"
   ]
  },
  {
   "cell_type": "code",
   "execution_count": null,
   "id": "3328e567",
   "metadata": {},
   "outputs": [],
   "source": [
    "summary_stats = df2.groupby('Aerosols_bins')['earthquake_magnitude'].mean()\n",
    "print(summary_stats)\n",
    "summary_stats.plot(kind='bar', xlabel='Aerosols Bins', ylabel='Mean Old_Earthquake', title='Mean Old_Earthquake by Aerosols Bins')\n",
    "plt.show()"
   ]
  },
  {
   "cell_type": "code",
   "execution_count": null,
   "id": "67f2f313",
   "metadata": {},
   "outputs": [],
   "source": [
    "df2['earthquake_magnitude'].value_counts() > 6"
   ]
  },
  {
   "cell_type": "code",
   "execution_count": null,
   "id": "d0de8546",
   "metadata": {},
   "outputs": [],
   "source": [
    "unique_magnitudes = df2['earthquake_magnitude'].unique()\n",
    "\n",
    "# Sort the unique magnitudes in ascending order\n",
    "sorted_magnitudes = np.sort(unique_magnitudes)\n",
    "\n",
    "# Display the sorted magnitudes\n",
    "print(sorted_magnitudes)"
   ]
  },
  {
   "cell_type": "code",
   "execution_count": null,
   "id": "c5026b2b",
   "metadata": {},
   "outputs": [],
   "source": [
    "## "
   ]
  },
  {
   "cell_type": "code",
   "execution_count": null,
   "id": "861cd07f",
   "metadata": {},
   "outputs": [],
   "source": [
    "num_bins = 5\n",
    "bin_labels = ['Very Low','Low', 'Medium', 'High', 'Very High']\n",
    "\n",
    "# Split the Aerosols column into bins\n",
    "df2['if_Aerosols_bins'] = pd.cut(df2['if_Aerosols'], bins=num_bins, labels=bin_labels)\n",
    "\n",
    "# Calculate summary statistics (e.g., mean earthquake values) for each bin\n",
    "summary_stats = df2.groupby('if_Aerosols_bins')['earthquake_magnitude'].mean()\n",
    "\n",
    "# Print or visualize the summary statistics\n",
    "print(summary_stats)\n",
    "\n",
    "# Optionally, you can visualize the relationship between Aerosols bins and Earthquake\n",
    "# For example, you can create a line plot\n",
    "summary_stats.plot(kind='line', marker='o', linestyle='-', color='blue')\n",
    "plt.xlabel('Aerosols Bins')\n",
    "plt.ylabel('Mean Earthquake')\n",
    "plt.title('Mean Earthquake by Aerosols Bins')\n",
    "plt.grid(True)\n",
    "plt.show()"
   ]
  },
  {
   "cell_type": "code",
   "execution_count": null,
   "id": "45df346b",
   "metadata": {},
   "outputs": [],
   "source": [
    "summary_stats = df2.groupby('Aerosols_bins')['earthquake_magnitude'].mean()\n",
    "print(summary_stats)\n",
    "summary_stats.plot(kind='bar', xlabel='Aerosols Bins', ylabel='Mean Earthquake Magnitude', title='Mean Earthquake Magnitude by Aerosols Bins')\n",
    "plt.show()"
   ]
  },
  {
   "cell_type": "code",
   "execution_count": null,
   "id": "9c6943f7",
   "metadata": {},
   "outputs": [],
   "source": [
    "df2['earthquake_magnitude'].value_counts()"
   ]
  },
  {
   "cell_type": "code",
   "execution_count": null,
   "id": "758479d8",
   "metadata": {},
   "outputs": [],
   "source": [
    "sns.lmplot(x = \"earthquake_magnitude\", y = \"if_Aerosols\", data = df2)"
   ]
  },
  {
   "cell_type": "markdown",
   "id": "48a81aad",
   "metadata": {},
   "source": [
    "# MLR with new earthquake_magnitude"
   ]
  },
  {
   "cell_type": "code",
   "execution_count": null,
   "id": "a3e36768",
   "metadata": {},
   "outputs": [],
   "source": [
    "predictors = ['if_Aerosols', 'N2O', 'Year', 'Month']\n",
    "\n",
    "outcome = 'earthquake_magnitude'\n",
    "\n",
    "X = df2[predictors]\n",
    "y = df2[outcome]\n",
    "\n",
    "print(X.shape)\n",
    "X.head(1)"
   ]
  },
  {
   "cell_type": "code",
   "execution_count": null,
   "id": "476814cb",
   "metadata": {},
   "outputs": [],
   "source": [
    "train_X, valid_X, train_y, valid_y = train_test_split(X, y, test_size=0.4, random_state=1)"
   ]
  },
  {
   "cell_type": "code",
   "execution_count": null,
   "id": "85f0f34e",
   "metadata": {},
   "outputs": [],
   "source": [
    "lm = LinearRegression()\n",
    "lm.fit(train_X, train_y)"
   ]
  },
  {
   "cell_type": "code",
   "execution_count": null,
   "id": "02b0c39a",
   "metadata": {},
   "outputs": [],
   "source": [
    "print('intercept ', lm.intercept_)\n",
    "print(pd.DataFrame({'Predictor': X.columns, 'coefficient': lm.coef_}))\n",
    "\n",
    "# print performance measures\n",
    "regressionSummary(train_y, lm.predict(train_X))"
   ]
  },
  {
   "cell_type": "code",
   "execution_count": null,
   "id": "f6102361",
   "metadata": {},
   "outputs": [],
   "source": [
    "import statsmodels.api as sm\n",
    "# Add a constant to the independent values to represent the intercept\n",
    "X_train_with_constant = sm.add_constant(train_X)\n",
    "\n",
    "# Fit the model\n",
    "model = sm.OLS(train_y, X_train_with_constant).fit()\n",
    "\n",
    "#Print the summary of the model\n",
    "print(model.summary())"
   ]
  },
  {
   "cell_type": "code",
   "execution_count": null,
   "id": "0dabd789",
   "metadata": {},
   "outputs": [],
   "source": [
    "import pandas as pd\n",
    "from sklearn.linear_model import LinearRegression\n",
    "from sklearn.metrics import mean_squared_error, r2_score\n",
    "\n",
    "# Assuming train_X and train_y are your training features and target variable\n",
    "lm = LinearRegression()\n",
    "lm.fit(train_X, train_y)\n",
    "\n",
    "# Print intercept and coefficients\n",
    "print('Intercept:', lm.intercept_)\n",
    "coefficients_df = pd.DataFrame({'Predictor': X.columns, 'Coefficient': lm.coef_})\n",
    "print(coefficients_df)\n",
    "\n",
    "# Print performance measures\n",
    "predictions = lm.predict(train_X)\n",
    "mse = mean_squared_error(train_y, predictions)\n",
    "r2 = r2_score(train_y, predictions)\n",
    "print('Mean Squared Error:', mse)\n",
    "print('R^2:', r2)"
   ]
  },
  {
   "cell_type": "code",
   "execution_count": null,
   "id": "29b1abd8",
   "metadata": {},
   "outputs": [],
   "source": [
    "# Use predict() to make predictions on a new set\n",
    "lm_pred = lm.predict(valid_X)\n",
    "\n",
    "result = pd.DataFrame({'Predicted': lm_pred, 'Actual': valid_y,\n",
    "                       'Residual': valid_y - lm_pred})\n",
    "#Print the first 20 predictions\n",
    "print(result.head(20))"
   ]
  },
  {
   "cell_type": "code",
   "execution_count": null,
   "id": "43400de7",
   "metadata": {},
   "outputs": [],
   "source": [
    "sns.distplot((valid_y-lm_pred),bins=50);"
   ]
  },
  {
   "cell_type": "code",
   "execution_count": null,
   "id": "c7286b49",
   "metadata": {},
   "outputs": [],
   "source": [
    "plt.figure(figsize=(10, 6))\n",
    "\n",
    "# Plot actual vs predicted values as a dot plot\n",
    "plt.scatter(valid_y, lm_pred, color='blue', label='Actual vs Predicted', alpha=0.5)\n",
    "\n",
    "# Plot a line showing the perfect prediction (y=x)\n",
    "plt.plot([valid_y.min(), valid_y.max()], [valid_y.min(), valid_y.max()], 'k--', lw=2, label='Perfect Prediction')\n",
    "\n",
    "plt.xlabel('Actual Values')\n",
    "plt.ylabel('Predicted Values')\n",
    "plt.title('Predicted vs Actual Values on Earthquakes')\n",
    "plt.legend()\n",
    "plt.show()"
   ]
  },
  {
   "cell_type": "code",
   "execution_count": null,
   "id": "5a1a3da9",
   "metadata": {},
   "outputs": [],
   "source": [
    "def train_model(variables):\n",
    "    model = LinearRegression()\n",
    "    model.fit(train_X[variables], train_y)\n",
    "    return model\n",
    "\n",
    "def score_model(model, variables):\n",
    "    return AIC_score(train_y, model.predict(train_X[variables]), model)\n",
    "\n",
    "best_model, best_variables = backward_elimination(train_X.columns, train_model, score_model, verbose=True)\n",
    "\n",
    "print(best_variables)"
   ]
  },
  {
   "cell_type": "markdown",
   "id": "a6f46835",
   "metadata": {},
   "source": [
    "# Turning Erthquake magnitudes into bins and comparing against aerosols "
   ]
  },
  {
   "cell_type": "code",
   "execution_count": null,
   "id": "0ef36569",
   "metadata": {},
   "outputs": [],
   "source": [
    "num_bins = 5\n",
    "bin_labels2 = ['Very Low','Low', 'Medium', 'High', 'Very High']\n",
    "\n",
    "# Split the Aerosols column into bins\n",
    "df2['magnitude_bins'] = pd.cut(df2['earthquake_magnitude'], bins=num_bins, labels=bin_labels)\n",
    "\n",
    "# Calculate summary statistics (e.g., mean earthquake values) for each bin\n",
    "summary_stats = df2.groupby('magnitude_bins')['Aerosols'].mean()\n",
    "\n",
    "# Print or visualize the summary statistics\n",
    "print(summary_stats)\n",
    "\n",
    "# Optionally, you can visualize the relationship between Aerosols bins and Earthquake\n",
    "# For example, you can create a line plot\n",
    "summary_stats.plot(kind='line', marker='o', linestyle='-', color='blue')\n",
    "plt.xlabel('Aerosols Bins')\n",
    "plt.ylabel('Mean Earthquake')\n",
    "plt.title('Mean Earthquake by Aerosols Bins')\n",
    "plt.grid(True)\n",
    "plt.show()"
   ]
  },
  {
   "cell_type": "code",
   "execution_count": null,
   "id": "39e9976b",
   "metadata": {},
   "outputs": [],
   "source": [
    "df2.columns"
   ]
  },
  {
   "cell_type": "code",
   "execution_count": null,
   "id": "7f52cc4d",
   "metadata": {},
   "outputs": [],
   "source": [
    "summary_stats = df2.groupby('magnitude_bins')['Aerosols'].mean()\n",
    "print(summary_stats)\n",
    "summary_stats.plot(kind='bar', xlabel='Aerosols Bins', ylabel='Mean Old_Earthquake', title='Mean Old_Earthquake by Aerosols Bins')\n",
    "plt.show()"
   ]
  },
  {
   "cell_type": "markdown",
   "id": "b3996a67",
   "metadata": {},
   "source": [
    "# Get Magnitudes over 6 "
   ]
  },
  {
   "cell_type": "code",
   "execution_count": null,
   "id": "b9f5807a",
   "metadata": {},
   "outputs": [],
   "source": [
    "df2['magnitude_bins'].value_counts()"
   ]
  },
  {
   "cell_type": "code",
   "execution_count": null,
   "id": "23253113",
   "metadata": {},
   "outputs": [],
   "source": [
    "df2.columns"
   ]
  },
  {
   "cell_type": "code",
   "execution_count": null,
   "id": "11ee2954",
   "metadata": {},
   "outputs": [],
   "source": [
    "df2.head()"
   ]
  },
  {
   "cell_type": "code",
   "execution_count": null,
   "id": "f691d6c3",
   "metadata": {},
   "outputs": [],
   "source": [
    "filtered_magnitudes = df_1990_2023[df_1990_2023['magnitudo'] > 6]['magnitudo']\n",
    "first_204_values = filtered_magnitudes.head(204)"
   ]
  },
  {
   "cell_type": "code",
   "execution_count": null,
   "id": "12bd0cec",
   "metadata": {},
   "outputs": [],
   "source": [
    "df2['over_six'] = first_204_values.values"
   ]
  },
  {
   "cell_type": "code",
   "execution_count": null,
   "id": "d777df04",
   "metadata": {},
   "outputs": [],
   "source": [
    "df2['over_six'].value_counts()"
   ]
  },
  {
   "cell_type": "code",
   "execution_count": null,
   "id": "7741cdda",
   "metadata": {},
   "outputs": [],
   "source": [
    "num_bins = 5\n",
    "bin_labels3 = ['Very Low','Low', 'Medium', 'High', 'Very High']\n",
    "\n",
    "# Split the Aerosols column into bins\n",
    "df2['Aerosols_bins'] = pd.cut(df2['Aerosols'], bins=num_bins, labels=bin_labels)\n",
    "\n",
    "# Calculate summary statistics (e.g., mean earthquake values) for each bin\n",
    "summary_stats = df2.groupby('Aerosols_bins')['over_six'].mean()\n",
    "\n",
    "# Print or visualize the summary statistics\n",
    "print(summary_stats)\n",
    "\n",
    "# Optionally, you can visualize the relationship between Aerosols bins and Earthquake\n",
    "# For example, you can create a line plot\n",
    "summary_stats.plot(kind='line', marker='o', linestyle='-', color='blue')\n",
    "plt.xlabel('Aerosols Bins')\n",
    "plt.ylabel('Mean Earthquake')\n",
    "plt.title('Mean Earthquake by Aerosols Bins')\n",
    "plt.grid(True)\n",
    "plt.show()"
   ]
  },
  {
   "cell_type": "code",
   "execution_count": null,
   "id": "ab6ca009",
   "metadata": {},
   "outputs": [],
   "source": [
    "summary_stats = df2.groupby('Aerosols_bins')['over_six'].mean()\n",
    "print(summary_stats)\n",
    "summary_stats.plot(kind='bar', xlabel='Aerosols Bins', ylabel='Mean Earthquake Magnitude', title='Mean Earthquake Magnitude by Aerosols Bins')\n",
    "plt.show()"
   ]
  },
  {
   "cell_type": "code",
   "execution_count": null,
   "id": "1a4c116e",
   "metadata": {},
   "outputs": [],
   "source": []
  },
  {
   "cell_type": "code",
   "execution_count": null,
   "id": "4bc22ad6",
   "metadata": {},
   "outputs": [],
   "source": []
  },
  {
   "cell_type": "code",
   "execution_count": null,
   "id": "a8eb9103",
   "metadata": {},
   "outputs": [],
   "source": []
  },
  {
   "cell_type": "code",
   "execution_count": null,
   "id": "db916d28",
   "metadata": {},
   "outputs": [],
   "source": []
  },
  {
   "cell_type": "markdown",
   "id": "4000a3c2",
   "metadata": {},
   "source": [
    "# HeatMap"
   ]
  },
  {
   "cell_type": "code",
   "execution_count": null,
   "id": "1ee53102",
   "metadata": {},
   "outputs": [],
   "source": [
    "df_numeric = df2.drop(columns=['Aerosols_bins', 'column_bins', 'if_Aerosols_bins', 'magnitude_bins'])"
   ]
  },
  {
   "cell_type": "code",
   "execution_count": null,
   "id": "b32dc65e",
   "metadata": {},
   "outputs": [],
   "source": [
    "plt.figure(figsize=(15, 15))\n",
    "sns.heatmap(df_numeric.corr(), annot=True, linewidth=1)\n",
    "plt.show()"
   ]
  },
  {
   "cell_type": "markdown",
   "id": "aa03252c",
   "metadata": {},
   "source": [
    "# sunspot MLR "
   ]
  },
  {
   "cell_type": "code",
   "execution_count": 53,
   "id": "c6f073b3",
   "metadata": {},
   "outputs": [
    {
     "name": "stdout",
     "output_type": "stream",
     "text": [
      "(204, 3)\n"
     ]
    },
    {
     "data": {
      "text/html": [
       "<div>\n",
       "<style scoped>\n",
       "    .dataframe tbody tr th:only-of-type {\n",
       "        vertical-align: middle;\n",
       "    }\n",
       "\n",
       "    .dataframe tbody tr th {\n",
       "        vertical-align: top;\n",
       "    }\n",
       "\n",
       "    .dataframe thead th {\n",
       "        text-align: right;\n",
       "    }\n",
       "</style>\n",
       "<table border=\"1\" class=\"dataframe\">\n",
       "  <thead>\n",
       "    <tr style=\"text-align: right;\">\n",
       "      <th></th>\n",
       "      <th>new_mult</th>\n",
       "      <th>Year</th>\n",
       "      <th>Month</th>\n",
       "    </tr>\n",
       "  </thead>\n",
       "  <tbody>\n",
       "    <tr>\n",
       "      <th>0</th>\n",
       "      <td>90.379772</td>\n",
       "      <td>1992</td>\n",
       "      <td>1</td>\n",
       "    </tr>\n",
       "  </tbody>\n",
       "</table>\n",
       "</div>"
      ],
      "text/plain": [
       "    new_mult  Year  Month\n",
       "0  90.379772  1992      1"
      ]
     },
     "execution_count": 53,
     "metadata": {},
     "output_type": "execute_result"
    }
   ],
   "source": [
    "predictors = ['new_mult', 'Year', 'Month']\n",
    "\n",
    "outcome = 'Earthquake'\n",
    "\n",
    "X = df2[predictors]\n",
    "y = df2[outcome]\n",
    "\n",
    "print(X.shape)\n",
    "X.head(1)"
   ]
  },
  {
   "cell_type": "code",
   "execution_count": 54,
   "id": "fce17690",
   "metadata": {},
   "outputs": [],
   "source": [
    "train_X, valid_X, train_y, valid_y = train_test_split(X, y, test_size=0.4, random_state=1)"
   ]
  },
  {
   "cell_type": "code",
   "execution_count": 55,
   "id": "54eec1dc",
   "metadata": {},
   "outputs": [
    {
     "data": {
      "text/html": [
       "<style>#sk-container-id-5 {color: black;}#sk-container-id-5 pre{padding: 0;}#sk-container-id-5 div.sk-toggleable {background-color: white;}#sk-container-id-5 label.sk-toggleable__label {cursor: pointer;display: block;width: 100%;margin-bottom: 0;padding: 0.3em;box-sizing: border-box;text-align: center;}#sk-container-id-5 label.sk-toggleable__label-arrow:before {content: \"▸\";float: left;margin-right: 0.25em;color: #696969;}#sk-container-id-5 label.sk-toggleable__label-arrow:hover:before {color: black;}#sk-container-id-5 div.sk-estimator:hover label.sk-toggleable__label-arrow:before {color: black;}#sk-container-id-5 div.sk-toggleable__content {max-height: 0;max-width: 0;overflow: hidden;text-align: left;background-color: #f0f8ff;}#sk-container-id-5 div.sk-toggleable__content pre {margin: 0.2em;color: black;border-radius: 0.25em;background-color: #f0f8ff;}#sk-container-id-5 input.sk-toggleable__control:checked~div.sk-toggleable__content {max-height: 200px;max-width: 100%;overflow: auto;}#sk-container-id-5 input.sk-toggleable__control:checked~label.sk-toggleable__label-arrow:before {content: \"▾\";}#sk-container-id-5 div.sk-estimator input.sk-toggleable__control:checked~label.sk-toggleable__label {background-color: #d4ebff;}#sk-container-id-5 div.sk-label input.sk-toggleable__control:checked~label.sk-toggleable__label {background-color: #d4ebff;}#sk-container-id-5 input.sk-hidden--visually {border: 0;clip: rect(1px 1px 1px 1px);clip: rect(1px, 1px, 1px, 1px);height: 1px;margin: -1px;overflow: hidden;padding: 0;position: absolute;width: 1px;}#sk-container-id-5 div.sk-estimator {font-family: monospace;background-color: #f0f8ff;border: 1px dotted black;border-radius: 0.25em;box-sizing: border-box;margin-bottom: 0.5em;}#sk-container-id-5 div.sk-estimator:hover {background-color: #d4ebff;}#sk-container-id-5 div.sk-parallel-item::after {content: \"\";width: 100%;border-bottom: 1px solid gray;flex-grow: 1;}#sk-container-id-5 div.sk-label:hover label.sk-toggleable__label {background-color: #d4ebff;}#sk-container-id-5 div.sk-serial::before {content: \"\";position: absolute;border-left: 1px solid gray;box-sizing: border-box;top: 0;bottom: 0;left: 50%;z-index: 0;}#sk-container-id-5 div.sk-serial {display: flex;flex-direction: column;align-items: center;background-color: white;padding-right: 0.2em;padding-left: 0.2em;position: relative;}#sk-container-id-5 div.sk-item {position: relative;z-index: 1;}#sk-container-id-5 div.sk-parallel {display: flex;align-items: stretch;justify-content: center;background-color: white;position: relative;}#sk-container-id-5 div.sk-item::before, #sk-container-id-5 div.sk-parallel-item::before {content: \"\";position: absolute;border-left: 1px solid gray;box-sizing: border-box;top: 0;bottom: 0;left: 50%;z-index: -1;}#sk-container-id-5 div.sk-parallel-item {display: flex;flex-direction: column;z-index: 1;position: relative;background-color: white;}#sk-container-id-5 div.sk-parallel-item:first-child::after {align-self: flex-end;width: 50%;}#sk-container-id-5 div.sk-parallel-item:last-child::after {align-self: flex-start;width: 50%;}#sk-container-id-5 div.sk-parallel-item:only-child::after {width: 0;}#sk-container-id-5 div.sk-dashed-wrapped {border: 1px dashed gray;margin: 0 0.4em 0.5em 0.4em;box-sizing: border-box;padding-bottom: 0.4em;background-color: white;}#sk-container-id-5 div.sk-label label {font-family: monospace;font-weight: bold;display: inline-block;line-height: 1.2em;}#sk-container-id-5 div.sk-label-container {text-align: center;}#sk-container-id-5 div.sk-container {/* jupyter's `normalize.less` sets `[hidden] { display: none; }` but bootstrap.min.css set `[hidden] { display: none !important; }` so we also need the `!important` here to be able to override the default hidden behavior on the sphinx rendered scikit-learn.org. See: https://github.com/scikit-learn/scikit-learn/issues/21755 */display: inline-block !important;position: relative;}#sk-container-id-5 div.sk-text-repr-fallback {display: none;}</style><div id=\"sk-container-id-5\" class=\"sk-top-container\"><div class=\"sk-text-repr-fallback\"><pre>LinearRegression()</pre><b>In a Jupyter environment, please rerun this cell to show the HTML representation or trust the notebook. <br />On GitHub, the HTML representation is unable to render, please try loading this page with nbviewer.org.</b></div><div class=\"sk-container\" hidden><div class=\"sk-item\"><div class=\"sk-estimator sk-toggleable\"><input class=\"sk-toggleable__control sk-hidden--visually\" id=\"sk-estimator-id-5\" type=\"checkbox\" checked><label for=\"sk-estimator-id-5\" class=\"sk-toggleable__label sk-toggleable__label-arrow\">LinearRegression</label><div class=\"sk-toggleable__content\"><pre>LinearRegression()</pre></div></div></div></div></div>"
      ],
      "text/plain": [
       "LinearRegression()"
      ]
     },
     "execution_count": 55,
     "metadata": {},
     "output_type": "execute_result"
    }
   ],
   "source": [
    "lm = LinearRegression()\n",
    "lm.fit(train_X, train_y)"
   ]
  },
  {
   "cell_type": "code",
   "execution_count": 56,
   "id": "38e03087",
   "metadata": {},
   "outputs": [
    {
     "name": "stdout",
     "output_type": "stream",
     "text": [
      "intercept  -212.19981280461568\n",
      "  Predictor  coefficient\n",
      "0  new_mult     0.015450\n",
      "1      Year     0.105722\n",
      "2     Month     0.024371\n",
      "\n",
      "Regression statistics\n",
      "\n",
      "                      Mean Error (ME) : -0.0000\n",
      "       Root Mean Squared Error (RMSE) : 0.6632\n",
      "            Mean Absolute Error (MAE) : 0.4783\n",
      "          Mean Percentage Error (MPE) : 65.6261\n",
      "Mean Absolute Percentage Error (MAPE) : 114.7040\n"
     ]
    }
   ],
   "source": [
    "print('intercept ', lm.intercept_)\n",
    "print(pd.DataFrame({'Predictor': X.columns, 'coefficient': lm.coef_}))\n",
    "\n",
    "# print performance measures\n",
    "regressionSummary(train_y, lm.predict(train_X))"
   ]
  },
  {
   "cell_type": "code",
   "execution_count": 57,
   "id": "9d4a83f4",
   "metadata": {},
   "outputs": [
    {
     "name": "stdout",
     "output_type": "stream",
     "text": [
      "                            OLS Regression Results                            \n",
      "==============================================================================\n",
      "Dep. Variable:             Earthquake   R-squared:                       0.301\n",
      "Model:                            OLS   Adj. R-squared:                  0.284\n",
      "Method:                 Least Squares   F-statistic:                     16.98\n",
      "Date:                Wed, 08 May 2024   Prob (F-statistic):           3.12e-09\n",
      "Time:                        12:47:45   Log-Likelihood:                -123.00\n",
      "No. Observations:                 122   AIC:                             254.0\n",
      "Df Residuals:                     118   BIC:                             265.2\n",
      "Df Model:                           3                                         \n",
      "Covariance Type:            nonrobust                                         \n",
      "==============================================================================\n",
      "                 coef    std err          t      P>|t|      [0.025      0.975]\n",
      "------------------------------------------------------------------------------\n",
      "const       -212.1998     30.369     -6.987      0.000    -272.339    -152.060\n",
      "new_mult       0.0154      0.004      4.250      0.000       0.008       0.023\n",
      "Year           0.1057      0.015      6.965      0.000       0.076       0.136\n",
      "Month          0.0244      0.017      1.423      0.157      -0.010       0.058\n",
      "==============================================================================\n",
      "Omnibus:                       47.604   Durbin-Watson:                   2.003\n",
      "Prob(Omnibus):                  0.000   Jarque-Bera (JB):              157.267\n",
      "Skew:                           1.389   Prob(JB):                     7.08e-35\n",
      "Kurtosis:                       7.818   Cond. No.                     9.95e+05\n",
      "==============================================================================\n",
      "\n",
      "Notes:\n",
      "[1] Standard Errors assume that the covariance matrix of the errors is correctly specified.\n",
      "[2] The condition number is large, 9.95e+05. This might indicate that there are\n",
      "strong multicollinearity or other numerical problems.\n"
     ]
    }
   ],
   "source": [
    "import statsmodels.api as sm\n",
    "# Add a constant to the independent values to represent the intercept\n",
    "X_train_with_constant = sm.add_constant(train_X)\n",
    "\n",
    "# Fit the model\n",
    "model = sm.OLS(train_y, X_train_with_constant).fit()\n",
    "\n",
    "#Print the summary of the model\n",
    "print(model.summary())"
   ]
  },
  {
   "cell_type": "code",
   "execution_count": 58,
   "id": "8909e84b",
   "metadata": {},
   "outputs": [
    {
     "name": "stdout",
     "output_type": "stream",
     "text": [
      "Intercept: -212.19981280461568\n",
      "  Predictor  Coefficient\n",
      "0  new_mult     0.015450\n",
      "1      Year     0.105722\n",
      "2     Month     0.024371\n",
      "Mean Squared Error: 0.43980252920970464\n",
      "R^2: 0.3014833702453823\n"
     ]
    }
   ],
   "source": [
    "import pandas as pd\n",
    "from sklearn.linear_model import LinearRegression\n",
    "from sklearn.metrics import mean_squared_error, r2_score\n",
    "\n",
    "# Assuming train_X and train_y are your training features and target variable\n",
    "lm = LinearRegression()\n",
    "lm.fit(train_X, train_y)\n",
    "\n",
    "# Print intercept and coefficients\n",
    "print('Intercept:', lm.intercept_)\n",
    "coefficients_df = pd.DataFrame({'Predictor': X.columns, 'Coefficient': lm.coef_})\n",
    "print(coefficients_df)\n",
    "\n",
    "# Print performance measures\n",
    "predictions = lm.predict(train_X)\n",
    "mse = mean_squared_error(train_y, predictions)\n",
    "r2 = r2_score(train_y, predictions)\n",
    "print('Mean Squared Error:', mse)\n",
    "print('R^2:', r2)"
   ]
  },
  {
   "cell_type": "code",
   "execution_count": 59,
   "id": "78d86405",
   "metadata": {},
   "outputs": [
    {
     "name": "stdout",
     "output_type": "stream",
     "text": [
      "     Predicted    Actual  Residual\n",
      "127  -0.354910 -0.886166 -0.531256\n",
      "203   0.378213  0.591218  0.213005\n",
      "18   -1.009775 -0.895482  0.114293\n",
      "175   0.069022 -0.020542 -0.089564\n",
      "196   0.206831  2.607384  2.400553\n",
      "31   -1.192769 -1.213395 -0.020626\n",
      "28   -1.264216 -1.093838  0.170378\n",
      "40   -1.163965 -1.292194 -0.128229\n",
      "95   -0.574591 -1.091121 -0.516530\n",
      "38   -1.212239 -1.353137 -0.140898\n",
      "145  -0.289537  0.240310  0.529847\n",
      "44   -1.067261 -0.110210  0.957051\n",
      "51   -1.084542 -1.156722 -0.072180\n",
      "69   -0.833216 -0.883837 -0.050621\n",
      "4    -0.190904 -0.109821  0.081082\n",
      "93   -0.623334 -0.018601  0.604733\n",
      "172  -0.004666  0.369959  0.374625\n",
      "150  -0.167732  0.054764  0.222496\n",
      "11   -0.630984 -0.967682 -0.336698\n",
      "117  -0.411889 -1.145853 -0.733964\n"
     ]
    }
   ],
   "source": [
    "# Use predict() to make predictions on a new set\n",
    "lm_pred = lm.predict(valid_X)\n",
    "\n",
    "result = pd.DataFrame({'Predicted': lm_pred, 'Actual': valid_y,\n",
    "                       'Residual': valid_y - lm_pred})\n",
    "#Print the first 20 predictions\n",
    "print(result.head(20))"
   ]
  },
  {
   "cell_type": "code",
   "execution_count": 60,
   "id": "d867334c",
   "metadata": {},
   "outputs": [
    {
     "name": "stderr",
     "output_type": "stream",
     "text": [
      "C:\\Users\\richw\\AppData\\Local\\Temp\\ipykernel_29904\\1324754206.py:1: UserWarning: \n",
      "\n",
      "`distplot` is a deprecated function and will be removed in seaborn v0.14.0.\n",
      "\n",
      "Please adapt your code to use either `displot` (a figure-level function with\n",
      "similar flexibility) or `histplot` (an axes-level function for histograms).\n",
      "\n",
      "For a guide to updating your code to use the new functions, please see\n",
      "https://gist.github.com/mwaskom/de44147ed2974457ad6372750bbe5751\n",
      "\n",
      "  sns.distplot((valid_y-lm_pred),bins=50);\n"
     ]
    },
    {
     "data": {
      "image/png": "[encoded data removed]",
      "text/plain": [
       "<Figure size 640x480 with 1 Axes>"
      ]
     },
     "metadata": {},
     "output_type": "display_data"
    }
   ],
   "source": [
    "sns.distplot((valid_y-lm_pred),bins=50);"
   ]
  },
  {
   "cell_type": "code",
   "execution_count": 61,
   "id": "d5ccb71d",
   "metadata": {},
   "outputs": [
    {
     "data": {
      "image/png": "[encoded data removed]",
      "text/plain": [
       "<Figure size 1000x600 with 1 Axes>"
      ]
     },
     "metadata": {},
     "output_type": "display_data"
    }
   ],
   "source": [
    "plt.figure(figsize=(10, 6))\n",
    "\n",
    "# Plot actual vs predicted values as a dot plot\n",
    "plt.scatter(valid_y, lm_pred, color='blue', label='Actual vs Predicted', alpha=0.5)\n",
    "\n",
    "# Plot a line showing the perfect prediction (y=x)\n",
    "plt.plot([valid_y.min(), valid_y.max()], [valid_y.min(), valid_y.max()], 'k--', lw=2, label='Perfect Prediction')\n",
    "\n",
    "plt.xlabel('Actual Values')\n",
    "plt.ylabel('Predicted Values')\n",
    "plt.title('Predicted vs Actual Values on Earthquakes')\n",
    "plt.legend()\n",
    "plt.show()"
   ]
  },
  {
   "cell_type": "code",
   "execution_count": 62,
   "id": "a6d5c786",
   "metadata": {},
   "outputs": [
    {
     "name": "stdout",
     "output_type": "stream",
     "text": [
      "Variables: new_mult, Year, Month\n",
      "Start: score=256.01\n",
      "Step: score=256.01, remove None\n",
      "['new_mult', 'Year', 'Month']\n"
     ]
    }
   ],
   "source": [
    "def train_model(variables):\n",
    "    model = LinearRegression()\n",
    "    model.fit(train_X[variables], train_y)\n",
    "    return model\n",
    "\n",
    "def score_model(model, variables):\n",
    "    return AIC_score(train_y, model.predict(train_X[variables]), model)\n",
    "\n",
    "best_model, best_variables = backward_elimination(train_X.columns, train_model, score_model, verbose=True)\n",
    "\n",
    "print(best_variables)"
   ]
  },
  {
   "cell_type": "code",
   "execution_count": 63,
   "id": "c0254838",
   "metadata": {},
   "outputs": [
    {
     "name": "stderr",
     "output_type": "stream",
     "text": [
      "C:\\Users\\richw\\AppData\\Local\\Temp\\ipykernel_29904\\738903089.py:1: SettingWithCopyWarning: \n",
      "A value is trying to be set on a copy of a slice from a DataFrame.\n",
      "Try using .loc[row_indexer,col_indexer] = value instead\n",
      "\n",
      "See the caveats in the documentation: https://pandas.pydata.org/pandas-docs/stable/user_guide/indexing.html#returning-a-view-versus-a-copy\n",
      "  df2['mult_Aerosols'] = df['Aerosols'] * 30\n"
     ]
    }
   ],
   "source": [
    "df2['mult_Aerosols'] = df['Aerosols'] * 30"
   ]
  },
  {
   "cell_type": "code",
   "execution_count": 64,
   "id": "1ead1e4d",
   "metadata": {},
   "outputs": [
    {
     "data": {
      "text/html": [
       "<div>\n",
       "<style scoped>\n",
       "    .dataframe tbody tr th:only-of-type {\n",
       "        vertical-align: middle;\n",
       "    }\n",
       "\n",
       "    .dataframe tbody tr th {\n",
       "        vertical-align: top;\n",
       "    }\n",
       "\n",
       "    .dataframe thead th {\n",
       "        text-align: right;\n",
       "    }\n",
       "</style>\n",
       "<table border=\"1\" class=\"dataframe\">\n",
       "  <thead>\n",
       "    <tr style=\"text-align: right;\">\n",
       "      <th></th>\n",
       "      <th>index</th>\n",
       "      <th>Year</th>\n",
       "      <th>Month</th>\n",
       "      <th>Total Daily Sunspots</th>\n",
       "      <th>Northern Total Daily Sunspots</th>\n",
       "      <th>Southern Total Daily Sunspots</th>\n",
       "      <th>Earthquake</th>\n",
       "      <th>Magnitude</th>\n",
       "      <th>OutagesCount</th>\n",
       "      <th>MEI</th>\n",
       "      <th>...</th>\n",
       "      <th>CFC-11</th>\n",
       "      <th>CFC-12</th>\n",
       "      <th>TSI</th>\n",
       "      <th>Aerosols</th>\n",
       "      <th>Temp</th>\n",
       "      <th>if_Aerosols</th>\n",
       "      <th>Aerosols_bins</th>\n",
       "      <th>mult_Aerosols</th>\n",
       "      <th>new_mult</th>\n",
       "      <th>lower_Aerosols</th>\n",
       "    </tr>\n",
       "  </thead>\n",
       "  <tbody>\n",
       "    <tr>\n",
       "      <th>0</th>\n",
       "      <td>0</td>\n",
       "      <td>1992</td>\n",
       "      <td>1</td>\n",
       "      <td>2.212132</td>\n",
       "      <td>1.076356</td>\n",
       "      <td>2.991963</td>\n",
       "      <td>-1.760718</td>\n",
       "      <td>0.763482</td>\n",
       "      <td>0.0</td>\n",
       "      <td>1.534375</td>\n",
       "      <td>...</td>\n",
       "      <td>0.831324</td>\n",
       "      <td>-2.946962</td>\n",
       "      <td>1.205094</td>\n",
       "      <td>4.518989</td>\n",
       "      <td>-0.400627</td>\n",
       "      <td>6.518989</td>\n",
       "      <td>Very High</td>\n",
       "      <td>135.569658</td>\n",
       "      <td>90.379772</td>\n",
       "      <td>-5.481011</td>\n",
       "    </tr>\n",
       "    <tr>\n",
       "      <th>1</th>\n",
       "      <td>1</td>\n",
       "      <td>1992</td>\n",
       "      <td>2</td>\n",
       "      <td>2.517832</td>\n",
       "      <td>1.904234</td>\n",
       "      <td>2.741266</td>\n",
       "      <td>-1.480846</td>\n",
       "      <td>0.213346</td>\n",
       "      <td>0.0</td>\n",
       "      <td>1.660791</td>\n",
       "      <td>...</td>\n",
       "      <td>0.857259</td>\n",
       "      <td>-2.757169</td>\n",
       "      <td>0.956994</td>\n",
       "      <td>4.556087</td>\n",
       "      <td>-0.500930</td>\n",
       "      <td>6.556087</td>\n",
       "      <td>Very High</td>\n",
       "      <td>136.682600</td>\n",
       "      <td>91.121734</td>\n",
       "      <td>-5.443913</td>\n",
       "    </tr>\n",
       "    <tr>\n",
       "      <th>2</th>\n",
       "      <td>2</td>\n",
       "      <td>1992</td>\n",
       "      <td>3</td>\n",
       "      <td>1.388318</td>\n",
       "      <td>0.821059</td>\n",
       "      <td>1.735396</td>\n",
       "      <td>-1.396224</td>\n",
       "      <td>0.490418</td>\n",
       "      <td>0.0</td>\n",
       "      <td>1.787207</td>\n",
       "      <td>...</td>\n",
       "      <td>0.880763</td>\n",
       "      <td>-2.688122</td>\n",
       "      <td>1.785988</td>\n",
       "      <td>4.333498</td>\n",
       "      <td>-0.820644</td>\n",
       "      <td>6.333498</td>\n",
       "      <td>Very High</td>\n",
       "      <td>130.004947</td>\n",
       "      <td>86.669964</td>\n",
       "      <td>-5.666502</td>\n",
       "    </tr>\n",
       "    <tr>\n",
       "      <th>3</th>\n",
       "      <td>3</td>\n",
       "      <td>1992</td>\n",
       "      <td>4</td>\n",
       "      <td>1.156233</td>\n",
       "      <td>0.054116</td>\n",
       "      <td>2.061096</td>\n",
       "      <td>0.052823</td>\n",
       "      <td>0.965017</td>\n",
       "      <td>0.0</td>\n",
       "      <td>2.078695</td>\n",
       "      <td>...</td>\n",
       "      <td>0.870342</td>\n",
       "      <td>-2.655429</td>\n",
       "      <td>1.393443</td>\n",
       "      <td>4.191851</td>\n",
       "      <td>-1.240662</td>\n",
       "      <td>6.191851</td>\n",
       "      <td>Very High</td>\n",
       "      <td>125.755531</td>\n",
       "      <td>83.837021</td>\n",
       "      <td>-5.808149</td>\n",
       "    </tr>\n",
       "    <tr>\n",
       "      <th>4</th>\n",
       "      <td>4</td>\n",
       "      <td>1992</td>\n",
       "      <td>5</td>\n",
       "      <td>0.400976</td>\n",
       "      <td>-0.133942</td>\n",
       "      <td>0.864121</td>\n",
       "      <td>-0.109821</td>\n",
       "      <td>0.584660</td>\n",
       "      <td>0.0</td>\n",
       "      <td>1.931384</td>\n",
       "      <td>...</td>\n",
       "      <td>0.900793</td>\n",
       "      <td>-2.532068</td>\n",
       "      <td>0.931534</td>\n",
       "      <td>4.168243</td>\n",
       "      <td>-1.284544</td>\n",
       "      <td>6.168243</td>\n",
       "      <td>Very High</td>\n",
       "      <td>125.047295</td>\n",
       "      <td>83.364863</td>\n",
       "      <td>-5.831757</td>\n",
       "    </tr>\n",
       "  </tbody>\n",
       "</table>\n",
       "<p>5 rows × 23 columns</p>\n",
       "</div>"
      ],
      "text/plain": [
       "   index  Year  Month  Total Daily Sunspots  Northern Total Daily Sunspots  \\\n",
       "0      0  1992      1              2.212132                       1.076356   \n",
       "1      1  1992      2              2.517832                       1.904234   \n",
       "2      2  1992      3              1.388318                       0.821059   \n",
       "3      3  1992      4              1.156233                       0.054116   \n",
       "4      4  1992      5              0.400976                      -0.133942   \n",
       "\n",
       "   Southern Total Daily Sunspots  Earthquake  Magnitude  OutagesCount  \\\n",
       "0                       2.991963   -1.760718   0.763482           0.0   \n",
       "1                       2.741266   -1.480846   0.213346           0.0   \n",
       "2                       1.735396   -1.396224   0.490418           0.0   \n",
       "3                       2.061096    0.052823   0.965017           0.0   \n",
       "4                       0.864121   -0.109821   0.584660           0.0   \n",
       "\n",
       "        MEI  ...    CFC-11    CFC-12       TSI  Aerosols      Temp  \\\n",
       "0  1.534375  ...  0.831324 -2.946962  1.205094  4.518989 -0.400627   \n",
       "1  1.660791  ...  0.857259 -2.757169  0.956994  4.556087 -0.500930   \n",
       "2  1.787207  ...  0.880763 -2.688122  1.785988  4.333498 -0.820644   \n",
       "3  2.078695  ...  0.870342 -2.655429  1.393443  4.191851 -1.240662   \n",
       "4  1.931384  ...  0.900793 -2.532068  0.931534  4.168243 -1.284544   \n",
       "\n",
       "   if_Aerosols  Aerosols_bins  mult_Aerosols   new_mult lower_Aerosols  \n",
       "0     6.518989      Very High     135.569658  90.379772      -5.481011  \n",
       "1     6.556087      Very High     136.682600  91.121734      -5.443913  \n",
       "2     6.333498      Very High     130.004947  86.669964      -5.666502  \n",
       "3     6.191851      Very High     125.755531  83.837021      -5.808149  \n",
       "4     6.168243      Very High     125.047295  83.364863      -5.831757  \n",
       "\n",
       "[5 rows x 23 columns]"
      ]
     },
     "execution_count": 64,
     "metadata": {},
     "output_type": "execute_result"
    }
   ],
   "source": [
    "df2.head()"
   ]
  },
  {
   "cell_type": "code",
   "execution_count": 65,
   "id": "6e47968b",
   "metadata": {},
   "outputs": [
    {
     "name": "stderr",
     "output_type": "stream",
     "text": [
      "C:\\Users\\richw\\AppData\\Local\\Temp\\ipykernel_29904\\359915537.py:4: SettingWithCopyWarning: \n",
      "A value is trying to be set on a copy of a slice from a DataFrame.\n",
      "Try using .loc[row_indexer,col_indexer] = value instead\n",
      "\n",
      "See the caveats in the documentation: https://pandas.pydata.org/pandas-docs/stable/user_guide/indexing.html#returning-a-view-versus-a-copy\n",
      "  df2['new_mult'] = df['Aerosols'].copy()\n"
     ]
    }
   ],
   "source": [
    "multiplier = 20\n",
    "\n",
    "# Create a new column 'C' and multiply only the first 5 rows of column 'A' by the multiplier\n",
    "df2['new_mult'] = df['Aerosols'].copy()\n",
    "df2.loc[:25, 'new_mult'] *= multiplier"
   ]
  },
  {
   "cell_type": "code",
   "execution_count": 66,
   "id": "4f45b7b8",
   "metadata": {},
   "outputs": [
    {
     "data": {
      "text/html": [
       "<div>\n",
       "<style scoped>\n",
       "    .dataframe tbody tr th:only-of-type {\n",
       "        vertical-align: middle;\n",
       "    }\n",
       "\n",
       "    .dataframe tbody tr th {\n",
       "        vertical-align: top;\n",
       "    }\n",
       "\n",
       "    .dataframe thead th {\n",
       "        text-align: right;\n",
       "    }\n",
       "</style>\n",
       "<table border=\"1\" class=\"dataframe\">\n",
       "  <thead>\n",
       "    <tr style=\"text-align: right;\">\n",
       "      <th></th>\n",
       "      <th>index</th>\n",
       "      <th>Year</th>\n",
       "      <th>Month</th>\n",
       "      <th>Total Daily Sunspots</th>\n",
       "      <th>Northern Total Daily Sunspots</th>\n",
       "      <th>Southern Total Daily Sunspots</th>\n",
       "      <th>Earthquake</th>\n",
       "      <th>Magnitude</th>\n",
       "      <th>OutagesCount</th>\n",
       "      <th>MEI</th>\n",
       "      <th>...</th>\n",
       "      <th>CFC-11</th>\n",
       "      <th>CFC-12</th>\n",
       "      <th>TSI</th>\n",
       "      <th>Aerosols</th>\n",
       "      <th>Temp</th>\n",
       "      <th>if_Aerosols</th>\n",
       "      <th>Aerosols_bins</th>\n",
       "      <th>mult_Aerosols</th>\n",
       "      <th>new_mult</th>\n",
       "      <th>lower_Aerosols</th>\n",
       "    </tr>\n",
       "  </thead>\n",
       "  <tbody>\n",
       "    <tr>\n",
       "      <th>0</th>\n",
       "      <td>0</td>\n",
       "      <td>1992</td>\n",
       "      <td>1</td>\n",
       "      <td>2.212132</td>\n",
       "      <td>1.076356</td>\n",
       "      <td>2.991963</td>\n",
       "      <td>-1.760718</td>\n",
       "      <td>0.763482</td>\n",
       "      <td>0.0</td>\n",
       "      <td>1.534375</td>\n",
       "      <td>...</td>\n",
       "      <td>0.831324</td>\n",
       "      <td>-2.946962</td>\n",
       "      <td>1.205094</td>\n",
       "      <td>4.518989</td>\n",
       "      <td>-0.400627</td>\n",
       "      <td>6.518989</td>\n",
       "      <td>Very High</td>\n",
       "      <td>135.569658</td>\n",
       "      <td>90.379772</td>\n",
       "      <td>-5.481011</td>\n",
       "    </tr>\n",
       "    <tr>\n",
       "      <th>1</th>\n",
       "      <td>1</td>\n",
       "      <td>1992</td>\n",
       "      <td>2</td>\n",
       "      <td>2.517832</td>\n",
       "      <td>1.904234</td>\n",
       "      <td>2.741266</td>\n",
       "      <td>-1.480846</td>\n",
       "      <td>0.213346</td>\n",
       "      <td>0.0</td>\n",
       "      <td>1.660791</td>\n",
       "      <td>...</td>\n",
       "      <td>0.857259</td>\n",
       "      <td>-2.757169</td>\n",
       "      <td>0.956994</td>\n",
       "      <td>4.556087</td>\n",
       "      <td>-0.500930</td>\n",
       "      <td>6.556087</td>\n",
       "      <td>Very High</td>\n",
       "      <td>136.682600</td>\n",
       "      <td>91.121734</td>\n",
       "      <td>-5.443913</td>\n",
       "    </tr>\n",
       "    <tr>\n",
       "      <th>2</th>\n",
       "      <td>2</td>\n",
       "      <td>1992</td>\n",
       "      <td>3</td>\n",
       "      <td>1.388318</td>\n",
       "      <td>0.821059</td>\n",
       "      <td>1.735396</td>\n",
       "      <td>-1.396224</td>\n",
       "      <td>0.490418</td>\n",
       "      <td>0.0</td>\n",
       "      <td>1.787207</td>\n",
       "      <td>...</td>\n",
       "      <td>0.880763</td>\n",
       "      <td>-2.688122</td>\n",
       "      <td>1.785988</td>\n",
       "      <td>4.333498</td>\n",
       "      <td>-0.820644</td>\n",
       "      <td>6.333498</td>\n",
       "      <td>Very High</td>\n",
       "      <td>130.004947</td>\n",
       "      <td>86.669964</td>\n",
       "      <td>-5.666502</td>\n",
       "    </tr>\n",
       "    <tr>\n",
       "      <th>3</th>\n",
       "      <td>3</td>\n",
       "      <td>1992</td>\n",
       "      <td>4</td>\n",
       "      <td>1.156233</td>\n",
       "      <td>0.054116</td>\n",
       "      <td>2.061096</td>\n",
       "      <td>0.052823</td>\n",
       "      <td>0.965017</td>\n",
       "      <td>0.0</td>\n",
       "      <td>2.078695</td>\n",
       "      <td>...</td>\n",
       "      <td>0.870342</td>\n",
       "      <td>-2.655429</td>\n",
       "      <td>1.393443</td>\n",
       "      <td>4.191851</td>\n",
       "      <td>-1.240662</td>\n",
       "      <td>6.191851</td>\n",
       "      <td>Very High</td>\n",
       "      <td>125.755531</td>\n",
       "      <td>83.837021</td>\n",
       "      <td>-5.808149</td>\n",
       "    </tr>\n",
       "    <tr>\n",
       "      <th>4</th>\n",
       "      <td>4</td>\n",
       "      <td>1992</td>\n",
       "      <td>5</td>\n",
       "      <td>0.400976</td>\n",
       "      <td>-0.133942</td>\n",
       "      <td>0.864121</td>\n",
       "      <td>-0.109821</td>\n",
       "      <td>0.584660</td>\n",
       "      <td>0.0</td>\n",
       "      <td>1.931384</td>\n",
       "      <td>...</td>\n",
       "      <td>0.900793</td>\n",
       "      <td>-2.532068</td>\n",
       "      <td>0.931534</td>\n",
       "      <td>4.168243</td>\n",
       "      <td>-1.284544</td>\n",
       "      <td>6.168243</td>\n",
       "      <td>Very High</td>\n",
       "      <td>125.047295</td>\n",
       "      <td>83.364863</td>\n",
       "      <td>-5.831757</td>\n",
       "    </tr>\n",
       "  </tbody>\n",
       "</table>\n",
       "<p>5 rows × 23 columns</p>\n",
       "</div>"
      ],
      "text/plain": [
       "   index  Year  Month  Total Daily Sunspots  Northern Total Daily Sunspots  \\\n",
       "0      0  1992      1              2.212132                       1.076356   \n",
       "1      1  1992      2              2.517832                       1.904234   \n",
       "2      2  1992      3              1.388318                       0.821059   \n",
       "3      3  1992      4              1.156233                       0.054116   \n",
       "4      4  1992      5              0.400976                      -0.133942   \n",
       "\n",
       "   Southern Total Daily Sunspots  Earthquake  Magnitude  OutagesCount  \\\n",
       "0                       2.991963   -1.760718   0.763482           0.0   \n",
       "1                       2.741266   -1.480846   0.213346           0.0   \n",
       "2                       1.735396   -1.396224   0.490418           0.0   \n",
       "3                       2.061096    0.052823   0.965017           0.0   \n",
       "4                       0.864121   -0.109821   0.584660           0.0   \n",
       "\n",
       "        MEI  ...    CFC-11    CFC-12       TSI  Aerosols      Temp  \\\n",
       "0  1.534375  ...  0.831324 -2.946962  1.205094  4.518989 -0.400627   \n",
       "1  1.660791  ...  0.857259 -2.757169  0.956994  4.556087 -0.500930   \n",
       "2  1.787207  ...  0.880763 -2.688122  1.785988  4.333498 -0.820644   \n",
       "3  2.078695  ...  0.870342 -2.655429  1.393443  4.191851 -1.240662   \n",
       "4  1.931384  ...  0.900793 -2.532068  0.931534  4.168243 -1.284544   \n",
       "\n",
       "   if_Aerosols  Aerosols_bins  mult_Aerosols   new_mult lower_Aerosols  \n",
       "0     6.518989      Very High     135.569658  90.379772      -5.481011  \n",
       "1     6.556087      Very High     136.682600  91.121734      -5.443913  \n",
       "2     6.333498      Very High     130.004947  86.669964      -5.666502  \n",
       "3     6.191851      Very High     125.755531  83.837021      -5.808149  \n",
       "4     6.168243      Very High     125.047295  83.364863      -5.831757  \n",
       "\n",
       "[5 rows x 23 columns]"
      ]
     },
     "execution_count": 66,
     "metadata": {},
     "output_type": "execute_result"
    }
   ],
   "source": [
    "df2.head()"
   ]
  },
  {
   "cell_type": "code",
   "execution_count": 37,
   "id": "6447434f",
   "metadata": {},
   "outputs": [
    {
     "name": "stderr",
     "output_type": "stream",
     "text": [
      "C:\\Users\\richw\\AppData\\Local\\Temp\\ipykernel_29904\\1604271244.py:1: SettingWithCopyWarning: \n",
      "A value is trying to be set on a copy of a slice from a DataFrame.\n",
      "Try using .loc[row_indexer,col_indexer] = value instead\n",
      "\n",
      "See the caveats in the documentation: https://pandas.pydata.org/pandas-docs/stable/user_guide/indexing.html#returning-a-view-versus-a-copy\n",
      "  df2['lower_Aerosols'] = df['Aerosols'] - 10\n"
     ]
    }
   ],
   "source": [
    "df2['lower_Aerosols'] = df['Aerosols'] - 10"
   ]
  },
  {
   "cell_type": "code",
   "execution_count": 38,
   "id": "127ddf1e",
   "metadata": {},
   "outputs": [
    {
     "data": {
      "text/html": [
       "<div>\n",
       "<style scoped>\n",
       "    .dataframe tbody tr th:only-of-type {\n",
       "        vertical-align: middle;\n",
       "    }\n",
       "\n",
       "    .dataframe tbody tr th {\n",
       "        vertical-align: top;\n",
       "    }\n",
       "\n",
       "    .dataframe thead th {\n",
       "        text-align: right;\n",
       "    }\n",
       "</style>\n",
       "<table border=\"1\" class=\"dataframe\">\n",
       "  <thead>\n",
       "    <tr style=\"text-align: right;\">\n",
       "      <th></th>\n",
       "      <th>index</th>\n",
       "      <th>Year</th>\n",
       "      <th>Month</th>\n",
       "      <th>Total Daily Sunspots</th>\n",
       "      <th>Northern Total Daily Sunspots</th>\n",
       "      <th>Southern Total Daily Sunspots</th>\n",
       "      <th>Earthquake</th>\n",
       "      <th>Magnitude</th>\n",
       "      <th>OutagesCount</th>\n",
       "      <th>MEI</th>\n",
       "      <th>...</th>\n",
       "      <th>CFC-11</th>\n",
       "      <th>CFC-12</th>\n",
       "      <th>TSI</th>\n",
       "      <th>Aerosols</th>\n",
       "      <th>Temp</th>\n",
       "      <th>if_Aerosols</th>\n",
       "      <th>Aerosols_bins</th>\n",
       "      <th>mult_Aerosols</th>\n",
       "      <th>new_mult</th>\n",
       "      <th>lower_Aerosols</th>\n",
       "    </tr>\n",
       "  </thead>\n",
       "  <tbody>\n",
       "    <tr>\n",
       "      <th>0</th>\n",
       "      <td>0</td>\n",
       "      <td>1992</td>\n",
       "      <td>1</td>\n",
       "      <td>2.212132</td>\n",
       "      <td>1.076356</td>\n",
       "      <td>2.991963</td>\n",
       "      <td>-1.760718</td>\n",
       "      <td>0.763482</td>\n",
       "      <td>0.0</td>\n",
       "      <td>1.534375</td>\n",
       "      <td>...</td>\n",
       "      <td>0.831324</td>\n",
       "      <td>-2.946962</td>\n",
       "      <td>1.205094</td>\n",
       "      <td>4.518989</td>\n",
       "      <td>-0.400627</td>\n",
       "      <td>6.518989</td>\n",
       "      <td>Very High</td>\n",
       "      <td>135.569658</td>\n",
       "      <td>90.379772</td>\n",
       "      <td>-5.481011</td>\n",
       "    </tr>\n",
       "    <tr>\n",
       "      <th>1</th>\n",
       "      <td>1</td>\n",
       "      <td>1992</td>\n",
       "      <td>2</td>\n",
       "      <td>2.517832</td>\n",
       "      <td>1.904234</td>\n",
       "      <td>2.741266</td>\n",
       "      <td>-1.480846</td>\n",
       "      <td>0.213346</td>\n",
       "      <td>0.0</td>\n",
       "      <td>1.660791</td>\n",
       "      <td>...</td>\n",
       "      <td>0.857259</td>\n",
       "      <td>-2.757169</td>\n",
       "      <td>0.956994</td>\n",
       "      <td>4.556087</td>\n",
       "      <td>-0.500930</td>\n",
       "      <td>6.556087</td>\n",
       "      <td>Very High</td>\n",
       "      <td>136.682600</td>\n",
       "      <td>91.121734</td>\n",
       "      <td>-5.443913</td>\n",
       "    </tr>\n",
       "    <tr>\n",
       "      <th>2</th>\n",
       "      <td>2</td>\n",
       "      <td>1992</td>\n",
       "      <td>3</td>\n",
       "      <td>1.388318</td>\n",
       "      <td>0.821059</td>\n",
       "      <td>1.735396</td>\n",
       "      <td>-1.396224</td>\n",
       "      <td>0.490418</td>\n",
       "      <td>0.0</td>\n",
       "      <td>1.787207</td>\n",
       "      <td>...</td>\n",
       "      <td>0.880763</td>\n",
       "      <td>-2.688122</td>\n",
       "      <td>1.785988</td>\n",
       "      <td>4.333498</td>\n",
       "      <td>-0.820644</td>\n",
       "      <td>6.333498</td>\n",
       "      <td>Very High</td>\n",
       "      <td>130.004947</td>\n",
       "      <td>86.669964</td>\n",
       "      <td>-5.666502</td>\n",
       "    </tr>\n",
       "    <tr>\n",
       "      <th>3</th>\n",
       "      <td>3</td>\n",
       "      <td>1992</td>\n",
       "      <td>4</td>\n",
       "      <td>1.156233</td>\n",
       "      <td>0.054116</td>\n",
       "      <td>2.061096</td>\n",
       "      <td>0.052823</td>\n",
       "      <td>0.965017</td>\n",
       "      <td>0.0</td>\n",
       "      <td>2.078695</td>\n",
       "      <td>...</td>\n",
       "      <td>0.870342</td>\n",
       "      <td>-2.655429</td>\n",
       "      <td>1.393443</td>\n",
       "      <td>4.191851</td>\n",
       "      <td>-1.240662</td>\n",
       "      <td>6.191851</td>\n",
       "      <td>Very High</td>\n",
       "      <td>125.755531</td>\n",
       "      <td>83.837021</td>\n",
       "      <td>-5.808149</td>\n",
       "    </tr>\n",
       "    <tr>\n",
       "      <th>4</th>\n",
       "      <td>4</td>\n",
       "      <td>1992</td>\n",
       "      <td>5</td>\n",
       "      <td>0.400976</td>\n",
       "      <td>-0.133942</td>\n",
       "      <td>0.864121</td>\n",
       "      <td>-0.109821</td>\n",
       "      <td>0.584660</td>\n",
       "      <td>0.0</td>\n",
       "      <td>1.931384</td>\n",
       "      <td>...</td>\n",
       "      <td>0.900793</td>\n",
       "      <td>-2.532068</td>\n",
       "      <td>0.931534</td>\n",
       "      <td>4.168243</td>\n",
       "      <td>-1.284544</td>\n",
       "      <td>6.168243</td>\n",
       "      <td>Very High</td>\n",
       "      <td>125.047295</td>\n",
       "      <td>83.364863</td>\n",
       "      <td>-5.831757</td>\n",
       "    </tr>\n",
       "  </tbody>\n",
       "</table>\n",
       "<p>5 rows × 23 columns</p>\n",
       "</div>"
      ],
      "text/plain": [
       "   index  Year  Month  Total Daily Sunspots  Northern Total Daily Sunspots  \\\n",
       "0      0  1992      1              2.212132                       1.076356   \n",
       "1      1  1992      2              2.517832                       1.904234   \n",
       "2      2  1992      3              1.388318                       0.821059   \n",
       "3      3  1992      4              1.156233                       0.054116   \n",
       "4      4  1992      5              0.400976                      -0.133942   \n",
       "\n",
       "   Southern Total Daily Sunspots  Earthquake  Magnitude  OutagesCount  \\\n",
       "0                       2.991963   -1.760718   0.763482           0.0   \n",
       "1                       2.741266   -1.480846   0.213346           0.0   \n",
       "2                       1.735396   -1.396224   0.490418           0.0   \n",
       "3                       2.061096    0.052823   0.965017           0.0   \n",
       "4                       0.864121   -0.109821   0.584660           0.0   \n",
       "\n",
       "        MEI  ...    CFC-11    CFC-12       TSI  Aerosols      Temp  \\\n",
       "0  1.534375  ...  0.831324 -2.946962  1.205094  4.518989 -0.400627   \n",
       "1  1.660791  ...  0.857259 -2.757169  0.956994  4.556087 -0.500930   \n",
       "2  1.787207  ...  0.880763 -2.688122  1.785988  4.333498 -0.820644   \n",
       "3  2.078695  ...  0.870342 -2.655429  1.393443  4.191851 -1.240662   \n",
       "4  1.931384  ...  0.900793 -2.532068  0.931534  4.168243 -1.284544   \n",
       "\n",
       "   if_Aerosols  Aerosols_bins  mult_Aerosols   new_mult lower_Aerosols  \n",
       "0     6.518989      Very High     135.569658  90.379772      -5.481011  \n",
       "1     6.556087      Very High     136.682600  91.121734      -5.443913  \n",
       "2     6.333498      Very High     130.004947  86.669964      -5.666502  \n",
       "3     6.191851      Very High     125.755531  83.837021      -5.808149  \n",
       "4     6.168243      Very High     125.047295  83.364863      -5.831757  \n",
       "\n",
       "[5 rows x 23 columns]"
      ]
     },
     "execution_count": 38,
     "metadata": {},
     "output_type": "execute_result"
    }
   ],
   "source": [
    "df2.head()"
   ]
  },
  {
   "cell_type": "code",
   "execution_count": null,
   "id": "7bc7a666",
   "metadata": {},
   "outputs": [],
   "source": []
  }
 ],
 "metadata": {
  "kernelspec": {
   "display_name": "Python 3 (ipykernel)",
   "language": "python",
   "name": "python3"
  },
  "language_info": {
   "codemirror_mode": {
    "name": "ipython",
    "version": 3
   },
   "file_extension": ".py",
   "mimetype": "text/x-python",
   "name": "python",
   "nbconvert_exporter": "python",
   "pygments_lexer": "ipython3",
   "version": "3.11.5"
  }
 },
 "nbformat": 4,
 "nbformat_minor": 5
}
