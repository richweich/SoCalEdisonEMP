{
 "cells": [
  {
   "cell_type": "markdown",
   "id": "e8e1fe0c",
   "metadata": {},
   "source": [
    "# Outages"
   ]
  },
  {
   "cell_type": "code",
   "execution_count": 1,
   "id": "79e0508c",
   "metadata": {},
   "outputs": [
    {
     "name": "stdout",
     "output_type": "stream",
     "text": [
      "Requirement already satisfied: pandas in c:\\users\\richwei chea\\anaconda3\\lib\\site-packages (2.0.3)\n",
      "Requirement already satisfied: numpy in c:\\users\\richwei chea\\anaconda3\\lib\\site-packages (1.24.3)\n",
      "Requirement already satisfied: scikit-learn in c:\\users\\richwei chea\\anaconda3\\lib\\site-packages (1.3.0)\n",
      "Requirement already satisfied: python-dateutil>=2.8.2 in c:\\users\\richwei chea\\anaconda3\\lib\\site-packages (from pandas) (2.8.2)\n",
      "Requirement already satisfied: pytz>=2020.1 in c:\\users\\richwei chea\\anaconda3\\lib\\site-packages (from pandas) (2023.3.post1)\n",
      "Requirement already satisfied: tzdata>=2022.1 in c:\\users\\richwei chea\\anaconda3\\lib\\site-packages (from pandas) (2023.3)\n",
      "Requirement already satisfied: scipy>=1.5.0 in c:\\users\\richwei chea\\anaconda3\\lib\\site-packages (from scikit-learn) (1.11.1)\n",
      "Requirement already satisfied: joblib>=1.1.1 in c:\\users\\richwei chea\\anaconda3\\lib\\site-packages (from scikit-learn) (1.2.0)\n",
      "Requirement already satisfied: threadpoolctl>=2.0.0 in c:\\users\\richwei chea\\anaconda3\\lib\\site-packages (from scikit-learn) (2.2.0)\n",
      "Requirement already satisfied: six>=1.5 in c:\\users\\richwei chea\\anaconda3\\lib\\site-packages (from python-dateutil>=2.8.2->pandas) (1.16.0)\n",
      "Requirement already satisfied: mlxtend in c:\\users\\richwei chea\\anaconda3\\lib\\site-packages (0.23.1)\n",
      "Requirement already satisfied: scipy>=1.2.1 in c:\\users\\richwei chea\\anaconda3\\lib\\site-packages (from mlxtend) (1.11.1)\n",
      "Requirement already satisfied: numpy>=1.16.2 in c:\\users\\richwei chea\\anaconda3\\lib\\site-packages (from mlxtend) (1.24.3)\n",
      "Requirement already satisfied: pandas>=0.24.2 in c:\\users\\richwei chea\\anaconda3\\lib\\site-packages (from mlxtend) (2.0.3)\n",
      "Requirement already satisfied: scikit-learn>=1.0.2 in c:\\users\\richwei chea\\anaconda3\\lib\\site-packages (from mlxtend) (1.3.0)\n",
      "Requirement already satisfied: matplotlib>=3.0.0 in c:\\users\\richwei chea\\anaconda3\\lib\\site-packages (from mlxtend) (3.7.2)\n",
      "Requirement already satisfied: joblib>=0.13.2 in c:\\users\\richwei chea\\anaconda3\\lib\\site-packages (from mlxtend) (1.2.0)\n",
      "Requirement already satisfied: contourpy>=1.0.1 in c:\\users\\richwei chea\\anaconda3\\lib\\site-packages (from matplotlib>=3.0.0->mlxtend) (1.0.5)\n",
      "Requirement already satisfied: cycler>=0.10 in c:\\users\\richwei chea\\anaconda3\\lib\\site-packages (from matplotlib>=3.0.0->mlxtend) (0.11.0)\n",
      "Requirement already satisfied: fonttools>=4.22.0 in c:\\users\\richwei chea\\anaconda3\\lib\\site-packages (from matplotlib>=3.0.0->mlxtend) (4.25.0)\n",
      "Requirement already satisfied: kiwisolver>=1.0.1 in c:\\users\\richwei chea\\anaconda3\\lib\\site-packages (from matplotlib>=3.0.0->mlxtend) (1.4.4)\n",
      "Requirement already satisfied: packaging>=20.0 in c:\\users\\richwei chea\\anaconda3\\lib\\site-packages (from matplotlib>=3.0.0->mlxtend) (23.1)\n",
      "Requirement already satisfied: pillow>=6.2.0 in c:\\users\\richwei chea\\anaconda3\\lib\\site-packages (from matplotlib>=3.0.0->mlxtend) (9.4.0)\n",
      "Requirement already satisfied: pyparsing<3.1,>=2.3.1 in c:\\users\\richwei chea\\anaconda3\\lib\\site-packages (from matplotlib>=3.0.0->mlxtend) (3.0.9)\n",
      "Requirement already satisfied: python-dateutil>=2.7 in c:\\users\\richwei chea\\anaconda3\\lib\\site-packages (from matplotlib>=3.0.0->mlxtend) (2.8.2)\n",
      "Requirement already satisfied: pytz>=2020.1 in c:\\users\\richwei chea\\anaconda3\\lib\\site-packages (from pandas>=0.24.2->mlxtend) (2023.3.post1)\n",
      "Requirement already satisfied: tzdata>=2022.1 in c:\\users\\richwei chea\\anaconda3\\lib\\site-packages (from pandas>=0.24.2->mlxtend) (2023.3)\n",
      "Requirement already satisfied: threadpoolctl>=2.0.0 in c:\\users\\richwei chea\\anaconda3\\lib\\site-packages (from scikit-learn>=1.0.2->mlxtend) (2.2.0)\n",
      "Requirement already satisfied: six>=1.5 in c:\\users\\richwei chea\\anaconda3\\lib\\site-packages (from python-dateutil>=2.7->matplotlib>=3.0.0->mlxtend) (1.16.0)\n"
     ]
    }
   ],
   "source": [
    "!pip install pandas numpy scikit-learn\n",
    "!pip install mlxtend"
   ]
  },
  {
   "cell_type": "code",
   "execution_count": 2,
   "id": "8bdc1883",
   "metadata": {},
   "outputs": [],
   "source": [
    "import pandas as pd \n",
    "import numpy as np \n",
    "import seaborn as sns \n",
    "import matplotlib.pyplot as plt \n",
    "from scipy import stats"
   ]
  },
  {
   "cell_type": "code",
   "execution_count": 3,
   "id": "49f5debf",
   "metadata": {},
   "outputs": [],
   "source": [
    "df = pd.read_csv('Normalized Project Data - Solar Flare Values.csv')"
   ]
  },
  {
   "cell_type": "code",
   "execution_count": 4,
   "id": "2dc08b49",
   "metadata": {},
   "outputs": [
    {
     "data": {
      "text/plain": [
       "Index(['Year', 'Month', 'Total Daily Sunspots',\n",
       "       'Northern Total Daily Sunspots', 'Southern Total Daily Sunspots',\n",
       "       'Earthquake', 'Magnitude', 'Longitude', 'Latitude', 'OutagesCount',\n",
       "       'None', 'D0', 'D1', 'D2', 'D3', 'D4', 'Solar Flare Value'],\n",
       "      dtype='object')"
      ]
     },
     "execution_count": 4,
     "metadata": {},
     "output_type": "execute_result"
    }
   ],
   "source": [
    "df.columns"
   ]
  },
  {
   "cell_type": "code",
   "execution_count": 5,
   "id": "5de79ad7",
   "metadata": {},
   "outputs": [
    {
     "data": {
      "text/html": [
       "<div>\n",
       "<style scoped>\n",
       "    .dataframe tbody tr th:only-of-type {\n",
       "        vertical-align: middle;\n",
       "    }\n",
       "\n",
       "    .dataframe tbody tr th {\n",
       "        vertical-align: top;\n",
       "    }\n",
       "\n",
       "    .dataframe thead th {\n",
       "        text-align: right;\n",
       "    }\n",
       "</style>\n",
       "<table border=\"1\" class=\"dataframe\">\n",
       "  <thead>\n",
       "    <tr style=\"text-align: right;\">\n",
       "      <th></th>\n",
       "      <th>Year</th>\n",
       "      <th>Month</th>\n",
       "      <th>Total Daily Sunspots</th>\n",
       "      <th>Northern Total Daily Sunspots</th>\n",
       "      <th>Southern Total Daily Sunspots</th>\n",
       "      <th>Earthquake</th>\n",
       "      <th>Magnitude</th>\n",
       "      <th>Longitude</th>\n",
       "      <th>Latitude</th>\n",
       "      <th>OutagesCount</th>\n",
       "      <th>None</th>\n",
       "      <th>D0</th>\n",
       "      <th>D1</th>\n",
       "      <th>D2</th>\n",
       "      <th>D3</th>\n",
       "      <th>D4</th>\n",
       "      <th>Solar Flare Value</th>\n",
       "    </tr>\n",
       "  </thead>\n",
       "  <tbody>\n",
       "    <tr>\n",
       "      <th>Year</th>\n",
       "      <td>1.000000</td>\n",
       "      <td>-0.017234</td>\n",
       "      <td>-0.515021</td>\n",
       "      <td>-0.429179</td>\n",
       "      <td>-0.527740</td>\n",
       "      <td>0.405835</td>\n",
       "      <td>-0.651249</td>\n",
       "      <td>-0.051245</td>\n",
       "      <td>0.090532</td>\n",
       "      <td>0.507319</td>\n",
       "      <td>-0.092562</td>\n",
       "      <td>0.092562</td>\n",
       "      <td>0.044800</td>\n",
       "      <td>0.024422</td>\n",
       "      <td>0.039154</td>\n",
       "      <td>0.327287</td>\n",
       "      <td>-0.440084</td>\n",
       "    </tr>\n",
       "    <tr>\n",
       "      <th>Month</th>\n",
       "      <td>-0.017234</td>\n",
       "      <td>1.000000</td>\n",
       "      <td>0.033178</td>\n",
       "      <td>0.043682</td>\n",
       "      <td>0.017981</td>\n",
       "      <td>0.025220</td>\n",
       "      <td>-0.015325</td>\n",
       "      <td>-0.019527</td>\n",
       "      <td>-0.023159</td>\n",
       "      <td>0.007963</td>\n",
       "      <td>-0.007462</td>\n",
       "      <td>0.007462</td>\n",
       "      <td>0.070435</td>\n",
       "      <td>0.101905</td>\n",
       "      <td>0.123598</td>\n",
       "      <td>0.117622</td>\n",
       "      <td>0.104468</td>\n",
       "    </tr>\n",
       "    <tr>\n",
       "      <th>Total Daily Sunspots</th>\n",
       "      <td>-0.515021</td>\n",
       "      <td>0.033178</td>\n",
       "      <td>1.000000</td>\n",
       "      <td>0.928982</td>\n",
       "      <td>0.929142</td>\n",
       "      <td>-0.395211</td>\n",
       "      <td>0.149736</td>\n",
       "      <td>0.012580</td>\n",
       "      <td>-0.114162</td>\n",
       "      <td>-0.097209</td>\n",
       "      <td>-0.204877</td>\n",
       "      <td>0.204877</td>\n",
       "      <td>0.300202</td>\n",
       "      <td>0.336694</td>\n",
       "      <td>0.298305</td>\n",
       "      <td>0.117573</td>\n",
       "      <td>0.743455</td>\n",
       "    </tr>\n",
       "    <tr>\n",
       "      <th>Northern Total Daily Sunspots</th>\n",
       "      <td>-0.429179</td>\n",
       "      <td>0.043682</td>\n",
       "      <td>0.928982</td>\n",
       "      <td>1.000000</td>\n",
       "      <td>0.726314</td>\n",
       "      <td>-0.397536</td>\n",
       "      <td>0.109608</td>\n",
       "      <td>-0.026556</td>\n",
       "      <td>-0.119238</td>\n",
       "      <td>-0.043262</td>\n",
       "      <td>-0.078280</td>\n",
       "      <td>0.078280</td>\n",
       "      <td>0.190733</td>\n",
       "      <td>0.248481</td>\n",
       "      <td>0.262867</td>\n",
       "      <td>0.208902</td>\n",
       "      <td>0.713067</td>\n",
       "    </tr>\n",
       "    <tr>\n",
       "      <th>Southern Total Daily Sunspots</th>\n",
       "      <td>-0.527740</td>\n",
       "      <td>0.017981</td>\n",
       "      <td>0.929142</td>\n",
       "      <td>0.726314</td>\n",
       "      <td>1.000000</td>\n",
       "      <td>-0.336508</td>\n",
       "      <td>0.168526</td>\n",
       "      <td>0.049942</td>\n",
       "      <td>-0.092797</td>\n",
       "      <td>-0.137314</td>\n",
       "      <td>-0.302285</td>\n",
       "      <td>0.302285</td>\n",
       "      <td>0.366985</td>\n",
       "      <td>0.377069</td>\n",
       "      <td>0.291406</td>\n",
       "      <td>0.009671</td>\n",
       "      <td>0.668389</td>\n",
       "    </tr>\n",
       "    <tr>\n",
       "      <th>Earthquake</th>\n",
       "      <td>0.405835</td>\n",
       "      <td>0.025220</td>\n",
       "      <td>-0.395211</td>\n",
       "      <td>-0.397536</td>\n",
       "      <td>-0.336508</td>\n",
       "      <td>1.000000</td>\n",
       "      <td>-0.361803</td>\n",
       "      <td>-0.032242</td>\n",
       "      <td>-0.006230</td>\n",
       "      <td>0.185401</td>\n",
       "      <td>-0.041293</td>\n",
       "      <td>0.041293</td>\n",
       "      <td>0.063707</td>\n",
       "      <td>0.060853</td>\n",
       "      <td>0.074811</td>\n",
       "      <td>0.053777</td>\n",
       "      <td>-0.365274</td>\n",
       "    </tr>\n",
       "    <tr>\n",
       "      <th>Magnitude</th>\n",
       "      <td>-0.651249</td>\n",
       "      <td>-0.015325</td>\n",
       "      <td>0.149736</td>\n",
       "      <td>0.109608</td>\n",
       "      <td>0.168526</td>\n",
       "      <td>-0.361803</td>\n",
       "      <td>1.000000</td>\n",
       "      <td>0.070542</td>\n",
       "      <td>-0.051248</td>\n",
       "      <td>-0.367021</td>\n",
       "      <td>0.120774</td>\n",
       "      <td>-0.120774</td>\n",
       "      <td>-0.120384</td>\n",
       "      <td>-0.143335</td>\n",
       "      <td>-0.171933</td>\n",
       "      <td>-0.346207</td>\n",
       "      <td>0.226430</td>\n",
       "    </tr>\n",
       "    <tr>\n",
       "      <th>Longitude</th>\n",
       "      <td>-0.051245</td>\n",
       "      <td>-0.019527</td>\n",
       "      <td>0.012580</td>\n",
       "      <td>-0.026556</td>\n",
       "      <td>0.049942</td>\n",
       "      <td>-0.032242</td>\n",
       "      <td>0.070542</td>\n",
       "      <td>1.000000</td>\n",
       "      <td>-0.367106</td>\n",
       "      <td>0.025427</td>\n",
       "      <td>-0.152188</td>\n",
       "      <td>0.152188</td>\n",
       "      <td>0.106569</td>\n",
       "      <td>0.043103</td>\n",
       "      <td>-0.007973</td>\n",
       "      <td>-0.063683</td>\n",
       "      <td>-0.020650</td>\n",
       "    </tr>\n",
       "    <tr>\n",
       "      <th>Latitude</th>\n",
       "      <td>0.090532</td>\n",
       "      <td>-0.023159</td>\n",
       "      <td>-0.114162</td>\n",
       "      <td>-0.119238</td>\n",
       "      <td>-0.092797</td>\n",
       "      <td>-0.006230</td>\n",
       "      <td>-0.051248</td>\n",
       "      <td>-0.367106</td>\n",
       "      <td>1.000000</td>\n",
       "      <td>-0.010339</td>\n",
       "      <td>0.023309</td>\n",
       "      <td>-0.023309</td>\n",
       "      <td>-0.032542</td>\n",
       "      <td>-0.028377</td>\n",
       "      <td>-0.023649</td>\n",
       "      <td>0.012356</td>\n",
       "      <td>-0.081283</td>\n",
       "    </tr>\n",
       "    <tr>\n",
       "      <th>OutagesCount</th>\n",
       "      <td>0.507319</td>\n",
       "      <td>0.007963</td>\n",
       "      <td>-0.097209</td>\n",
       "      <td>-0.043262</td>\n",
       "      <td>-0.137314</td>\n",
       "      <td>0.185401</td>\n",
       "      <td>-0.367021</td>\n",
       "      <td>0.025427</td>\n",
       "      <td>-0.010339</td>\n",
       "      <td>1.000000</td>\n",
       "      <td>-0.014963</td>\n",
       "      <td>0.014963</td>\n",
       "      <td>0.073482</td>\n",
       "      <td>0.107897</td>\n",
       "      <td>0.176200</td>\n",
       "      <td>0.419685</td>\n",
       "      <td>-0.079853</td>\n",
       "    </tr>\n",
       "    <tr>\n",
       "      <th>None</th>\n",
       "      <td>-0.092562</td>\n",
       "      <td>-0.007462</td>\n",
       "      <td>-0.204877</td>\n",
       "      <td>-0.078280</td>\n",
       "      <td>-0.302285</td>\n",
       "      <td>-0.041293</td>\n",
       "      <td>0.120774</td>\n",
       "      <td>-0.152188</td>\n",
       "      <td>0.023309</td>\n",
       "      <td>-0.014963</td>\n",
       "      <td>1.000000</td>\n",
       "      <td>-1.000000</td>\n",
       "      <td>-0.918587</td>\n",
       "      <td>-0.822875</td>\n",
       "      <td>-0.658817</td>\n",
       "      <td>-0.318119</td>\n",
       "      <td>-0.084132</td>\n",
       "    </tr>\n",
       "    <tr>\n",
       "      <th>D0</th>\n",
       "      <td>0.092562</td>\n",
       "      <td>0.007462</td>\n",
       "      <td>0.204877</td>\n",
       "      <td>0.078280</td>\n",
       "      <td>0.302285</td>\n",
       "      <td>0.041293</td>\n",
       "      <td>-0.120774</td>\n",
       "      <td>0.152188</td>\n",
       "      <td>-0.023309</td>\n",
       "      <td>0.014963</td>\n",
       "      <td>-1.000000</td>\n",
       "      <td>1.000000</td>\n",
       "      <td>0.918587</td>\n",
       "      <td>0.822875</td>\n",
       "      <td>0.658817</td>\n",
       "      <td>0.318119</td>\n",
       "      <td>0.084132</td>\n",
       "    </tr>\n",
       "    <tr>\n",
       "      <th>D1</th>\n",
       "      <td>0.044800</td>\n",
       "      <td>0.070435</td>\n",
       "      <td>0.300202</td>\n",
       "      <td>0.190733</td>\n",
       "      <td>0.366985</td>\n",
       "      <td>0.063707</td>\n",
       "      <td>-0.120384</td>\n",
       "      <td>0.106569</td>\n",
       "      <td>-0.032542</td>\n",
       "      <td>0.073482</td>\n",
       "      <td>-0.918587</td>\n",
       "      <td>0.918587</td>\n",
       "      <td>1.000000</td>\n",
       "      <td>0.960081</td>\n",
       "      <td>0.823620</td>\n",
       "      <td>0.457673</td>\n",
       "      <td>0.125008</td>\n",
       "    </tr>\n",
       "    <tr>\n",
       "      <th>D2</th>\n",
       "      <td>0.024422</td>\n",
       "      <td>0.101905</td>\n",
       "      <td>0.336694</td>\n",
       "      <td>0.248481</td>\n",
       "      <td>0.377069</td>\n",
       "      <td>0.060853</td>\n",
       "      <td>-0.143335</td>\n",
       "      <td>0.043103</td>\n",
       "      <td>-0.028377</td>\n",
       "      <td>0.107897</td>\n",
       "      <td>-0.822875</td>\n",
       "      <td>0.822875</td>\n",
       "      <td>0.960081</td>\n",
       "      <td>1.000000</td>\n",
       "      <td>0.922490</td>\n",
       "      <td>0.575833</td>\n",
       "      <td>0.154297</td>\n",
       "    </tr>\n",
       "    <tr>\n",
       "      <th>D3</th>\n",
       "      <td>0.039154</td>\n",
       "      <td>0.123598</td>\n",
       "      <td>0.298305</td>\n",
       "      <td>0.262867</td>\n",
       "      <td>0.291406</td>\n",
       "      <td>0.074811</td>\n",
       "      <td>-0.171933</td>\n",
       "      <td>-0.007973</td>\n",
       "      <td>-0.023649</td>\n",
       "      <td>0.176200</td>\n",
       "      <td>-0.658817</td>\n",
       "      <td>0.658817</td>\n",
       "      <td>0.823620</td>\n",
       "      <td>0.922490</td>\n",
       "      <td>1.000000</td>\n",
       "      <td>0.737185</td>\n",
       "      <td>0.146808</td>\n",
       "    </tr>\n",
       "    <tr>\n",
       "      <th>D4</th>\n",
       "      <td>0.327287</td>\n",
       "      <td>0.117622</td>\n",
       "      <td>0.117573</td>\n",
       "      <td>0.208902</td>\n",
       "      <td>0.009671</td>\n",
       "      <td>0.053777</td>\n",
       "      <td>-0.346207</td>\n",
       "      <td>-0.063683</td>\n",
       "      <td>0.012356</td>\n",
       "      <td>0.419685</td>\n",
       "      <td>-0.318119</td>\n",
       "      <td>0.318119</td>\n",
       "      <td>0.457673</td>\n",
       "      <td>0.575833</td>\n",
       "      <td>0.737185</td>\n",
       "      <td>1.000000</td>\n",
       "      <td>0.040408</td>\n",
       "    </tr>\n",
       "    <tr>\n",
       "      <th>Solar Flare Value</th>\n",
       "      <td>-0.440084</td>\n",
       "      <td>0.104468</td>\n",
       "      <td>0.743455</td>\n",
       "      <td>0.713067</td>\n",
       "      <td>0.668389</td>\n",
       "      <td>-0.365274</td>\n",
       "      <td>0.226430</td>\n",
       "      <td>-0.020650</td>\n",
       "      <td>-0.081283</td>\n",
       "      <td>-0.079853</td>\n",
       "      <td>-0.084132</td>\n",
       "      <td>0.084132</td>\n",
       "      <td>0.125008</td>\n",
       "      <td>0.154297</td>\n",
       "      <td>0.146808</td>\n",
       "      <td>0.040408</td>\n",
       "      <td>1.000000</td>\n",
       "    </tr>\n",
       "  </tbody>\n",
       "</table>\n",
       "</div>"
      ],
      "text/plain": [
       "                                   Year     Month  Total Daily Sunspots  \\\n",
       "Year                           1.000000 -0.017234             -0.515021   \n",
       "Month                         -0.017234  1.000000              0.033178   \n",
       "Total Daily Sunspots          -0.515021  0.033178              1.000000   \n",
       "Northern Total Daily Sunspots -0.429179  0.043682              0.928982   \n",
       "Southern Total Daily Sunspots -0.527740  0.017981              0.929142   \n",
       "Earthquake                     0.405835  0.025220             -0.395211   \n",
       "Magnitude                     -0.651249 -0.015325              0.149736   \n",
       "Longitude                     -0.051245 -0.019527              0.012580   \n",
       "Latitude                       0.090532 -0.023159             -0.114162   \n",
       "OutagesCount                   0.507319  0.007963             -0.097209   \n",
       "None                          -0.092562 -0.007462             -0.204877   \n",
       "D0                             0.092562  0.007462              0.204877   \n",
       "D1                             0.044800  0.070435              0.300202   \n",
       "D2                             0.024422  0.101905              0.336694   \n",
       "D3                             0.039154  0.123598              0.298305   \n",
       "D4                             0.327287  0.117622              0.117573   \n",
       "Solar Flare Value             -0.440084  0.104468              0.743455   \n",
       "\n",
       "                               Northern Total Daily Sunspots  \\\n",
       "Year                                               -0.429179   \n",
       "Month                                               0.043682   \n",
       "Total Daily Sunspots                                0.928982   \n",
       "Northern Total Daily Sunspots                       1.000000   \n",
       "Southern Total Daily Sunspots                       0.726314   \n",
       "Earthquake                                         -0.397536   \n",
       "Magnitude                                           0.109608   \n",
       "Longitude                                          -0.026556   \n",
       "Latitude                                           -0.119238   \n",
       "OutagesCount                                       -0.043262   \n",
       "None                                               -0.078280   \n",
       "D0                                                  0.078280   \n",
       "D1                                                  0.190733   \n",
       "D2                                                  0.248481   \n",
       "D3                                                  0.262867   \n",
       "D4                                                  0.208902   \n",
       "Solar Flare Value                                   0.713067   \n",
       "\n",
       "                               Southern Total Daily Sunspots  Earthquake  \\\n",
       "Year                                               -0.527740    0.405835   \n",
       "Month                                               0.017981    0.025220   \n",
       "Total Daily Sunspots                                0.929142   -0.395211   \n",
       "Northern Total Daily Sunspots                       0.726314   -0.397536   \n",
       "Southern Total Daily Sunspots                       1.000000   -0.336508   \n",
       "Earthquake                                         -0.336508    1.000000   \n",
       "Magnitude                                           0.168526   -0.361803   \n",
       "Longitude                                           0.049942   -0.032242   \n",
       "Latitude                                           -0.092797   -0.006230   \n",
       "OutagesCount                                       -0.137314    0.185401   \n",
       "None                                               -0.302285   -0.041293   \n",
       "D0                                                  0.302285    0.041293   \n",
       "D1                                                  0.366985    0.063707   \n",
       "D2                                                  0.377069    0.060853   \n",
       "D3                                                  0.291406    0.074811   \n",
       "D4                                                  0.009671    0.053777   \n",
       "Solar Flare Value                                   0.668389   -0.365274   \n",
       "\n",
       "                               Magnitude  Longitude  Latitude  OutagesCount  \\\n",
       "Year                           -0.651249  -0.051245  0.090532      0.507319   \n",
       "Month                          -0.015325  -0.019527 -0.023159      0.007963   \n",
       "Total Daily Sunspots            0.149736   0.012580 -0.114162     -0.097209   \n",
       "Northern Total Daily Sunspots   0.109608  -0.026556 -0.119238     -0.043262   \n",
       "Southern Total Daily Sunspots   0.168526   0.049942 -0.092797     -0.137314   \n",
       "Earthquake                     -0.361803  -0.032242 -0.006230      0.185401   \n",
       "Magnitude                       1.000000   0.070542 -0.051248     -0.367021   \n",
       "Longitude                       0.070542   1.000000 -0.367106      0.025427   \n",
       "Latitude                       -0.051248  -0.367106  1.000000     -0.010339   \n",
       "OutagesCount                   -0.367021   0.025427 -0.010339      1.000000   \n",
       "None                            0.120774  -0.152188  0.023309     -0.014963   \n",
       "D0                             -0.120774   0.152188 -0.023309      0.014963   \n",
       "D1                             -0.120384   0.106569 -0.032542      0.073482   \n",
       "D2                             -0.143335   0.043103 -0.028377      0.107897   \n",
       "D3                             -0.171933  -0.007973 -0.023649      0.176200   \n",
       "D4                             -0.346207  -0.063683  0.012356      0.419685   \n",
       "Solar Flare Value               0.226430  -0.020650 -0.081283     -0.079853   \n",
       "\n",
       "                                   None        D0        D1        D2  \\\n",
       "Year                          -0.092562  0.092562  0.044800  0.024422   \n",
       "Month                         -0.007462  0.007462  0.070435  0.101905   \n",
       "Total Daily Sunspots          -0.204877  0.204877  0.300202  0.336694   \n",
       "Northern Total Daily Sunspots -0.078280  0.078280  0.190733  0.248481   \n",
       "Southern Total Daily Sunspots -0.302285  0.302285  0.366985  0.377069   \n",
       "Earthquake                    -0.041293  0.041293  0.063707  0.060853   \n",
       "Magnitude                      0.120774 -0.120774 -0.120384 -0.143335   \n",
       "Longitude                     -0.152188  0.152188  0.106569  0.043103   \n",
       "Latitude                       0.023309 -0.023309 -0.032542 -0.028377   \n",
       "OutagesCount                  -0.014963  0.014963  0.073482  0.107897   \n",
       "None                           1.000000 -1.000000 -0.918587 -0.822875   \n",
       "D0                            -1.000000  1.000000  0.918587  0.822875   \n",
       "D1                            -0.918587  0.918587  1.000000  0.960081   \n",
       "D2                            -0.822875  0.822875  0.960081  1.000000   \n",
       "D3                            -0.658817  0.658817  0.823620  0.922490   \n",
       "D4                            -0.318119  0.318119  0.457673  0.575833   \n",
       "Solar Flare Value             -0.084132  0.084132  0.125008  0.154297   \n",
       "\n",
       "                                     D3        D4  Solar Flare Value  \n",
       "Year                           0.039154  0.327287          -0.440084  \n",
       "Month                          0.123598  0.117622           0.104468  \n",
       "Total Daily Sunspots           0.298305  0.117573           0.743455  \n",
       "Northern Total Daily Sunspots  0.262867  0.208902           0.713067  \n",
       "Southern Total Daily Sunspots  0.291406  0.009671           0.668389  \n",
       "Earthquake                     0.074811  0.053777          -0.365274  \n",
       "Magnitude                     -0.171933 -0.346207           0.226430  \n",
       "Longitude                     -0.007973 -0.063683          -0.020650  \n",
       "Latitude                      -0.023649  0.012356          -0.081283  \n",
       "OutagesCount                   0.176200  0.419685          -0.079853  \n",
       "None                          -0.658817 -0.318119          -0.084132  \n",
       "D0                             0.658817  0.318119           0.084132  \n",
       "D1                             0.823620  0.457673           0.125008  \n",
       "D2                             0.922490  0.575833           0.154297  \n",
       "D3                             1.000000  0.737185           0.146808  \n",
       "D4                             0.737185  1.000000           0.040408  \n",
       "Solar Flare Value              0.146808  0.040408           1.000000  "
      ]
     },
     "execution_count": 5,
     "metadata": {},
     "output_type": "execute_result"
    }
   ],
   "source": [
    "df.corr()"
   ]
  },
  {
   "cell_type": "code",
   "execution_count": 6,
   "id": "7d61de57",
   "metadata": {},
   "outputs": [],
   "source": [
    "from sklearn.model_selection import train_test_split\n",
    "from sklearn.ensemble import RandomForestClassifier\n",
    "from sklearn.preprocessing import StandardScaler\n",
    "from sklearn.metrics import classification_report, confusion_matrix"
   ]
  },
  {
   "cell_type": "markdown",
   "id": "669e9100",
   "metadata": {},
   "source": [
    "# Classification: Outages and Earthquakes"
   ]
  },
  {
   "cell_type": "code",
   "execution_count": 44,
   "id": "27285d9a",
   "metadata": {},
   "outputs": [],
   "source": [
    "# Make sure to load your DataFrame here\n",
    "df = pd.read_csv('Normalized Project Data - Solar Flare Values.csv')\n",
    "\n",
    "# Calculate the median of 'New Earthquake' column\n",
    "median_new_earthquake = df['Earthquake'].median()\n",
    "\n",
    "# Create a binary classification target based on the median\n",
    "df['Earthquake Classification'] = (df['Earthquake'] > median_new_earthquake).astype(int)\n",
    "\n",
    "# Select features and target for the classification\n",
    "X = df['OutagesCount']  # Features\n",
    "y = df['Earthquake Classification']  # Binary classification target"
   ]
  },
  {
   "cell_type": "code",
   "execution_count": 13,
   "id": "e070b113",
   "metadata": {},
   "outputs": [
    {
     "data": {
      "text/plain": [
       "Index(['Year', 'Month', 'Total Daily Sunspots',\n",
       "       'Northern Total Daily Sunspots', 'Southern Total Daily Sunspots',\n",
       "       'Earthquake', 'Magnitude', 'Longitude', 'Latitude', 'OutagesCount',\n",
       "       'None', 'D0', 'D1', 'D2', 'D3', 'D4', 'Solar Flare Value',\n",
       "       'Earthquake Classification'],\n",
       "      dtype='object')"
      ]
     },
     "execution_count": 13,
     "metadata": {},
     "output_type": "execute_result"
    }
   ],
   "source": [
    "df.columns"
   ]
  },
  {
   "cell_type": "code",
   "execution_count": 14,
   "id": "08af9bb9",
   "metadata": {},
   "outputs": [],
   "source": [
    "X.isnull().sum()\n",
    "X.fillna(0, inplace = True)"
   ]
  },
  {
   "cell_type": "code",
   "execution_count": 15,
   "id": "b411dafc",
   "metadata": {},
   "outputs": [],
   "source": [
    "import numpy as np\n",
    "\n",
    "# Reshape the feature variable X\n",
    "X = X.values.reshape(-1, 1)"
   ]
  },
  {
   "cell_type": "code",
   "execution_count": 16,
   "id": "c23a4c75",
   "metadata": {},
   "outputs": [
    {
     "name": "stdout",
     "output_type": "stream",
     "text": [
      "Accuracy: 0.6274509803921569\n",
      "Classification Report: \n",
      "              precision    recall  f1-score   support\n",
      "\n",
      "           0       0.62      0.69      0.65        26\n",
      "           1       0.64      0.56      0.60        25\n",
      "\n",
      "    accuracy                           0.63        51\n",
      "   macro avg       0.63      0.63      0.63        51\n",
      "weighted avg       0.63      0.63      0.63        51\n",
      "\n"
     ]
    }
   ],
   "source": [
    "from sklearn.metrics import accuracy_score, classification_report\n",
    "\n",
    "# Splitting dataset into training and testing set\n",
    "X_train, X_test, y_train, y_test = train_test_split(X, y, test_size=0.3, random_state=42)\n",
    "\n",
    "# Initialize the RandomForestClassifier\n",
    "clf = RandomForestClassifier(n_estimators=100, random_state=42)\n",
    "\n",
    "# Fit the model\n",
    "clf.fit(X_train, y_train)\n",
    "\n",
    "# Predictions\n",
    "predictions = clf.predict(X_test)\n",
    "\n",
    "# Calculate accuracy\n",
    "accuracy = accuracy_score(y_test, predictions)\n",
    "\n",
    "# Classification report\n",
    "report = classification_report(y_test, predictions)\n",
    "\n",
    "print(f\"Accuracy: {accuracy}\")\n",
    "print(f\"Classification Report: \\n{report}\")"
   ]
  },
  {
   "cell_type": "code",
   "execution_count": 17,
   "id": "6ecfabd5",
   "metadata": {},
   "outputs": [
    {
     "data": {
      "text/html": [
       "<style>#sk-container-id-1 {color: black;}#sk-container-id-1 pre{padding: 0;}#sk-container-id-1 div.sk-toggleable {background-color: white;}#sk-container-id-1 label.sk-toggleable__label {cursor: pointer;display: block;width: 100%;margin-bottom: 0;padding: 0.3em;box-sizing: border-box;text-align: center;}#sk-container-id-1 label.sk-toggleable__label-arrow:before {content: \"▸\";float: left;margin-right: 0.25em;color: #696969;}#sk-container-id-1 label.sk-toggleable__label-arrow:hover:before {color: black;}#sk-container-id-1 div.sk-estimator:hover label.sk-toggleable__label-arrow:before {color: black;}#sk-container-id-1 div.sk-toggleable__content {max-height: 0;max-width: 0;overflow: hidden;text-align: left;background-color: #f0f8ff;}#sk-container-id-1 div.sk-toggleable__content pre {margin: 0.2em;color: black;border-radius: 0.25em;background-color: #f0f8ff;}#sk-container-id-1 input.sk-toggleable__control:checked~div.sk-toggleable__content {max-height: 200px;max-width: 100%;overflow: auto;}#sk-container-id-1 input.sk-toggleable__control:checked~label.sk-toggleable__label-arrow:before {content: \"▾\";}#sk-container-id-1 div.sk-estimator input.sk-toggleable__control:checked~label.sk-toggleable__label {background-color: #d4ebff;}#sk-container-id-1 div.sk-label input.sk-toggleable__control:checked~label.sk-toggleable__label {background-color: #d4ebff;}#sk-container-id-1 input.sk-hidden--visually {border: 0;clip: rect(1px 1px 1px 1px);clip: rect(1px, 1px, 1px, 1px);height: 1px;margin: -1px;overflow: hidden;padding: 0;position: absolute;width: 1px;}#sk-container-id-1 div.sk-estimator {font-family: monospace;background-color: #f0f8ff;border: 1px dotted black;border-radius: 0.25em;box-sizing: border-box;margin-bottom: 0.5em;}#sk-container-id-1 div.sk-estimator:hover {background-color: #d4ebff;}#sk-container-id-1 div.sk-parallel-item::after {content: \"\";width: 100%;border-bottom: 1px solid gray;flex-grow: 1;}#sk-container-id-1 div.sk-label:hover label.sk-toggleable__label {background-color: #d4ebff;}#sk-container-id-1 div.sk-serial::before {content: \"\";position: absolute;border-left: 1px solid gray;box-sizing: border-box;top: 0;bottom: 0;left: 50%;z-index: 0;}#sk-container-id-1 div.sk-serial {display: flex;flex-direction: column;align-items: center;background-color: white;padding-right: 0.2em;padding-left: 0.2em;position: relative;}#sk-container-id-1 div.sk-item {position: relative;z-index: 1;}#sk-container-id-1 div.sk-parallel {display: flex;align-items: stretch;justify-content: center;background-color: white;position: relative;}#sk-container-id-1 div.sk-item::before, #sk-container-id-1 div.sk-parallel-item::before {content: \"\";position: absolute;border-left: 1px solid gray;box-sizing: border-box;top: 0;bottom: 0;left: 50%;z-index: -1;}#sk-container-id-1 div.sk-parallel-item {display: flex;flex-direction: column;z-index: 1;position: relative;background-color: white;}#sk-container-id-1 div.sk-parallel-item:first-child::after {align-self: flex-end;width: 50%;}#sk-container-id-1 div.sk-parallel-item:last-child::after {align-self: flex-start;width: 50%;}#sk-container-id-1 div.sk-parallel-item:only-child::after {width: 0;}#sk-container-id-1 div.sk-dashed-wrapped {border: 1px dashed gray;margin: 0 0.4em 0.5em 0.4em;box-sizing: border-box;padding-bottom: 0.4em;background-color: white;}#sk-container-id-1 div.sk-label label {font-family: monospace;font-weight: bold;display: inline-block;line-height: 1.2em;}#sk-container-id-1 div.sk-label-container {text-align: center;}#sk-container-id-1 div.sk-container {/* jupyter's `normalize.less` sets `[hidden] { display: none; }` but bootstrap.min.css set `[hidden] { display: none !important; }` so we also need the `!important` here to be able to override the default hidden behavior on the sphinx rendered scikit-learn.org. See: https://github.com/scikit-learn/scikit-learn/issues/21755 */display: inline-block !important;position: relative;}#sk-container-id-1 div.sk-text-repr-fallback {display: none;}</style><div id=\"sk-container-id-1\" class=\"sk-top-container\"><div class=\"sk-text-repr-fallback\"><pre>RandomForestClassifier(n_estimators=500, random_state=1)</pre><b>In a Jupyter environment, please rerun this cell to show the HTML representation or trust the notebook. <br />On GitHub, the HTML representation is unable to render, please try loading this page with nbviewer.org.</b></div><div class=\"sk-container\" hidden><div class=\"sk-item\"><div class=\"sk-estimator sk-toggleable\"><input class=\"sk-toggleable__control sk-hidden--visually\" id=\"sk-estimator-id-1\" type=\"checkbox\" checked><label for=\"sk-estimator-id-1\" class=\"sk-toggleable__label sk-toggleable__label-arrow\">RandomForestClassifier</label><div class=\"sk-toggleable__content\"><pre>RandomForestClassifier(n_estimators=500, random_state=1)</pre></div></div></div></div></div>"
      ],
      "text/plain": [
       "RandomForestClassifier(n_estimators=500, random_state=1)"
      ]
     },
     "execution_count": 17,
     "metadata": {},
     "output_type": "execute_result"
    }
   ],
   "source": [
    "rf = RandomForestClassifier(n_estimators=500, random_state=1)\n",
    "rf.fit(X_train, y_train)"
   ]
  },
  {
   "cell_type": "code",
   "execution_count": 18,
   "id": "566a221f",
   "metadata": {},
   "outputs": [
    {
     "name": "stdout",
     "output_type": "stream",
     "text": [
      "Accuracy scores for each fold: [0.54166667 0.41666667 0.5        0.30434783 0.52173913]\n",
      "Average accuracy: 0.45688405797101445\n"
     ]
    }
   ],
   "source": [
    "from sklearn.model_selection import cross_val_score, KFold\n",
    "from sklearn.ensemble import RandomForestClassifier\n",
    "from sklearn.datasets import load_iris\n",
    "\n",
    "# Initialize the model\n",
    "model = RandomForestClassifier(n_estimators=100)\n",
    "\n",
    "# Configure the k-fold process\n",
    "kfold = KFold(n_splits=5, shuffle=True, random_state=42)\n",
    "\n",
    "# Perform k-fold cross-validation\n",
    "scores = cross_val_score(model, X_train, y_train, cv=kfold, scoring='accuracy')\n",
    "\n",
    "# Print the accuracy for each fold\n",
    "print(f'Accuracy scores for each fold: {scores}')\n",
    "\n",
    "# Print the average accuracy\n",
    "print(f'Average accuracy: {scores.mean()}')"
   ]
  },
  {
   "cell_type": "code",
   "execution_count": 2,
   "id": "0d2e3d78",
   "metadata": {},
   "outputs": [
    {
     "ename": "NameError",
     "evalue": "name 'rf' is not defined",
     "output_type": "error",
     "traceback": [
      "\u001b[1;31m---------------------------------------------------------------------------\u001b[0m",
      "\u001b[1;31mNameError\u001b[0m                                 Traceback (most recent call last)",
      "Cell \u001b[1;32mIn[2], line 7\u001b[0m\n\u001b[0;32m      3\u001b[0m \u001b[38;5;28;01mimport\u001b[39;00m \u001b[38;5;21;01mnumpy\u001b[39;00m \u001b[38;5;28;01mas\u001b[39;00m \u001b[38;5;21;01mnp\u001b[39;00m\n\u001b[0;32m      4\u001b[0m \u001b[38;5;28;01mimport\u001b[39;00m \u001b[38;5;21;01mmatplotlib\u001b[39;00m\u001b[38;5;21;01m.\u001b[39;00m\u001b[38;5;21;01mpyplot\u001b[39;00m \u001b[38;5;28;01mas\u001b[39;00m \u001b[38;5;21;01mplt\u001b[39;00m\n\u001b[1;32m----> 7\u001b[0m importances \u001b[38;5;241m=\u001b[39m rf\u001b[38;5;241m.\u001b[39mfeature_importances_\n\u001b[0;32m      8\u001b[0m std \u001b[38;5;241m=\u001b[39m np\u001b[38;5;241m.\u001b[39mstd([tree\u001b[38;5;241m.\u001b[39mfeature_importances_ \u001b[38;5;28;01mfor\u001b[39;00m tree \u001b[38;5;129;01min\u001b[39;00m rf\u001b[38;5;241m.\u001b[39mestimators_], axis\u001b[38;5;241m=\u001b[39m\u001b[38;5;241m0\u001b[39m)\n\u001b[0;32m     10\u001b[0m df \u001b[38;5;241m=\u001b[39m pd\u001b[38;5;241m.\u001b[39mDataFrame({\u001b[38;5;124m'\u001b[39m\u001b[38;5;124mfeature\u001b[39m\u001b[38;5;124m'\u001b[39m: X_train\u001b[38;5;241m.\u001b[39mcolumns, \u001b[38;5;124m'\u001b[39m\u001b[38;5;124mimportance\u001b[39m\u001b[38;5;124m'\u001b[39m: importances, \u001b[38;5;124m'\u001b[39m\u001b[38;5;124mstd\u001b[39m\u001b[38;5;124m'\u001b[39m: std})\n",
      "\u001b[1;31mNameError\u001b[0m: name 'rf' is not defined"
     ]
    }
   ],
   "source": [
    "# IGNORE \n",
    "\n",
    "import numpy as np\n",
    "import matplotlib.pyplot as plt\n",
    "\n",
    "\n",
    "importances = rf.feature_importances_\n",
    "std = np.std([tree.feature_importances_ for tree in rf.estimators_], axis=0)\n",
    "\n",
    "df = pd.DataFrame({'feature': X_train.columns, 'importance': importances, 'std': std})\n",
    "df = df.sort_values('importance')\n",
    "print(df)\n",
    "\n",
    "ax = df.plot(kind='barh', xerr='std', x='feature', legend=False)\n",
    "ax.set_ylabel('')\n",
    "\n",
    "plt.tight_layout()\n",
    "plt.show()"
   ]
  },
  {
   "cell_type": "code",
   "execution_count": 1,
   "id": "cf3bd586",
   "metadata": {},
   "outputs": [
    {
     "ename": "NameError",
     "evalue": "name 'pd' is not defined",
     "output_type": "error",
     "traceback": [
      "\u001b[1;31m---------------------------------------------------------------------------\u001b[0m",
      "\u001b[1;31mNameError\u001b[0m                                 Traceback (most recent call last)",
      "Cell \u001b[1;32mIn[1], line 3\u001b[0m\n\u001b[0;32m      1\u001b[0m \u001b[38;5;66;03m# IGNORE\u001b[39;00m\n\u001b[1;32m----> 3\u001b[0m X_train_df \u001b[38;5;241m=\u001b[39m pd\u001b[38;5;241m.\u001b[39mDataFrame(X_train, columns\u001b[38;5;241m=\u001b[39m[\u001b[38;5;124m'\u001b[39m\u001b[38;5;124mFeature1\u001b[39m\u001b[38;5;124m'\u001b[39m])  \u001b[38;5;66;03m# Replace 'Feature1' with the actual feature name\u001b[39;00m\n\u001b[0;32m      5\u001b[0m df \u001b[38;5;241m=\u001b[39m pd\u001b[38;5;241m.\u001b[39mDataFrame({\u001b[38;5;124m'\u001b[39m\u001b[38;5;124mfeature\u001b[39m\u001b[38;5;124m'\u001b[39m: X_train_df\u001b[38;5;241m.\u001b[39mcolumns, \u001b[38;5;124m'\u001b[39m\u001b[38;5;124mimportance\u001b[39m\u001b[38;5;124m'\u001b[39m: importances, \u001b[38;5;124m'\u001b[39m\u001b[38;5;124mstd\u001b[39m\u001b[38;5;124m'\u001b[39m: std})\n\u001b[0;32m      6\u001b[0m df \u001b[38;5;241m=\u001b[39m df\u001b[38;5;241m.\u001b[39msort_values(\u001b[38;5;124m'\u001b[39m\u001b[38;5;124mimportance\u001b[39m\u001b[38;5;124m'\u001b[39m)\n",
      "\u001b[1;31mNameError\u001b[0m: name 'pd' is not defined"
     ]
    }
   ],
   "source": [
    "# IGNORE\n",
    "\n",
    "X_train_df = pd.DataFrame(X_train, columns=['Feature1'])  # Replace 'Feature1' with the actual feature name\n",
    "\n",
    "df = pd.DataFrame({'feature': X_train_df.columns, 'importance': importances, 'std': std})\n",
    "df = df.sort_values('importance')\n",
    "print(df)\n",
    "\n",
    "ax = df.plot(kind='barh', xerr='std', x='feature', legend=False)\n",
    "ax.set_ylabel('')\n",
    "\n",
    "plt.tight_layout()\n",
    "plt.show()"
   ]
  },
  {
   "cell_type": "code",
   "execution_count": 27,
   "id": "e388db65",
   "metadata": {},
   "outputs": [
    {
     "ename": "AttributeError",
     "evalue": "'numpy.ndarray' object has no attribute 'columns'",
     "output_type": "error",
     "traceback": [
      "\u001b[1;31m---------------------------------------------------------------------------\u001b[0m",
      "\u001b[1;31mAttributeError\u001b[0m                            Traceback (most recent call last)",
      "Cell \u001b[1;32mIn[27], line 2\u001b[0m\n\u001b[0;32m      1\u001b[0m feature_importances \u001b[38;5;241m=\u001b[39m pd\u001b[38;5;241m.\u001b[39mDataFrame(clf\u001b[38;5;241m.\u001b[39mfeature_importances_,\n\u001b[1;32m----> 2\u001b[0m                                    index \u001b[38;5;241m=\u001b[39m X_train\u001b[38;5;241m.\u001b[39mcolumns,\n\u001b[0;32m      3\u001b[0m                                    columns\u001b[38;5;241m=\u001b[39m[\u001b[38;5;124m'\u001b[39m\u001b[38;5;124mimportance\u001b[39m\u001b[38;5;124m'\u001b[39m])\u001b[38;5;241m.\u001b[39msort_values(\u001b[38;5;124m'\u001b[39m\u001b[38;5;124mimportance\u001b[39m\u001b[38;5;124m'\u001b[39m, ascending\u001b[38;5;241m=\u001b[39m\u001b[38;5;28;01mFalse\u001b[39;00m)\n\u001b[0;32m      5\u001b[0m plt\u001b[38;5;241m.\u001b[39mfigure(figsize\u001b[38;5;241m=\u001b[39m(\u001b[38;5;241m10\u001b[39m, \u001b[38;5;241m6\u001b[39m))\n\u001b[0;32m      6\u001b[0m sns\u001b[38;5;241m.\u001b[39mbarplot(x\u001b[38;5;241m=\u001b[39mfeature_importances\u001b[38;5;241m.\u001b[39mimportance, y\u001b[38;5;241m=\u001b[39mfeature_importances\u001b[38;5;241m.\u001b[39mindex)\n",
      "\u001b[1;31mAttributeError\u001b[0m: 'numpy.ndarray' object has no attribute 'columns'"
     ]
    }
   ],
   "source": [
    "feature_importances = pd.DataFrame(clf.feature_importances_,\n",
    "                                   index = X_train.columns,\n",
    "                                   columns=['importance']).sort_values('importance', ascending=False)\n",
    "\n",
    "plt.figure(figsize=(10, 6))\n",
    "sns.barplot(x=feature_importances.importance, y=feature_importances.index)\n",
    "plt.xlabel('Importance')\n",
    "plt.ylabel('Features')\n",
    "plt.title('Feature Importance')\n",
    "plt.show()"
   ]
  },
  {
   "cell_type": "code",
   "execution_count": 21,
   "id": "b6106a20",
   "metadata": {},
   "outputs": [
    {
     "data": {
      "image/png": "[encoded data removed]",
      "text/plain": [
       "<Figure size 800x600 with 2 Axes>"
      ]
     },
     "metadata": {},
     "output_type": "display_data"
    }
   ],
   "source": [
    "from sklearn.metrics import confusion_matrix\n",
    "import seaborn as sns\n",
    "import matplotlib.pyplot as plt\n",
    "\n",
    "# Calculate the confusion matrix\n",
    "cm = confusion_matrix(y_test, predictions)\n",
    "\n",
    "# Plot the confusion matrix using Seaborn's heatmap\n",
    "plt.figure(figsize=(8, 6))\n",
    "sns.heatmap(cm, annot=True, fmt='g', cmap='Blues', xticklabels=['Below Median', 'Above Median'], yticklabels=['Below Median', 'Above Median'])\n",
    "plt.xlabel('Predicted')\n",
    "plt.ylabel('Actual')\n",
    "plt.title('Confusion Matrix')\n",
    "plt.show()"
   ]
  },
  {
   "cell_type": "code",
   "execution_count": 22,
   "id": "92ded872",
   "metadata": {},
   "outputs": [
    {
     "data": {
      "image/png": "[encoded data removed]",
      "text/plain": [
       "<Figure size 800x600 with 1 Axes>"
      ]
     },
     "metadata": {},
     "output_type": "display_data"
    }
   ],
   "source": [
    "from sklearn.metrics import roc_curve, auc\n",
    "\n",
    "# Calculate probabilities for the positive class\n",
    "probs = clf.predict_proba(X_test)[:, 1]\n",
    "\n",
    "# Calculate the ROC curve\n",
    "fpr, tpr, thresholds = roc_curve(y_test, probs)\n",
    "\n",
    "# Calculate the AUC\n",
    "roc_auc = auc(fpr, tpr)\n",
    "\n",
    "# Plot the ROC curve\n",
    "plt.figure(figsize=(8, 6))\n",
    "plt.plot(fpr, tpr, color='darkorange', lw=2, label=f'ROC curve (area = {roc_auc:.2f})')\n",
    "plt.plot([0, 1], [0, 1], color='navy', lw=2, linestyle='--')\n",
    "plt.xlim([0.0, 1.0])\n",
    "plt.ylim([0.0, 1.05])\n",
    "plt.xlabel('False Positive Rate')\n",
    "plt.ylabel('True Positive Rate')\n",
    "plt.title('Receiver Operating Characteristic (ROC) Curve')\n",
    "plt.legend(loc=\"lower right\")\n",
    "plt.show()"
   ]
  },
  {
   "cell_type": "markdown",
   "id": "61edd0a8",
   "metadata": {},
   "source": [
    "# Solar Flares and Earthquakes "
   ]
  },
  {
   "cell_type": "code",
   "execution_count": null,
   "id": "7135be2d",
   "metadata": {},
   "outputs": [],
   "source": []
  },
  {
   "cell_type": "code",
   "execution_count": 45,
   "id": "74f96c99",
   "metadata": {},
   "outputs": [],
   "source": [
    "# Make sure to load your DataFrame here\n",
    "df2 = pd.read_csv('Normalized Project Data - Solar Flare Values.csv')\n",
    "\n",
    "# Calculate the median of 'New Earthquake' column\n",
    "median_new_earthquake = df2['Earthquake'].median()\n",
    "\n",
    "# Create a binary classification target based on the median\n",
    "df2['Earthquake Classification'] = (df2['Earthquake'] > median_new_earthquake).astype(int)\n",
    "\n",
    "# Select features and target for the classification\n",
    "X = df2['Solar Flare Value']  # Features\n",
    "y = df2['Earthquake Classification']  # Binary classification target"
   ]
  },
  {
   "cell_type": "code",
   "execution_count": 33,
   "id": "84989687",
   "metadata": {},
   "outputs": [
    {
     "data": {
      "text/plain": [
       "Index(['Year', 'Month', 'Total Daily Sunspots',\n",
       "       'Northern Total Daily Sunspots', 'Southern Total Daily Sunspots',\n",
       "       'Earthquake', 'Magnitude', 'Longitude', 'Latitude', 'OutagesCount',\n",
       "       'None', 'D0', 'D1', 'D2', 'D3', 'D4', 'Solar Flare Value',\n",
       "       'Earthquake Classification'],\n",
       "      dtype='object')"
      ]
     },
     "execution_count": 33,
     "metadata": {},
     "output_type": "execute_result"
    }
   ],
   "source": [
    "df2.columns"
   ]
  },
  {
   "cell_type": "code",
   "execution_count": 34,
   "id": "1a7b6b4b",
   "metadata": {},
   "outputs": [],
   "source": [
    "X.isnull().sum()\n",
    "X.fillna(0, inplace = True)"
   ]
  },
  {
   "cell_type": "code",
   "execution_count": 35,
   "id": "0c359033",
   "metadata": {},
   "outputs": [],
   "source": [
    "import numpy as np\n",
    "\n",
    "# Reshape the feature variable X\n",
    "X = X.values.reshape(-1, 1)"
   ]
  },
  {
   "cell_type": "code",
   "execution_count": 36,
   "id": "2f466bf2",
   "metadata": {},
   "outputs": [
    {
     "name": "stdout",
     "output_type": "stream",
     "text": [
      "Accuracy: 0.5490196078431373\n",
      "Classification Report: \n",
      "              precision    recall  f1-score   support\n",
      "\n",
      "           0       0.54      0.73      0.62        26\n",
      "           1       0.56      0.36      0.44        25\n",
      "\n",
      "    accuracy                           0.55        51\n",
      "   macro avg       0.55      0.55      0.53        51\n",
      "weighted avg       0.55      0.55      0.53        51\n",
      "\n"
     ]
    }
   ],
   "source": [
    "from sklearn.metrics import accuracy_score, classification_report\n",
    "\n",
    "# Splitting dataset into training and testing set\n",
    "X_train, X_test, y_train, y_test = train_test_split(X, y, test_size=0.3, random_state=42)\n",
    "\n",
    "# Initialize the RandomForestClassifier\n",
    "clf = RandomForestClassifier(n_estimators=100, random_state=42)\n",
    "\n",
    "# Fit the model\n",
    "clf.fit(X_train, y_train)\n",
    "\n",
    "# Predictions\n",
    "predictions = clf.predict(X_test)\n",
    "\n",
    "# Calculate accuracy\n",
    "accuracy = accuracy_score(y_test, predictions)\n",
    "\n",
    "# Classification report\n",
    "report = classification_report(y_test, predictions)\n",
    "\n",
    "print(f\"Accuracy: {accuracy}\")\n",
    "print(f\"Classification Report: \\n{report}\")"
   ]
  },
  {
   "cell_type": "code",
   "execution_count": 37,
   "id": "e4216d6d",
   "metadata": {},
   "outputs": [
    {
     "data": {
      "text/html": [
       "<style>#sk-container-id-2 {color: black;}#sk-container-id-2 pre{padding: 0;}#sk-container-id-2 div.sk-toggleable {background-color: white;}#sk-container-id-2 label.sk-toggleable__label {cursor: pointer;display: block;width: 100%;margin-bottom: 0;padding: 0.3em;box-sizing: border-box;text-align: center;}#sk-container-id-2 label.sk-toggleable__label-arrow:before {content: \"▸\";float: left;margin-right: 0.25em;color: #696969;}#sk-container-id-2 label.sk-toggleable__label-arrow:hover:before {color: black;}#sk-container-id-2 div.sk-estimator:hover label.sk-toggleable__label-arrow:before {color: black;}#sk-container-id-2 div.sk-toggleable__content {max-height: 0;max-width: 0;overflow: hidden;text-align: left;background-color: #f0f8ff;}#sk-container-id-2 div.sk-toggleable__content pre {margin: 0.2em;color: black;border-radius: 0.25em;background-color: #f0f8ff;}#sk-container-id-2 input.sk-toggleable__control:checked~div.sk-toggleable__content {max-height: 200px;max-width: 100%;overflow: auto;}#sk-container-id-2 input.sk-toggleable__control:checked~label.sk-toggleable__label-arrow:before {content: \"▾\";}#sk-container-id-2 div.sk-estimator input.sk-toggleable__control:checked~label.sk-toggleable__label {background-color: #d4ebff;}#sk-container-id-2 div.sk-label input.sk-toggleable__control:checked~label.sk-toggleable__label {background-color: #d4ebff;}#sk-container-id-2 input.sk-hidden--visually {border: 0;clip: rect(1px 1px 1px 1px);clip: rect(1px, 1px, 1px, 1px);height: 1px;margin: -1px;overflow: hidden;padding: 0;position: absolute;width: 1px;}#sk-container-id-2 div.sk-estimator {font-family: monospace;background-color: #f0f8ff;border: 1px dotted black;border-radius: 0.25em;box-sizing: border-box;margin-bottom: 0.5em;}#sk-container-id-2 div.sk-estimator:hover {background-color: #d4ebff;}#sk-container-id-2 div.sk-parallel-item::after {content: \"\";width: 100%;border-bottom: 1px solid gray;flex-grow: 1;}#sk-container-id-2 div.sk-label:hover label.sk-toggleable__label {background-color: #d4ebff;}#sk-container-id-2 div.sk-serial::before {content: \"\";position: absolute;border-left: 1px solid gray;box-sizing: border-box;top: 0;bottom: 0;left: 50%;z-index: 0;}#sk-container-id-2 div.sk-serial {display: flex;flex-direction: column;align-items: center;background-color: white;padding-right: 0.2em;padding-left: 0.2em;position: relative;}#sk-container-id-2 div.sk-item {position: relative;z-index: 1;}#sk-container-id-2 div.sk-parallel {display: flex;align-items: stretch;justify-content: center;background-color: white;position: relative;}#sk-container-id-2 div.sk-item::before, #sk-container-id-2 div.sk-parallel-item::before {content: \"\";position: absolute;border-left: 1px solid gray;box-sizing: border-box;top: 0;bottom: 0;left: 50%;z-index: -1;}#sk-container-id-2 div.sk-parallel-item {display: flex;flex-direction: column;z-index: 1;position: relative;background-color: white;}#sk-container-id-2 div.sk-parallel-item:first-child::after {align-self: flex-end;width: 50%;}#sk-container-id-2 div.sk-parallel-item:last-child::after {align-self: flex-start;width: 50%;}#sk-container-id-2 div.sk-parallel-item:only-child::after {width: 0;}#sk-container-id-2 div.sk-dashed-wrapped {border: 1px dashed gray;margin: 0 0.4em 0.5em 0.4em;box-sizing: border-box;padding-bottom: 0.4em;background-color: white;}#sk-container-id-2 div.sk-label label {font-family: monospace;font-weight: bold;display: inline-block;line-height: 1.2em;}#sk-container-id-2 div.sk-label-container {text-align: center;}#sk-container-id-2 div.sk-container {/* jupyter's `normalize.less` sets `[hidden] { display: none; }` but bootstrap.min.css set `[hidden] { display: none !important; }` so we also need the `!important` here to be able to override the default hidden behavior on the sphinx rendered scikit-learn.org. See: https://github.com/scikit-learn/scikit-learn/issues/21755 */display: inline-block !important;position: relative;}#sk-container-id-2 div.sk-text-repr-fallback {display: none;}</style><div id=\"sk-container-id-2\" class=\"sk-top-container\"><div class=\"sk-text-repr-fallback\"><pre>RandomForestClassifier(n_estimators=500, random_state=1)</pre><b>In a Jupyter environment, please rerun this cell to show the HTML representation or trust the notebook. <br />On GitHub, the HTML representation is unable to render, please try loading this page with nbviewer.org.</b></div><div class=\"sk-container\" hidden><div class=\"sk-item\"><div class=\"sk-estimator sk-toggleable\"><input class=\"sk-toggleable__control sk-hidden--visually\" id=\"sk-estimator-id-2\" type=\"checkbox\" checked><label for=\"sk-estimator-id-2\" class=\"sk-toggleable__label sk-toggleable__label-arrow\">RandomForestClassifier</label><div class=\"sk-toggleable__content\"><pre>RandomForestClassifier(n_estimators=500, random_state=1)</pre></div></div></div></div></div>"
      ],
      "text/plain": [
       "RandomForestClassifier(n_estimators=500, random_state=1)"
      ]
     },
     "execution_count": 37,
     "metadata": {},
     "output_type": "execute_result"
    }
   ],
   "source": [
    "rf = RandomForestClassifier(n_estimators=500, random_state=1)\n",
    "rf.fit(X_train, y_train)"
   ]
  },
  {
   "cell_type": "code",
   "execution_count": 38,
   "id": "6eee287c",
   "metadata": {},
   "outputs": [
    {
     "name": "stdout",
     "output_type": "stream",
     "text": [
      "Accuracy scores for each fold: [0.58333333 0.54166667 0.58333333 0.56521739 0.52173913]\n",
      "Average accuracy: 0.5590579710144927\n"
     ]
    }
   ],
   "source": [
    "from sklearn.model_selection import cross_val_score, KFold\n",
    "from sklearn.ensemble import RandomForestClassifier\n",
    "from sklearn.datasets import load_iris\n",
    "\n",
    "# Initialize the model\n",
    "model = RandomForestClassifier(n_estimators=100)\n",
    "\n",
    "# Configure the k-fold process\n",
    "kfold = KFold(n_splits=5, shuffle=True, random_state=42)\n",
    "\n",
    "# Perform k-fold cross-validation\n",
    "scores = cross_val_score(model, X_train, y_train, cv=kfold, scoring='accuracy')\n",
    "\n",
    "# Print the accuracy for each fold\n",
    "print(f'Accuracy scores for each fold: {scores}')\n",
    "\n",
    "# Print the average accuracy\n",
    "print(f'Average accuracy: {scores.mean()}')"
   ]
  },
  {
   "cell_type": "code",
   "execution_count": 39,
   "id": "174e9aff",
   "metadata": {},
   "outputs": [
    {
     "ename": "AttributeError",
     "evalue": "'numpy.ndarray' object has no attribute 'columns'",
     "output_type": "error",
     "traceback": [
      "\u001b[1;31m---------------------------------------------------------------------------\u001b[0m",
      "\u001b[1;31mAttributeError\u001b[0m                            Traceback (most recent call last)",
      "Cell \u001b[1;32mIn[39], line 8\u001b[0m\n\u001b[0;32m      5\u001b[0m importances \u001b[38;5;241m=\u001b[39m rf\u001b[38;5;241m.\u001b[39mfeature_importances_\n\u001b[0;32m      6\u001b[0m std \u001b[38;5;241m=\u001b[39m np\u001b[38;5;241m.\u001b[39mstd([tree\u001b[38;5;241m.\u001b[39mfeature_importances_ \u001b[38;5;28;01mfor\u001b[39;00m tree \u001b[38;5;129;01min\u001b[39;00m rf\u001b[38;5;241m.\u001b[39mestimators_], axis\u001b[38;5;241m=\u001b[39m\u001b[38;5;241m0\u001b[39m)\n\u001b[1;32m----> 8\u001b[0m df \u001b[38;5;241m=\u001b[39m pd\u001b[38;5;241m.\u001b[39mDataFrame({\u001b[38;5;124m'\u001b[39m\u001b[38;5;124mfeature\u001b[39m\u001b[38;5;124m'\u001b[39m: X_train\u001b[38;5;241m.\u001b[39mcolumns, \u001b[38;5;124m'\u001b[39m\u001b[38;5;124mimportance\u001b[39m\u001b[38;5;124m'\u001b[39m: importances, \u001b[38;5;124m'\u001b[39m\u001b[38;5;124mstd\u001b[39m\u001b[38;5;124m'\u001b[39m: std})\n\u001b[0;32m      9\u001b[0m df \u001b[38;5;241m=\u001b[39m df\u001b[38;5;241m.\u001b[39msort_values(\u001b[38;5;124m'\u001b[39m\u001b[38;5;124mimportance\u001b[39m\u001b[38;5;124m'\u001b[39m)\n\u001b[0;32m     10\u001b[0m \u001b[38;5;28mprint\u001b[39m(df)\n",
      "\u001b[1;31mAttributeError\u001b[0m: 'numpy.ndarray' object has no attribute 'columns'"
     ]
    }
   ],
   "source": [
    "import numpy as np\n",
    "import matplotlib.pyplot as plt\n",
    "\n",
    "\n",
    "importances = rf.feature_importances_\n",
    "std = np.std([tree.feature_importances_ for tree in rf.estimators_], axis=0)\n",
    "\n",
    "df = pd.DataFrame({'feature': X_train.columns, 'importance': importances, 'std': std})\n",
    "df = df.sort_values('importance')\n",
    "print(df)\n",
    "\n",
    "ax = df.plot(kind='barh', xerr='std', x='feature', legend=False)\n",
    "ax.set_ylabel('')\n",
    "\n",
    "plt.tight_layout()\n",
    "plt.show()"
   ]
  },
  {
   "cell_type": "code",
   "execution_count": 41,
   "id": "1adec436",
   "metadata": {},
   "outputs": [
    {
     "ename": "AttributeError",
     "evalue": "'numpy.ndarray' object has no attribute 'columns'",
     "output_type": "error",
     "traceback": [
      "\u001b[1;31m---------------------------------------------------------------------------\u001b[0m",
      "\u001b[1;31mAttributeError\u001b[0m                            Traceback (most recent call last)",
      "Cell \u001b[1;32mIn[41], line 2\u001b[0m\n\u001b[0;32m      1\u001b[0m feature_importances \u001b[38;5;241m=\u001b[39m pd\u001b[38;5;241m.\u001b[39mDataFrame(clf\u001b[38;5;241m.\u001b[39mfeature_importances_,\n\u001b[1;32m----> 2\u001b[0m                                    index \u001b[38;5;241m=\u001b[39m X_train\u001b[38;5;241m.\u001b[39mcolumns,\n\u001b[0;32m      3\u001b[0m                                    columns\u001b[38;5;241m=\u001b[39m[\u001b[38;5;124m'\u001b[39m\u001b[38;5;124mimportance\u001b[39m\u001b[38;5;124m'\u001b[39m])\u001b[38;5;241m.\u001b[39msort_values(\u001b[38;5;124m'\u001b[39m\u001b[38;5;124mimportance\u001b[39m\u001b[38;5;124m'\u001b[39m, ascending\u001b[38;5;241m=\u001b[39m\u001b[38;5;28;01mFalse\u001b[39;00m)\n\u001b[0;32m      5\u001b[0m plt\u001b[38;5;241m.\u001b[39mfigure(figsize\u001b[38;5;241m=\u001b[39m(\u001b[38;5;241m10\u001b[39m, \u001b[38;5;241m6\u001b[39m))\n\u001b[0;32m      6\u001b[0m sns\u001b[38;5;241m.\u001b[39mbarplot(x\u001b[38;5;241m=\u001b[39mfeature_importances\u001b[38;5;241m.\u001b[39mimportance, y\u001b[38;5;241m=\u001b[39mfeature_importances\u001b[38;5;241m.\u001b[39mindex)\n",
      "\u001b[1;31mAttributeError\u001b[0m: 'numpy.ndarray' object has no attribute 'columns'"
     ]
    }
   ],
   "source": [
    "feature_importances = pd.DataFrame(clf.feature_importances_,\n",
    "                                   index = X_train.columns,\n",
    "                                   columns=['importance']).sort_values('importance', ascending=False)\n",
    "\n",
    "plt.figure(figsize=(10, 6))\n",
    "sns.barplot(x=feature_importances.importance, y=feature_importances.index)\n",
    "plt.xlabel('Importance')\n",
    "plt.ylabel('Features')\n",
    "plt.title('Feature Importance')\n",
    "plt.show()"
   ]
  },
  {
   "cell_type": "code",
   "execution_count": 42,
   "id": "2d0adc0b",
   "metadata": {},
   "outputs": [
    {
     "data": {
      "image/png": "[encoded data removed]",
      "text/plain": [
       "<Figure size 800x600 with 2 Axes>"
      ]
     },
     "metadata": {},
     "output_type": "display_data"
    }
   ],
   "source": [
    "from sklearn.metrics import confusion_matrix\n",
    "import seaborn as sns\n",
    "import matplotlib.pyplot as plt\n",
    "\n",
    "# Calculate the confusion matrix\n",
    "cm = confusion_matrix(y_test, predictions)\n",
    "\n",
    "# Plot the confusion matrix using Seaborn's heatmap\n",
    "plt.figure(figsize=(8, 6))\n",
    "sns.heatmap(cm, annot=True, fmt='g', cmap='Blues', xticklabels=['Below Median', 'Above Median'], yticklabels=['Below Median', 'Above Median'])\n",
    "plt.xlabel('Predicted')\n",
    "plt.ylabel('Actual')\n",
    "plt.title('Confusion Matrix')\n",
    "plt.show()"
   ]
  },
  {
   "cell_type": "code",
   "execution_count": 43,
   "id": "fab48375",
   "metadata": {},
   "outputs": [
    {
     "data": {
      "image/png": "[encoded data removed]",
      "text/plain": [
       "<Figure size 800x600 with 1 Axes>"
      ]
     },
     "metadata": {},
     "output_type": "display_data"
    }
   ],
   "source": [
    "from sklearn.metrics import roc_curve, auc\n",
    "\n",
    "# Calculate probabilities for the positive class\n",
    "probs = clf.predict_proba(X_test)[:, 1]\n",
    "\n",
    "# Calculate the ROC curve\n",
    "fpr, tpr, thresholds = roc_curve(y_test, probs)\n",
    "\n",
    "# Calculate the AUC\n",
    "roc_auc = auc(fpr, tpr)\n",
    "\n",
    "# Plot the ROC curve\n",
    "plt.figure(figsize=(8, 6))\n",
    "plt.plot(fpr, tpr, color='darkorange', lw=2, label=f'ROC curve (area = {roc_auc:.2f})')\n",
    "plt.plot([0, 1], [0, 1], color='navy', lw=2, linestyle='--')\n",
    "plt.xlim([0.0, 1.0])\n",
    "plt.ylim([0.0, 1.05])\n",
    "plt.xlabel('False Positive Rate')\n",
    "plt.ylabel('True Positive Rate')\n",
    "plt.title('Receiver Operating Characteristic (ROC) Curve')\n",
    "plt.legend(loc=\"lower right\")\n",
    "plt.show()"
   ]
  },
  {
   "cell_type": "code",
   "execution_count": null,
   "id": "87d5936f",
   "metadata": {},
   "outputs": [],
   "source": []
  }
 ],
 "metadata": {
  "kernelspec": {
   "display_name": "Python 3 (ipykernel)",
   "language": "python",
   "name": "python3"
  },
  "language_info": {
   "codemirror_mode": {
    "name": "ipython",
    "version": 3
   },
   "file_extension": ".py",
   "mimetype": "text/x-python",
   "name": "python",
   "nbconvert_exporter": "python",
   "pygments_lexer": "ipython3",
   "version": "3.11.5"
  }
 },
 "nbformat": 4,
 "nbformat_minor": 5
}
